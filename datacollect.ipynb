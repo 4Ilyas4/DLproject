{
 "cells": [
  {
   "cell_type": "code",
   "execution_count": 33,
   "id": "95ee789b",
   "metadata": {},
   "outputs": [],
   "source": [
    "import polars as pl\n",
    "import pandas as pd"
   ]
  },
  {
   "cell_type": "code",
   "execution_count": 3,
   "id": "15d98df2",
   "metadata": {},
   "outputs": [],
   "source": [
    "pr = pl.read_csv(\"./data/ProductionUnit.csv\",ignore_errors=True)\n",
    "spec_pr = pl.read_csv(\"./data/Specification_ProductionUnit.csv\",ignore_errors=True)"
   ]
  },
  {
   "cell_type": "code",
   "execution_count": 4,
   "id": "f062a7b7",
   "metadata": {},
   "outputs": [
    {
     "data": {
      "text/html": [
       "<div><style>\n",
       ".dataframe > thead > tr,\n",
       ".dataframe > tbody > tr {\n",
       "  text-align: right;\n",
       "  white-space: pre-wrap;\n",
       "}\n",
       "</style>\n",
       "<small>shape: (8, 2)</small><table border=\"1\" class=\"dataframe\"><thead><tr><th>column</th><th>n_unique</th></tr><tr><td>str</td><td>i64</td></tr></thead><tbody><tr><td>&quot;ProductionUnitID&quot;</td><td>1039625</td></tr><tr><td>&quot;ManufactureDate&quot;</td><td>16040</td></tr><tr><td>&quot;EngineNumber&quot;</td><td>1018502</td></tr><tr><td>&quot;PrimaryBuildCode&quot;</td><td>3474</td></tr><tr><td>&quot;RetailDealerAccount&quot;</td><td>2711</td></tr><tr><td>&quot;SalesModel&quot;</td><td>1926</td></tr><tr><td>&quot;SerialNumber&quot;</td><td>1037318</td></tr><tr><td>&quot;OwnershipGroupID&quot;</td><td>2</td></tr></tbody></table></div>"
      ],
      "text/plain": [
       "shape: (8, 2)\n",
       "┌─────────────────────┬──────────┐\n",
       "│ column              ┆ n_unique │\n",
       "│ ---                 ┆ ---      │\n",
       "│ str                 ┆ i64      │\n",
       "╞═════════════════════╪══════════╡\n",
       "│ ProductionUnitID    ┆ 1039625  │\n",
       "│ ManufactureDate     ┆ 16040    │\n",
       "│ EngineNumber        ┆ 1018502  │\n",
       "│ PrimaryBuildCode    ┆ 3474     │\n",
       "│ RetailDealerAccount ┆ 2711     │\n",
       "│ SalesModel          ┆ 1926     │\n",
       "│ SerialNumber        ┆ 1037318  │\n",
       "│ OwnershipGroupID    ┆ 2        │\n",
       "└─────────────────────┴──────────┘"
      ]
     },
     "execution_count": 4,
     "metadata": {},
     "output_type": "execute_result"
    }
   ],
   "source": [
    "pl.DataFrame({\n",
    "    \"column\": pr.columns,\n",
    "    \"n_unique\": [pr[col].n_unique() for col in pr.columns]\n",
    "})"
   ]
  },
  {
   "cell_type": "code",
   "execution_count": 5,
   "id": "0c1fde6e",
   "metadata": {},
   "outputs": [
    {
     "data": {
      "text/html": [
       "<div><style>\n",
       ".dataframe > thead > tr,\n",
       ".dataframe > tbody > tr {\n",
       "  text-align: right;\n",
       "  white-space: pre-wrap;\n",
       "}\n",
       "</style>\n",
       "<small>shape: (2, 2)</small><table border=\"1\" class=\"dataframe\"><thead><tr><th>column</th><th>n_unique</th></tr><tr><td>str</td><td>i64</td></tr></thead><tbody><tr><td>&quot;ProductionUnitID&quot;</td><td>718591</td></tr><tr><td>&quot;SpecificationID&quot;</td><td>1508</td></tr></tbody></table></div>"
      ],
      "text/plain": [
       "shape: (2, 2)\n",
       "┌──────────────────┬──────────┐\n",
       "│ column           ┆ n_unique │\n",
       "│ ---              ┆ ---      │\n",
       "│ str              ┆ i64      │\n",
       "╞══════════════════╪══════════╡\n",
       "│ ProductionUnitID ┆ 718591   │\n",
       "│ SpecificationID  ┆ 1508     │\n",
       "└──────────────────┴──────────┘"
      ]
     },
     "execution_count": 5,
     "metadata": {},
     "output_type": "execute_result"
    }
   ],
   "source": [
    "pl.DataFrame({\n",
    "    \"column\": spec_pr.columns,\n",
    "    \"n_unique\": [spec_pr[col].n_unique() for col in spec_pr.columns]\n",
    "})"
   ]
  },
  {
   "cell_type": "code",
   "execution_count": 6,
   "id": "1e44512e",
   "metadata": {},
   "outputs": [],
   "source": [
    "s =  pl.read_csv(\"./data/Specification.csv\",ignore_errors=True)"
   ]
  },
  {
   "cell_type": "code",
   "execution_count": 7,
   "id": "a175ec50",
   "metadata": {},
   "outputs": [],
   "source": [
    "sppr = pr.join(spec_pr,on=\"ProductionUnitID\")"
   ]
  },
  {
   "cell_type": "code",
   "execution_count": 8,
   "id": "dae92310",
   "metadata": {},
   "outputs": [
    {
     "data": {
      "text/html": [
       "<div><style>\n",
       ".dataframe > thead > tr,\n",
       ".dataframe > tbody > tr {\n",
       "  text-align: right;\n",
       "  white-space: pre-wrap;\n",
       "}\n",
       "</style>\n",
       "<small>shape: (924_458, 9)</small><table border=\"1\" class=\"dataframe\"><thead><tr><th>ProductionUnitID</th><th>ManufactureDate</th><th>EngineNumber</th><th>PrimaryBuildCode</th><th>RetailDealerAccount</th><th>SalesModel</th><th>SerialNumber</th><th>OwnershipGroupID</th><th>SpecificationID</th></tr><tr><td>str</td><td>str</td><td>str</td><td>i64</td><td>f64</td><td>str</td><td>i64</td><td>str</td><td>str</td></tr></thead><tbody><tr><td>&quot;3F4D21D2-F442-477A-B656-000012…</td><td>&quot;2000-12-22&quot;</td><td>&quot;KR50682U947026G&nbsp;&nbsp;&nbsp;&nbsp;&nbsp;&quot;</td><td>8902</td><td>null</td><td>&quot;JCB 1CX&quot;</td><td>807250</td><td>&quot;E93C6831-E861-4D20-93C0-37D88E…</td><td>&quot;FD44BF18-4EDF-44ED-AA1A-9E0311…</td></tr><tr><td>&quot;82516147-E3E0-4583-B594-00002E…</td><td>&quot;2005-11-22&quot;</td><td>&quot;SB40063U0875905&nbsp;&nbsp;&nbsp;&nbsp;&nbsp;&quot;</td><td>2199</td><td>null</td><td>&quot;4CX4WSSMPC&quot;</td><td>966370</td><td>&quot;E93C6831-E861-4D20-93C0-37D88E…</td><td>&quot;B1F028F1-6FC2-4FFF-A0DC-A67325…</td></tr><tr><td>&quot;47A27968-A025-417B-9795-000037…</td><td>&quot;2004-03-23&quot;</td><td>&quot;A4BG1-135853&nbsp;&nbsp;&nbsp;&nbsp;&nbsp;&nbsp;&nbsp;&nbsp;&quot;</td><td>9712</td><td>null</td><td>&quot;JS145W TAB&quot;</td><td>810230</td><td>&quot;E93C6831-E861-4D20-93C0-37D88E…</td><td>&quot;52081A60-B4A6-4F79-91EB-6FEDA9…</td></tr><tr><td>&quot;C9FCD6B3-7A73-4F0D-9388-000038…</td><td>&quot;1988-06-10&quot;</td><td>&quot;AB50279/503059S&nbsp;&nbsp;&nbsp;&nbsp;&nbsp;&quot;</td><td>null</td><td>2167.0</td><td>&quot;1700C-4&nbsp;&nbsp;&nbsp;&quot;</td><td>338637</td><td>&quot;E93C6831-E861-4D20-93C0-37D88E…</td><td>&quot;541A1795-2603-47BB-82C1-EEE5CD…</td></tr><tr><td>&quot;069AD196-4DBA-44AF-82B4-00003B…</td><td>&quot;1999-09-15&quot;</td><td>&quot;AK50628U046892F&nbsp;&nbsp;&nbsp;&nbsp;&nbsp;&quot;</td><td>2029</td><td>7766.0</td><td>&quot;3CX-4T&quot;</td><td>485420</td><td>&quot;E93C6831-E861-4D20-93C0-37D88E…</td><td>&quot;C43109D5-89A1-409D-908A-807700…</td></tr><tr><td>&hellip;</td><td>&hellip;</td><td>&hellip;</td><td>&hellip;</td><td>&hellip;</td><td>&hellip;</td><td>&hellip;</td><td>&hellip;</td><td>&hellip;</td></tr><tr><td>&quot;D21269CF-B07E-4E44-9FFE-FFFF8A…</td><td>&quot;2013-04-25&quot;</td><td>&quot;GS65778J631668X&nbsp;&nbsp;&nbsp;&nbsp;&nbsp;&quot;</td><td>8435</td><td>8135.0</td><td>&quot;8035 ZTS&quot;</td><td>2022492</td><td>&quot;E93C6831-E861-4D20-93C0-37D88E…</td><td>&quot;F4821BBC-1A3F-4178-83CC-CF1024…</td></tr><tr><td>&quot;A3A948F6-3DD6-4521-8ECA-FFFF8C…</td><td>&quot;1990-03-14&quot;</td><td>&quot;AA50261U539781T&nbsp;&nbsp;&nbsp;&nbsp;&nbsp;&quot;</td><td>null</td><td>1004.0</td><td>&quot;530-120&nbsp;&nbsp;&nbsp;&quot;</td><td>563618</td><td>&quot;E93C6831-E861-4D20-93C0-37D88E…</td><td>&quot;75796EC4-45E0-490D-8E42-017497…</td></tr><tr><td>&quot;B295D907-765B-4F43-ABA3-FFFFC3…</td><td>&quot;2003-06-16&quot;</td><td>&quot;6BG1T-156186&nbsp;&nbsp;&nbsp;&nbsp;&nbsp;&nbsp;&nbsp;&nbsp;&quot;</td><td>9626</td><td>1005.0</td><td>&quot;JS220LC&quot;</td><td>1018086</td><td>&quot;E93C6831-E861-4D20-93C0-37D88E…</td><td>&quot;E5187B8A-E93E-464F-8012-3CC007…</td></tr><tr><td>&quot;1CD831F5-7445-4CD9-9692-FFFFEE…</td><td>&quot;1994-01-17&quot;</td><td>&quot;AA50460U635493X&nbsp;&nbsp;&nbsp;&nbsp;&nbsp;&quot;</td><td>null</td><td>1012.0</td><td>&quot;520-55RS&nbsp;&nbsp;&quot;</td><td>277243</td><td>&quot;E93C6831-E861-4D20-93C0-37D88E…</td><td>&quot;32D9DF5D-B038-44FC-9FA6-43D4C0…</td></tr><tr><td>&quot;1CD831F5-7445-4CD9-9692-FFFFEE…</td><td>&quot;1994-01-17&quot;</td><td>&quot;AA50460U635493X&nbsp;&nbsp;&nbsp;&nbsp;&nbsp;&quot;</td><td>null</td><td>1012.0</td><td>&quot;520-55RS&nbsp;&nbsp;&quot;</td><td>277243</td><td>&quot;E93C6831-E861-4D20-93C0-37D88E…</td><td>&quot;597A123D-5DE1-4071-AB79-676610…</td></tr></tbody></table></div>"
      ],
      "text/plain": [
       "shape: (924_458, 9)\n",
       "┌───────────┬───────────┬───────────┬───────────┬───┬───────────┬───────────┬───────────┬──────────┐\n",
       "│ Productio ┆ Manufactu ┆ EngineNum ┆ PrimaryBu ┆ … ┆ SalesMode ┆ SerialNum ┆ Ownership ┆ Specific │\n",
       "│ nUnitID   ┆ reDate    ┆ ber       ┆ ildCode   ┆   ┆ l         ┆ ber       ┆ GroupID   ┆ ationID  │\n",
       "│ ---       ┆ ---       ┆ ---       ┆ ---       ┆   ┆ ---       ┆ ---       ┆ ---       ┆ ---      │\n",
       "│ str       ┆ str       ┆ str       ┆ i64       ┆   ┆ str       ┆ i64       ┆ str       ┆ str      │\n",
       "╞═══════════╪═══════════╪═══════════╪═══════════╪═══╪═══════════╪═══════════╪═══════════╪══════════╡\n",
       "│ 3F4D21D2- ┆ 2000-12-2 ┆ KR50682U9 ┆ 8902      ┆ … ┆ JCB 1CX   ┆ 807250    ┆ E93C6831- ┆ FD44BF18 │\n",
       "│ F442-477A ┆ 2         ┆ 47026G    ┆           ┆   ┆           ┆           ┆ E861-4D20 ┆ -4EDF-44 │\n",
       "│ -B656-000 ┆           ┆           ┆           ┆   ┆           ┆           ┆ -93C0-37D ┆ ED-AA1A- │\n",
       "│ 012…      ┆           ┆           ┆           ┆   ┆           ┆           ┆ 88E…      ┆ 9E0311…  │\n",
       "│ 82516147- ┆ 2005-11-2 ┆ SB40063U0 ┆ 2199      ┆ … ┆ 4CX4WSSMP ┆ 966370    ┆ E93C6831- ┆ B1F028F1 │\n",
       "│ E3E0-4583 ┆ 2         ┆ 875905    ┆           ┆   ┆ C         ┆           ┆ E861-4D20 ┆ -6FC2-4F │\n",
       "│ -B594-000 ┆           ┆           ┆           ┆   ┆           ┆           ┆ -93C0-37D ┆ FF-A0DC- │\n",
       "│ 02E…      ┆           ┆           ┆           ┆   ┆           ┆           ┆ 88E…      ┆ A67325…  │\n",
       "│ 47A27968- ┆ 2004-03-2 ┆ A4BG1-135 ┆ 9712      ┆ … ┆ JS145W    ┆ 810230    ┆ E93C6831- ┆ 52081A60 │\n",
       "│ A025-417B ┆ 3         ┆ 853       ┆           ┆   ┆ TAB       ┆           ┆ E861-4D20 ┆ -B4A6-4F │\n",
       "│ -9795-000 ┆           ┆           ┆           ┆   ┆           ┆           ┆ -93C0-37D ┆ 79-91EB- │\n",
       "│ 037…      ┆           ┆           ┆           ┆   ┆           ┆           ┆ 88E…      ┆ 6FEDA9…  │\n",
       "│ C9FCD6B3- ┆ 1988-06-1 ┆ AB50279/5 ┆ null      ┆ … ┆ 1700C-4   ┆ 338637    ┆ E93C6831- ┆ 541A1795 │\n",
       "│ 7A73-4F0D ┆ 0         ┆ 03059S    ┆           ┆   ┆           ┆           ┆ E861-4D20 ┆ -2603-47 │\n",
       "│ -9388-000 ┆           ┆           ┆           ┆   ┆           ┆           ┆ -93C0-37D ┆ BB-82C1- │\n",
       "│ 038…      ┆           ┆           ┆           ┆   ┆           ┆           ┆ 88E…      ┆ EEE5CD…  │\n",
       "│ 069AD196- ┆ 1999-09-1 ┆ AK50628U0 ┆ 2029      ┆ … ┆ 3CX-4T    ┆ 485420    ┆ E93C6831- ┆ C43109D5 │\n",
       "│ 4DBA-44AF ┆ 5         ┆ 46892F    ┆           ┆   ┆           ┆           ┆ E861-4D20 ┆ -89A1-40 │\n",
       "│ -82B4-000 ┆           ┆           ┆           ┆   ┆           ┆           ┆ -93C0-37D ┆ 9D-908A- │\n",
       "│ 03B…      ┆           ┆           ┆           ┆   ┆           ┆           ┆ 88E…      ┆ 807700…  │\n",
       "│ …         ┆ …         ┆ …         ┆ …         ┆ … ┆ …         ┆ …         ┆ …         ┆ …        │\n",
       "│ D21269CF- ┆ 2013-04-2 ┆ GS65778J6 ┆ 8435      ┆ … ┆ 8035 ZTS  ┆ 2022492   ┆ E93C6831- ┆ F4821BBC │\n",
       "│ B07E-4E44 ┆ 5         ┆ 31668X    ┆           ┆   ┆           ┆           ┆ E861-4D20 ┆ -1A3F-41 │\n",
       "│ -9FFE-FFF ┆           ┆           ┆           ┆   ┆           ┆           ┆ -93C0-37D ┆ 78-83CC- │\n",
       "│ F8A…      ┆           ┆           ┆           ┆   ┆           ┆           ┆ 88E…      ┆ CF1024…  │\n",
       "│ A3A948F6- ┆ 1990-03-1 ┆ AA50261U5 ┆ null      ┆ … ┆ 530-120   ┆ 563618    ┆ E93C6831- ┆ 75796EC4 │\n",
       "│ 3DD6-4521 ┆ 4         ┆ 39781T    ┆           ┆   ┆           ┆           ┆ E861-4D20 ┆ -45E0-49 │\n",
       "│ -8ECA-FFF ┆           ┆           ┆           ┆   ┆           ┆           ┆ -93C0-37D ┆ 0D-8E42- │\n",
       "│ F8C…      ┆           ┆           ┆           ┆   ┆           ┆           ┆ 88E…      ┆ 017497…  │\n",
       "│ B295D907- ┆ 2003-06-1 ┆ 6BG1T-156 ┆ 9626      ┆ … ┆ JS220LC   ┆ 1018086   ┆ E93C6831- ┆ E5187B8A │\n",
       "│ 765B-4F43 ┆ 6         ┆ 186       ┆           ┆   ┆           ┆           ┆ E861-4D20 ┆ -E93E-46 │\n",
       "│ -ABA3-FFF ┆           ┆           ┆           ┆   ┆           ┆           ┆ -93C0-37D ┆ 4F-8012- │\n",
       "│ FC3…      ┆           ┆           ┆           ┆   ┆           ┆           ┆ 88E…      ┆ 3CC007…  │\n",
       "│ 1CD831F5- ┆ 1994-01-1 ┆ AA50460U6 ┆ null      ┆ … ┆ 520-55RS  ┆ 277243    ┆ E93C6831- ┆ 32D9DF5D │\n",
       "│ 7445-4CD9 ┆ 7         ┆ 35493X    ┆           ┆   ┆           ┆           ┆ E861-4D20 ┆ -B038-44 │\n",
       "│ -9692-FFF ┆           ┆           ┆           ┆   ┆           ┆           ┆ -93C0-37D ┆ FC-9FA6- │\n",
       "│ FEE…      ┆           ┆           ┆           ┆   ┆           ┆           ┆ 88E…      ┆ 43D4C0…  │\n",
       "│ 1CD831F5- ┆ 1994-01-1 ┆ AA50460U6 ┆ null      ┆ … ┆ 520-55RS  ┆ 277243    ┆ E93C6831- ┆ 597A123D │\n",
       "│ 7445-4CD9 ┆ 7         ┆ 35493X    ┆           ┆   ┆           ┆           ┆ E861-4D20 ┆ -5DE1-40 │\n",
       "│ -9692-FFF ┆           ┆           ┆           ┆   ┆           ┆           ┆ -93C0-37D ┆ 71-AB79- │\n",
       "│ FEE…      ┆           ┆           ┆           ┆   ┆           ┆           ┆ 88E…      ┆ 676610…  │\n",
       "└───────────┴───────────┴───────────┴───────────┴───┴───────────┴───────────┴───────────┴──────────┘"
      ]
     },
     "execution_count": 8,
     "metadata": {},
     "output_type": "execute_result"
    }
   ],
   "source": [
    "sppr"
   ]
  },
  {
   "cell_type": "code",
   "execution_count": 9,
   "id": "eb6790c6",
   "metadata": {},
   "outputs": [
    {
     "data": {
      "text/html": [
       "<div><style>\n",
       ".dataframe > thead > tr,\n",
       ".dataframe > tbody > tr {\n",
       "  text-align: right;\n",
       "  white-space: pre-wrap;\n",
       "}\n",
       "</style>\n",
       "<small>shape: (9, 2)</small><table border=\"1\" class=\"dataframe\"><thead><tr><th>column</th><th>n_unique</th></tr><tr><td>str</td><td>i64</td></tr></thead><tbody><tr><td>&quot;ProductionUnitID&quot;</td><td>718591</td></tr><tr><td>&quot;ManufactureDate&quot;</td><td>12586</td></tr><tr><td>&quot;EngineNumber&quot;</td><td>702183</td></tr><tr><td>&quot;PrimaryBuildCode&quot;</td><td>2390</td></tr><tr><td>&quot;RetailDealerAccount&quot;</td><td>2403</td></tr><tr><td>&quot;SalesModel&quot;</td><td>1129</td></tr><tr><td>&quot;SerialNumber&quot;</td><td>717601</td></tr><tr><td>&quot;OwnershipGroupID&quot;</td><td>2</td></tr><tr><td>&quot;SpecificationID&quot;</td><td>1508</td></tr></tbody></table></div>"
      ],
      "text/plain": [
       "shape: (9, 2)\n",
       "┌─────────────────────┬──────────┐\n",
       "│ column              ┆ n_unique │\n",
       "│ ---                 ┆ ---      │\n",
       "│ str                 ┆ i64      │\n",
       "╞═════════════════════╪══════════╡\n",
       "│ ProductionUnitID    ┆ 718591   │\n",
       "│ ManufactureDate     ┆ 12586    │\n",
       "│ EngineNumber        ┆ 702183   │\n",
       "│ PrimaryBuildCode    ┆ 2390     │\n",
       "│ RetailDealerAccount ┆ 2403     │\n",
       "│ SalesModel          ┆ 1129     │\n",
       "│ SerialNumber        ┆ 717601   │\n",
       "│ OwnershipGroupID    ┆ 2        │\n",
       "│ SpecificationID     ┆ 1508     │\n",
       "└─────────────────────┴──────────┘"
      ]
     },
     "execution_count": 9,
     "metadata": {},
     "output_type": "execute_result"
    }
   ],
   "source": [
    "pl.DataFrame({\n",
    "    \"column\": sppr.columns,\n",
    "    \"n_unique\": [sppr[col].n_unique() for col in sppr.columns]\n",
    "})"
   ]
  },
  {
   "cell_type": "code",
   "execution_count": 10,
   "id": "f77a4fb3",
   "metadata": {},
   "outputs": [],
   "source": [
    "sspr = sppr.join(s,on=\"SpecificationID\",how=\"left\")"
   ]
  },
  {
   "cell_type": "code",
   "execution_count": 11,
   "id": "b33e195a",
   "metadata": {},
   "outputs": [
    {
     "data": {
      "text/html": [
       "<div><style>\n",
       ".dataframe > thead > tr,\n",
       ".dataframe > tbody > tr {\n",
       "  text-align: right;\n",
       "  white-space: pre-wrap;\n",
       "}\n",
       "</style>\n",
       "<small>shape: (11, 2)</small><table border=\"1\" class=\"dataframe\"><thead><tr><th>column</th><th>n_unique</th></tr><tr><td>str</td><td>i64</td></tr></thead><tbody><tr><td>&quot;ProductionUnitID&quot;</td><td>718591</td></tr><tr><td>&quot;ManufactureDate&quot;</td><td>12586</td></tr><tr><td>&quot;EngineNumber&quot;</td><td>702183</td></tr><tr><td>&quot;PrimaryBuildCode&quot;</td><td>2390</td></tr><tr><td>&quot;RetailDealerAccount&quot;</td><td>2403</td></tr><tr><td>&hellip;</td><td>&hellip;</td></tr><tr><td>&quot;SerialNumber&quot;</td><td>717601</td></tr><tr><td>&quot;OwnershipGroupID&quot;</td><td>2</td></tr><tr><td>&quot;SpecificationID&quot;</td><td>1508</td></tr><tr><td>&quot;ModelID&quot;</td><td>1042</td></tr><tr><td>&quot;CatalogID&quot;</td><td>398</td></tr></tbody></table></div>"
      ],
      "text/plain": [
       "shape: (11, 2)\n",
       "┌─────────────────────┬──────────┐\n",
       "│ column              ┆ n_unique │\n",
       "│ ---                 ┆ ---      │\n",
       "│ str                 ┆ i64      │\n",
       "╞═════════════════════╪══════════╡\n",
       "│ ProductionUnitID    ┆ 718591   │\n",
       "│ ManufactureDate     ┆ 12586    │\n",
       "│ EngineNumber        ┆ 702183   │\n",
       "│ PrimaryBuildCode    ┆ 2390     │\n",
       "│ RetailDealerAccount ┆ 2403     │\n",
       "│ …                   ┆ …        │\n",
       "│ SerialNumber        ┆ 717601   │\n",
       "│ OwnershipGroupID    ┆ 2        │\n",
       "│ SpecificationID     ┆ 1508     │\n",
       "│ ModelID             ┆ 1042     │\n",
       "│ CatalogID           ┆ 398      │\n",
       "└─────────────────────┴──────────┘"
      ]
     },
     "execution_count": 11,
     "metadata": {},
     "output_type": "execute_result"
    }
   ],
   "source": [
    "pl.DataFrame({\n",
    "    \"column\": sspr.columns,\n",
    "    \"n_unique\": [sspr[col].n_unique() for col in sspr.columns]\n",
    "})"
   ]
  },
  {
   "cell_type": "code",
   "execution_count": 12,
   "id": "219a91db",
   "metadata": {},
   "outputs": [],
   "source": [
    "vin = pl.read_csv(\"./data/VinLockCache.csv\")"
   ]
  },
  {
   "cell_type": "code",
   "execution_count": 13,
   "id": "1aa01fa7",
   "metadata": {},
   "outputs": [],
   "source": [
    "cat = pl.read_csv(\"./data/CatalogTreeNode.csv\")"
   ]
  },
  {
   "cell_type": "code",
   "execution_count": 14,
   "id": "8c4fa5a3",
   "metadata": {},
   "outputs": [],
   "source": [
    "cv = cat.join(vin, on=\"CatalogTreeNodeID\")"
   ]
  },
  {
   "cell_type": "code",
   "execution_count": 15,
   "id": "cb5eff27",
   "metadata": {},
   "outputs": [],
   "source": [
    "cv = cv.drop([\"NodeType\"])"
   ]
  },
  {
   "cell_type": "code",
   "execution_count": 16,
   "id": "ac0e311f",
   "metadata": {},
   "outputs": [
    {
     "data": {
      "text/html": [
       "<div><style>\n",
       ".dataframe > thead > tr,\n",
       ".dataframe > tbody > tr {\n",
       "  text-align: right;\n",
       "  white-space: pre-wrap;\n",
       "}\n",
       "</style>\n",
       "<small>shape: (18, 2)</small><table border=\"1\" class=\"dataframe\"><thead><tr><th>column</th><th>n_unique</th></tr><tr><td>str</td><td>i64</td></tr></thead><tbody><tr><td>&quot;LineOfBusinessID&quot;</td><td>1</td></tr><tr><td>&quot;ModelGroupID&quot;</td><td>1</td></tr><tr><td>&quot;ModelRangeID&quot;</td><td>1</td></tr><tr><td>&quot;LocationID&quot;</td><td>1</td></tr><tr><td>&quot;SpecificationID&quot;</td><td>1</td></tr><tr><td>&hellip;</td><td>&hellip;</td></tr><tr><td>&quot;CatalogFolderID&quot;</td><td>1</td></tr><tr><td>&quot;VinLockCacheID&quot;</td><td>65206</td></tr><tr><td>&quot;IsExternal&quot;</td><td>2</td></tr><tr><td>&quot;CreationDate&quot;</td><td>194</td></tr><tr><td>&quot;SerialNumber&quot;</td><td>177</td></tr></tbody></table></div>"
      ],
      "text/plain": [
       "shape: (18, 2)\n",
       "┌──────────────────┬──────────┐\n",
       "│ column           ┆ n_unique │\n",
       "│ ---              ┆ ---      │\n",
       "│ str              ┆ i64      │\n",
       "╞══════════════════╪══════════╡\n",
       "│ LineOfBusinessID ┆ 1        │\n",
       "│ ModelGroupID     ┆ 1        │\n",
       "│ ModelRangeID     ┆ 1        │\n",
       "│ LocationID       ┆ 1        │\n",
       "│ SpecificationID  ┆ 1        │\n",
       "│ …                ┆ …        │\n",
       "│ CatalogFolderID  ┆ 1        │\n",
       "│ VinLockCacheID   ┆ 65206    │\n",
       "│ IsExternal       ┆ 2        │\n",
       "│ CreationDate     ┆ 194      │\n",
       "│ SerialNumber     ┆ 177      │\n",
       "└──────────────────┴──────────┘"
      ]
     },
     "execution_count": 16,
     "metadata": {},
     "output_type": "execute_result"
    }
   ],
   "source": [
    "pl.DataFrame({\n",
    "    \"column\": cv.columns,\n",
    "    \"n_unique\": [cv[col].n_unique() for col in cv.columns]\n",
    "})"
   ]
  },
  {
   "cell_type": "code",
   "execution_count": 17,
   "id": "0560a05b",
   "metadata": {},
   "outputs": [
    {
     "data": {
      "text/html": [
       "<div><style>\n",
       ".dataframe > thead > tr,\n",
       ".dataframe > tbody > tr {\n",
       "  text-align: right;\n",
       "  white-space: pre-wrap;\n",
       "}\n",
       "</style>\n",
       "<small>shape: (65_206, 18)</small><table border=\"1\" class=\"dataframe\"><thead><tr><th>LineOfBusinessID</th><th>ModelGroupID</th><th>ModelRangeID</th><th>LocationID</th><th>SpecificationID</th><th>ServicePartsPageID</th><th>SectionID</th><th>DocumentID</th><th>IsRoot</th><th>IsVisible</th><th>BaseObjectID</th><th>Name</th><th>CatalogTreeNodeID</th><th>CatalogFolderID</th><th>VinLockCacheID</th><th>IsExternal</th><th>CreationDate</th><th>SerialNumber</th></tr><tr><td>str</td><td>str</td><td>str</td><td>str</td><td>str</td><td>str</td><td>str</td><td>str</td><td>bool</td><td>bool</td><td>str</td><td>str</td><td>str</td><td>str</td><td>str</td><td>i64</td><td>str</td><td>i64</td></tr></thead><tbody><tr><td>null</td><td>null</td><td>null</td><td>null</td><td>null</td><td>&quot;15756873-1E22-4C3C-80EB-08AE52…</td><td>null</td><td>null</td><td>false</td><td>false</td><td>&quot;15756873-1E22-4C3C-80EB-08AE52…</td><td>null</td><td>&quot;AA978CBF-C008-45DB-A9F6-000000…</td><td>null</td><td>&quot;DC2A084D-AF43-4E6E-9B16-198C12…</td><td>1</td><td>&quot;2016-03-02 09:23:09.210&quot;</td><td>2272878</td></tr><tr><td>null</td><td>null</td><td>null</td><td>null</td><td>null</td><td>&quot;991DFEF9-AD9E-4EEA-BED6-FE7E8F…</td><td>null</td><td>null</td><td>false</td><td>false</td><td>&quot;991DFEF9-AD9E-4EEA-BED6-FE7E8F…</td><td>null</td><td>&quot;365B0F05-C09C-456E-8F91-000015…</td><td>null</td><td>&quot;C8A03B57-CBCF-4A34-B74D-29777C…</td><td>0</td><td>&quot;2016-03-02 14:54:33.310&quot;</td><td>1776728</td></tr><tr><td>null</td><td>null</td><td>null</td><td>null</td><td>null</td><td>&quot;EE4566BC-AD77-44BB-9B7A-112655…</td><td>null</td><td>null</td><td>false</td><td>false</td><td>&quot;EE4566BC-AD77-44BB-9B7A-112655…</td><td>null</td><td>&quot;7C0F9BD9-ED34-4A8E-BA57-00002A…</td><td>null</td><td>&quot;49260FF0-3911-4A36-B476-BBB016…</td><td>0</td><td>&quot;2016-02-29 12:51:38.583&quot;</td><td>2366268</td></tr><tr><td>null</td><td>null</td><td>null</td><td>null</td><td>null</td><td>&quot;7E46EB95-E066-4EDB-8BCA-C339D4…</td><td>null</td><td>null</td><td>false</td><td>false</td><td>&quot;7E46EB95-E066-4EDB-8BCA-C339D4…</td><td>null</td><td>&quot;F20B6C81-6295-49EE-8590-000176…</td><td>null</td><td>&quot;1CA62324-C350-4316-BCE7-401B93…</td><td>0</td><td>&quot;2016-03-04 15:55:47.927&quot;</td><td>2354503</td></tr><tr><td>null</td><td>null</td><td>null</td><td>null</td><td>null</td><td>&quot;7E46EB95-E066-4EDB-8BCA-C339D4…</td><td>null</td><td>null</td><td>false</td><td>false</td><td>&quot;7E46EB95-E066-4EDB-8BCA-C339D4…</td><td>null</td><td>&quot;F20B6C81-6295-49EE-8590-000176…</td><td>null</td><td>&quot;53B1BF5C-B4C0-4589-BBB6-C4006A…</td><td>0</td><td>&quot;2016-03-02 12:14:29.790&quot;</td><td>2343582</td></tr><tr><td>&hellip;</td><td>&hellip;</td><td>&hellip;</td><td>&hellip;</td><td>&hellip;</td><td>&hellip;</td><td>&hellip;</td><td>&hellip;</td><td>&hellip;</td><td>&hellip;</td><td>&hellip;</td><td>&hellip;</td><td>&hellip;</td><td>&hellip;</td><td>&hellip;</td><td>&hellip;</td><td>&hellip;</td><td>&hellip;</td></tr><tr><td>null</td><td>null</td><td>null</td><td>null</td><td>null</td><td>&quot;39F5534E-40C7-4B00-9452-552441…</td><td>null</td><td>null</td><td>false</td><td>false</td><td>&quot;39F5534E-40C7-4B00-9452-552441…</td><td>null</td><td>&quot;6EA5737E-65D4-41B8-A844-FFF734…</td><td>null</td><td>&quot;D90E9771-C2A8-4970-9A8A-6429B2…</td><td>0</td><td>&quot;2016-03-01 16:04:52.790&quot;</td><td>1419559</td></tr><tr><td>null</td><td>null</td><td>null</td><td>null</td><td>null</td><td>&quot;39F5534E-40C7-4B00-9452-552441…</td><td>null</td><td>null</td><td>false</td><td>false</td><td>&quot;39F5534E-40C7-4B00-9452-552441…</td><td>null</td><td>&quot;6EA5737E-65D4-41B8-A844-FFF734…</td><td>null</td><td>&quot;40F59433-93BF-4DBA-9CBB-685C23…</td><td>0</td><td>&quot;2016-03-04 14:20:00.413&quot;</td><td>1419495</td></tr><tr><td>null</td><td>null</td><td>null</td><td>null</td><td>null</td><td>&quot;493D6D8A-0373-48B8-A649-D11191…</td><td>null</td><td>null</td><td>false</td><td>false</td><td>&quot;493D6D8A-0373-48B8-A649-D11191…</td><td>null</td><td>&quot;143840F5-91B9-4804-A06B-FFFB1D…</td><td>null</td><td>&quot;F1794E59-1032-47CD-A434-9EC05C…</td><td>0</td><td>&quot;2016-03-03 20:58:37.770&quot;</td><td>1402924</td></tr><tr><td>null</td><td>null</td><td>null</td><td>null</td><td>null</td><td>&quot;493D6D8A-0373-48B8-A649-D11191…</td><td>null</td><td>null</td><td>false</td><td>false</td><td>&quot;493D6D8A-0373-48B8-A649-D11191…</td><td>null</td><td>&quot;143840F5-91B9-4804-A06B-FFFB1D…</td><td>null</td><td>&quot;480B23FE-0220-4E74-8886-D819E2…</td><td>0</td><td>&quot;2016-03-01 13:39:20.130&quot;</td><td>1403045</td></tr><tr><td>null</td><td>null</td><td>null</td><td>null</td><td>null</td><td>&quot;4113D4C8-0BD4-4581-A211-4B007C…</td><td>null</td><td>null</td><td>false</td><td>false</td><td>&quot;4113D4C8-0BD4-4581-A211-4B007C…</td><td>null</td><td>&quot;596D1D2F-2E2F-43EC-A4F7-FFFBEE…</td><td>null</td><td>&quot;A5DE0A5A-52D3-4B8F-908C-9B74E9…</td><td>0</td><td>&quot;2016-03-03 09:33:43.440&quot;</td><td>2349656</td></tr></tbody></table></div>"
      ],
      "text/plain": [
       "shape: (65_206, 18)\n",
       "┌───────────┬───────────┬───────────┬───────────┬───┬───────────┬───────────┬───────────┬──────────┐\n",
       "│ LineOfBus ┆ ModelGrou ┆ ModelRang ┆ LocationI ┆ … ┆ VinLockCa ┆ IsExterna ┆ CreationD ┆ SerialNu │\n",
       "│ inessID   ┆ pID       ┆ eID       ┆ D         ┆   ┆ cheID     ┆ l         ┆ ate       ┆ mber     │\n",
       "│ ---       ┆ ---       ┆ ---       ┆ ---       ┆   ┆ ---       ┆ ---       ┆ ---       ┆ ---      │\n",
       "│ str       ┆ str       ┆ str       ┆ str       ┆   ┆ str       ┆ i64       ┆ str       ┆ i64      │\n",
       "╞═══════════╪═══════════╪═══════════╪═══════════╪═══╪═══════════╪═══════════╪═══════════╪══════════╡\n",
       "│ null      ┆ null      ┆ null      ┆ null      ┆ … ┆ DC2A084D- ┆ 1         ┆ 2016-03-0 ┆ 2272878  │\n",
       "│           ┆           ┆           ┆           ┆   ┆ AF43-4E6E ┆           ┆ 2 09:23:0 ┆          │\n",
       "│           ┆           ┆           ┆           ┆   ┆ -9B16-198 ┆           ┆ 9.210     ┆          │\n",
       "│           ┆           ┆           ┆           ┆   ┆ C12…      ┆           ┆           ┆          │\n",
       "│ null      ┆ null      ┆ null      ┆ null      ┆ … ┆ C8A03B57- ┆ 0         ┆ 2016-03-0 ┆ 1776728  │\n",
       "│           ┆           ┆           ┆           ┆   ┆ CBCF-4A34 ┆           ┆ 2 14:54:3 ┆          │\n",
       "│           ┆           ┆           ┆           ┆   ┆ -B74D-297 ┆           ┆ 3.310     ┆          │\n",
       "│           ┆           ┆           ┆           ┆   ┆ 77C…      ┆           ┆           ┆          │\n",
       "│ null      ┆ null      ┆ null      ┆ null      ┆ … ┆ 49260FF0- ┆ 0         ┆ 2016-02-2 ┆ 2366268  │\n",
       "│           ┆           ┆           ┆           ┆   ┆ 3911-4A36 ┆           ┆ 9 12:51:3 ┆          │\n",
       "│           ┆           ┆           ┆           ┆   ┆ -B476-BBB ┆           ┆ 8.583     ┆          │\n",
       "│           ┆           ┆           ┆           ┆   ┆ 016…      ┆           ┆           ┆          │\n",
       "│ null      ┆ null      ┆ null      ┆ null      ┆ … ┆ 1CA62324- ┆ 0         ┆ 2016-03-0 ┆ 2354503  │\n",
       "│           ┆           ┆           ┆           ┆   ┆ C350-4316 ┆           ┆ 4 15:55:4 ┆          │\n",
       "│           ┆           ┆           ┆           ┆   ┆ -BCE7-401 ┆           ┆ 7.927     ┆          │\n",
       "│           ┆           ┆           ┆           ┆   ┆ B93…      ┆           ┆           ┆          │\n",
       "│ null      ┆ null      ┆ null      ┆ null      ┆ … ┆ 53B1BF5C- ┆ 0         ┆ 2016-03-0 ┆ 2343582  │\n",
       "│           ┆           ┆           ┆           ┆   ┆ B4C0-4589 ┆           ┆ 2 12:14:2 ┆          │\n",
       "│           ┆           ┆           ┆           ┆   ┆ -BBB6-C40 ┆           ┆ 9.790     ┆          │\n",
       "│           ┆           ┆           ┆           ┆   ┆ 06A…      ┆           ┆           ┆          │\n",
       "│ …         ┆ …         ┆ …         ┆ …         ┆ … ┆ …         ┆ …         ┆ …         ┆ …        │\n",
       "│ null      ┆ null      ┆ null      ┆ null      ┆ … ┆ D90E9771- ┆ 0         ┆ 2016-03-0 ┆ 1419559  │\n",
       "│           ┆           ┆           ┆           ┆   ┆ C2A8-4970 ┆           ┆ 1 16:04:5 ┆          │\n",
       "│           ┆           ┆           ┆           ┆   ┆ -9A8A-642 ┆           ┆ 2.790     ┆          │\n",
       "│           ┆           ┆           ┆           ┆   ┆ 9B2…      ┆           ┆           ┆          │\n",
       "│ null      ┆ null      ┆ null      ┆ null      ┆ … ┆ 40F59433- ┆ 0         ┆ 2016-03-0 ┆ 1419495  │\n",
       "│           ┆           ┆           ┆           ┆   ┆ 93BF-4DBA ┆           ┆ 4 14:20:0 ┆          │\n",
       "│           ┆           ┆           ┆           ┆   ┆ -9CBB-685 ┆           ┆ 0.413     ┆          │\n",
       "│           ┆           ┆           ┆           ┆   ┆ C23…      ┆           ┆           ┆          │\n",
       "│ null      ┆ null      ┆ null      ┆ null      ┆ … ┆ F1794E59- ┆ 0         ┆ 2016-03-0 ┆ 1402924  │\n",
       "│           ┆           ┆           ┆           ┆   ┆ 1032-47CD ┆           ┆ 3 20:58:3 ┆          │\n",
       "│           ┆           ┆           ┆           ┆   ┆ -A434-9EC ┆           ┆ 7.770     ┆          │\n",
       "│           ┆           ┆           ┆           ┆   ┆ 05C…      ┆           ┆           ┆          │\n",
       "│ null      ┆ null      ┆ null      ┆ null      ┆ … ┆ 480B23FE- ┆ 0         ┆ 2016-03-0 ┆ 1403045  │\n",
       "│           ┆           ┆           ┆           ┆   ┆ 0220-4E74 ┆           ┆ 1 13:39:2 ┆          │\n",
       "│           ┆           ┆           ┆           ┆   ┆ -8886-D81 ┆           ┆ 0.130     ┆          │\n",
       "│           ┆           ┆           ┆           ┆   ┆ 9E2…      ┆           ┆           ┆          │\n",
       "│ null      ┆ null      ┆ null      ┆ null      ┆ … ┆ A5DE0A5A- ┆ 0         ┆ 2016-03-0 ┆ 2349656  │\n",
       "│           ┆           ┆           ┆           ┆   ┆ 52D3-4B8F ┆           ┆ 3 09:33:4 ┆          │\n",
       "│           ┆           ┆           ┆           ┆   ┆ -908C-9B7 ┆           ┆ 3.440     ┆          │\n",
       "│           ┆           ┆           ┆           ┆   ┆ 4E9…      ┆           ┆           ┆          │\n",
       "└───────────┴───────────┴───────────┴───────────┴───┴───────────┴───────────┴───────────┴──────────┘"
      ]
     },
     "execution_count": 17,
     "metadata": {},
     "output_type": "execute_result"
    }
   ],
   "source": [
    "cv"
   ]
  },
  {
   "cell_type": "code",
   "execution_count": 31,
   "id": "d61a6026",
   "metadata": {},
   "outputs": [],
   "source": [
    "cv = cv.drop([\"SectionID\",\"DocumentID\",\"IsRoot\",\"IsVisible\",\"Name\",\"CatalogFolderID\",\"IsExternal\"])"
   ]
  },
  {
   "cell_type": "code",
   "execution_count": 18,
   "id": "4eb6cec0",
   "metadata": {},
   "outputs": [],
   "source": [
    "sspr = sppr.drop(\"OwnershipGroupID\")"
   ]
  },
  {
   "cell_type": "code",
   "execution_count": 19,
   "id": "aaa75b17",
   "metadata": {},
   "outputs": [
    {
     "data": {
      "text/html": [
       "<div><style>\n",
       ".dataframe > thead > tr,\n",
       ".dataframe > tbody > tr {\n",
       "  text-align: right;\n",
       "  white-space: pre-wrap;\n",
       "}\n",
       "</style>\n",
       "<small>shape: (924_458, 8)</small><table border=\"1\" class=\"dataframe\"><thead><tr><th>ProductionUnitID</th><th>ManufactureDate</th><th>EngineNumber</th><th>PrimaryBuildCode</th><th>RetailDealerAccount</th><th>SalesModel</th><th>SerialNumber</th><th>SpecificationID</th></tr><tr><td>str</td><td>str</td><td>str</td><td>i64</td><td>f64</td><td>str</td><td>i64</td><td>str</td></tr></thead><tbody><tr><td>&quot;3F4D21D2-F442-477A-B656-000012…</td><td>&quot;2000-12-22&quot;</td><td>&quot;KR50682U947026G&nbsp;&nbsp;&nbsp;&nbsp;&nbsp;&quot;</td><td>8902</td><td>null</td><td>&quot;JCB 1CX&quot;</td><td>807250</td><td>&quot;FD44BF18-4EDF-44ED-AA1A-9E0311…</td></tr><tr><td>&quot;82516147-E3E0-4583-B594-00002E…</td><td>&quot;2005-11-22&quot;</td><td>&quot;SB40063U0875905&nbsp;&nbsp;&nbsp;&nbsp;&nbsp;&quot;</td><td>2199</td><td>null</td><td>&quot;4CX4WSSMPC&quot;</td><td>966370</td><td>&quot;B1F028F1-6FC2-4FFF-A0DC-A67325…</td></tr><tr><td>&quot;47A27968-A025-417B-9795-000037…</td><td>&quot;2004-03-23&quot;</td><td>&quot;A4BG1-135853&nbsp;&nbsp;&nbsp;&nbsp;&nbsp;&nbsp;&nbsp;&nbsp;&quot;</td><td>9712</td><td>null</td><td>&quot;JS145W TAB&quot;</td><td>810230</td><td>&quot;52081A60-B4A6-4F79-91EB-6FEDA9…</td></tr><tr><td>&quot;C9FCD6B3-7A73-4F0D-9388-000038…</td><td>&quot;1988-06-10&quot;</td><td>&quot;AB50279/503059S&nbsp;&nbsp;&nbsp;&nbsp;&nbsp;&quot;</td><td>null</td><td>2167.0</td><td>&quot;1700C-4&nbsp;&nbsp;&nbsp;&quot;</td><td>338637</td><td>&quot;541A1795-2603-47BB-82C1-EEE5CD…</td></tr><tr><td>&quot;069AD196-4DBA-44AF-82B4-00003B…</td><td>&quot;1999-09-15&quot;</td><td>&quot;AK50628U046892F&nbsp;&nbsp;&nbsp;&nbsp;&nbsp;&quot;</td><td>2029</td><td>7766.0</td><td>&quot;3CX-4T&quot;</td><td>485420</td><td>&quot;C43109D5-89A1-409D-908A-807700…</td></tr><tr><td>&hellip;</td><td>&hellip;</td><td>&hellip;</td><td>&hellip;</td><td>&hellip;</td><td>&hellip;</td><td>&hellip;</td><td>&hellip;</td></tr><tr><td>&quot;D21269CF-B07E-4E44-9FFE-FFFF8A…</td><td>&quot;2013-04-25&quot;</td><td>&quot;GS65778J631668X&nbsp;&nbsp;&nbsp;&nbsp;&nbsp;&quot;</td><td>8435</td><td>8135.0</td><td>&quot;8035 ZTS&quot;</td><td>2022492</td><td>&quot;F4821BBC-1A3F-4178-83CC-CF1024…</td></tr><tr><td>&quot;A3A948F6-3DD6-4521-8ECA-FFFF8C…</td><td>&quot;1990-03-14&quot;</td><td>&quot;AA50261U539781T&nbsp;&nbsp;&nbsp;&nbsp;&nbsp;&quot;</td><td>null</td><td>1004.0</td><td>&quot;530-120&nbsp;&nbsp;&nbsp;&quot;</td><td>563618</td><td>&quot;75796EC4-45E0-490D-8E42-017497…</td></tr><tr><td>&quot;B295D907-765B-4F43-ABA3-FFFFC3…</td><td>&quot;2003-06-16&quot;</td><td>&quot;6BG1T-156186&nbsp;&nbsp;&nbsp;&nbsp;&nbsp;&nbsp;&nbsp;&nbsp;&quot;</td><td>9626</td><td>1005.0</td><td>&quot;JS220LC&quot;</td><td>1018086</td><td>&quot;E5187B8A-E93E-464F-8012-3CC007…</td></tr><tr><td>&quot;1CD831F5-7445-4CD9-9692-FFFFEE…</td><td>&quot;1994-01-17&quot;</td><td>&quot;AA50460U635493X&nbsp;&nbsp;&nbsp;&nbsp;&nbsp;&quot;</td><td>null</td><td>1012.0</td><td>&quot;520-55RS&nbsp;&nbsp;&quot;</td><td>277243</td><td>&quot;32D9DF5D-B038-44FC-9FA6-43D4C0…</td></tr><tr><td>&quot;1CD831F5-7445-4CD9-9692-FFFFEE…</td><td>&quot;1994-01-17&quot;</td><td>&quot;AA50460U635493X&nbsp;&nbsp;&nbsp;&nbsp;&nbsp;&quot;</td><td>null</td><td>1012.0</td><td>&quot;520-55RS&nbsp;&nbsp;&quot;</td><td>277243</td><td>&quot;597A123D-5DE1-4071-AB79-676610…</td></tr></tbody></table></div>"
      ],
      "text/plain": [
       "shape: (924_458, 8)\n",
       "┌────────────┬────────────┬────────────┬───────────┬───────────┬───────────┬───────────┬───────────┐\n",
       "│ Production ┆ Manufactur ┆ EngineNumb ┆ PrimaryBu ┆ RetailDea ┆ SalesMode ┆ SerialNum ┆ Specifica │\n",
       "│ UnitID     ┆ eDate      ┆ er         ┆ ildCode   ┆ lerAccoun ┆ l         ┆ ber       ┆ tionID    │\n",
       "│ ---        ┆ ---        ┆ ---        ┆ ---       ┆ t         ┆ ---       ┆ ---       ┆ ---       │\n",
       "│ str        ┆ str        ┆ str        ┆ i64       ┆ ---       ┆ str       ┆ i64       ┆ str       │\n",
       "│            ┆            ┆            ┆           ┆ f64       ┆           ┆           ┆           │\n",
       "╞════════════╪════════════╪════════════╪═══════════╪═══════════╪═══════════╪═══════════╪═══════════╡\n",
       "│ 3F4D21D2-F ┆ 2000-12-22 ┆ KR50682U94 ┆ 8902      ┆ null      ┆ JCB 1CX   ┆ 807250    ┆ FD44BF18- │\n",
       "│ 442-477A-B ┆            ┆ 7026G      ┆           ┆           ┆           ┆           ┆ 4EDF-44ED │\n",
       "│ 656-000012 ┆            ┆            ┆           ┆           ┆           ┆           ┆ -AA1A-9E0 │\n",
       "│ …          ┆            ┆            ┆           ┆           ┆           ┆           ┆ 311…      │\n",
       "│ 82516147-E ┆ 2005-11-22 ┆ SB40063U08 ┆ 2199      ┆ null      ┆ 4CX4WSSMP ┆ 966370    ┆ B1F028F1- │\n",
       "│ 3E0-4583-B ┆            ┆ 75905      ┆           ┆           ┆ C         ┆           ┆ 6FC2-4FFF │\n",
       "│ 594-00002E ┆            ┆            ┆           ┆           ┆           ┆           ┆ -A0DC-A67 │\n",
       "│ …          ┆            ┆            ┆           ┆           ┆           ┆           ┆ 325…      │\n",
       "│ 47A27968-A ┆ 2004-03-23 ┆ A4BG1-1358 ┆ 9712      ┆ null      ┆ JS145W    ┆ 810230    ┆ 52081A60- │\n",
       "│ 025-417B-9 ┆            ┆ 53         ┆           ┆           ┆ TAB       ┆           ┆ B4A6-4F79 │\n",
       "│ 795-000037 ┆            ┆            ┆           ┆           ┆           ┆           ┆ -91EB-6FE │\n",
       "│ …          ┆            ┆            ┆           ┆           ┆           ┆           ┆ DA9…      │\n",
       "│ C9FCD6B3-7 ┆ 1988-06-10 ┆ AB50279/50 ┆ null      ┆ 2167.0    ┆ 1700C-4   ┆ 338637    ┆ 541A1795- │\n",
       "│ A73-4F0D-9 ┆            ┆ 3059S      ┆           ┆           ┆           ┆           ┆ 2603-47BB │\n",
       "│ 388-000038 ┆            ┆            ┆           ┆           ┆           ┆           ┆ -82C1-EEE │\n",
       "│ …          ┆            ┆            ┆           ┆           ┆           ┆           ┆ 5CD…      │\n",
       "│ 069AD196-4 ┆ 1999-09-15 ┆ AK50628U04 ┆ 2029      ┆ 7766.0    ┆ 3CX-4T    ┆ 485420    ┆ C43109D5- │\n",
       "│ DBA-44AF-8 ┆            ┆ 6892F      ┆           ┆           ┆           ┆           ┆ 89A1-409D │\n",
       "│ 2B4-00003B ┆            ┆            ┆           ┆           ┆           ┆           ┆ -908A-807 │\n",
       "│ …          ┆            ┆            ┆           ┆           ┆           ┆           ┆ 700…      │\n",
       "│ …          ┆ …          ┆ …          ┆ …         ┆ …         ┆ …         ┆ …         ┆ …         │\n",
       "│ D21269CF-B ┆ 2013-04-25 ┆ GS65778J63 ┆ 8435      ┆ 8135.0    ┆ 8035 ZTS  ┆ 2022492   ┆ F4821BBC- │\n",
       "│ 07E-4E44-9 ┆            ┆ 1668X      ┆           ┆           ┆           ┆           ┆ 1A3F-4178 │\n",
       "│ FFE-FFFF8A ┆            ┆            ┆           ┆           ┆           ┆           ┆ -83CC-CF1 │\n",
       "│ …          ┆            ┆            ┆           ┆           ┆           ┆           ┆ 024…      │\n",
       "│ A3A948F6-3 ┆ 1990-03-14 ┆ AA50261U53 ┆ null      ┆ 1004.0    ┆ 530-120   ┆ 563618    ┆ 75796EC4- │\n",
       "│ DD6-4521-8 ┆            ┆ 9781T      ┆           ┆           ┆           ┆           ┆ 45E0-490D │\n",
       "│ ECA-FFFF8C ┆            ┆            ┆           ┆           ┆           ┆           ┆ -8E42-017 │\n",
       "│ …          ┆            ┆            ┆           ┆           ┆           ┆           ┆ 497…      │\n",
       "│ B295D907-7 ┆ 2003-06-16 ┆ 6BG1T-1561 ┆ 9626      ┆ 1005.0    ┆ JS220LC   ┆ 1018086   ┆ E5187B8A- │\n",
       "│ 65B-4F43-A ┆            ┆ 86         ┆           ┆           ┆           ┆           ┆ E93E-464F │\n",
       "│ BA3-FFFFC3 ┆            ┆            ┆           ┆           ┆           ┆           ┆ -8012-3CC │\n",
       "│ …          ┆            ┆            ┆           ┆           ┆           ┆           ┆ 007…      │\n",
       "│ 1CD831F5-7 ┆ 1994-01-17 ┆ AA50460U63 ┆ null      ┆ 1012.0    ┆ 520-55RS  ┆ 277243    ┆ 32D9DF5D- │\n",
       "│ 445-4CD9-9 ┆            ┆ 5493X      ┆           ┆           ┆           ┆           ┆ B038-44FC │\n",
       "│ 692-FFFFEE ┆            ┆            ┆           ┆           ┆           ┆           ┆ -9FA6-43D │\n",
       "│ …          ┆            ┆            ┆           ┆           ┆           ┆           ┆ 4C0…      │\n",
       "│ 1CD831F5-7 ┆ 1994-01-17 ┆ AA50460U63 ┆ null      ┆ 1012.0    ┆ 520-55RS  ┆ 277243    ┆ 597A123D- │\n",
       "│ 445-4CD9-9 ┆            ┆ 5493X      ┆           ┆           ┆           ┆           ┆ 5DE1-4071 │\n",
       "│ 692-FFFFEE ┆            ┆            ┆           ┆           ┆           ┆           ┆ -AB79-676 │\n",
       "│ …          ┆            ┆            ┆           ┆           ┆           ┆           ┆ 610…      │\n",
       "└────────────┴────────────┴────────────┴───────────┴───────────┴───────────┴───────────┴───────────┘"
      ]
     },
     "execution_count": 19,
     "metadata": {},
     "output_type": "execute_result"
    }
   ],
   "source": [
    "sspr"
   ]
  },
  {
   "cell_type": "code",
   "execution_count": 32,
   "id": "6f92f887",
   "metadata": {},
   "outputs": [],
   "source": [
    "cv.write_csv(\"./2s.csv\")"
   ]
  },
  {
   "cell_type": "code",
   "execution_count": 20,
   "id": "6c67215c",
   "metadata": {},
   "outputs": [],
   "source": [
    "sspr = sspr.with_columns(\n",
    "        pl.col(\"SalesModel\").str.strip_chars().alias(\"SalesModel\")\n",
    "    )"
   ]
  },
  {
   "cell_type": "code",
   "execution_count": 21,
   "id": "1645e0fe",
   "metadata": {},
   "outputs": [],
   "source": [
    "m = pl.read_csv(\"./data/Model.csv\")"
   ]
  },
  {
   "cell_type": "code",
   "execution_count": 22,
   "id": "7c4b701a",
   "metadata": {},
   "outputs": [],
   "source": [
    "msspr = sspr.join(m, left_on=\"SalesModel\", right_on=\"Number\")"
   ]
  },
  {
   "cell_type": "code",
   "execution_count": 23,
   "id": "abb4d246",
   "metadata": {},
   "outputs": [],
   "source": [
    "msspr = msspr.drop(\"OwnershipGroupID\")"
   ]
  },
  {
   "cell_type": "code",
   "execution_count": 24,
   "id": "8ebc39be",
   "metadata": {},
   "outputs": [],
   "source": [
    "msspr.write_csv(\"./data/mssprW.csv\")"
   ]
  },
  {
   "cell_type": "code",
   "execution_count": 25,
   "id": "9f350fcb",
   "metadata": {},
   "outputs": [],
   "source": [
    "msspr = msspr.unique()"
   ]
  },
  {
   "cell_type": "code",
   "execution_count": 26,
   "id": "96f28127",
   "metadata": {},
   "outputs": [],
   "source": [
    "specspp = pl.read_csv(\"./data/SpecificationSpp.csv\")"
   ]
  },
  {
   "cell_type": "code",
   "execution_count": 27,
   "id": "c224b8e9",
   "metadata": {},
   "outputs": [],
   "source": [
    "merspp = s.join(specspp,on=\"SpecificationID\")"
   ]
  },
  {
   "cell_type": "code",
   "execution_count": 28,
   "id": "58694f7f",
   "metadata": {},
   "outputs": [
    {
     "data": {
      "text/html": [
       "<div><style>\n",
       ".dataframe > thead > tr,\n",
       ".dataframe > tbody > tr {\n",
       "  text-align: right;\n",
       "  white-space: pre-wrap;\n",
       "}\n",
       "</style>\n",
       "<small>shape: (1_096_791, 5)</small><table border=\"1\" class=\"dataframe\"><thead><tr><th>SpecificationID</th><th>ModelID</th><th>CatalogID</th><th>SpecificationSppID</th><th>ServicePartsPageID</th></tr><tr><td>str</td><td>str</td><td>str</td><td>str</td><td>str</td></tr></thead><tbody><tr><td>&quot;B8A73E42-49D9-4B2F-92B5-A2415B…</td><td>&quot;1955D4B2-5BDC-4AEF-B98C-E2C8B9…</td><td>&quot;6C3E2A01-74F4-407E-9289-3DA8E4…</td><td>&quot;CB2F8EAC-862E-4A54-B9C6-D7D168…</td><td>&quot;ABB91AA0-5987-4856-A4AC-000006…</td></tr><tr><td>&quot;A8F31B67-0C47-416A-8DDE-AF4A20…</td><td>&quot;C8C9EDFD-DD0F-473C-921C-835066…</td><td>&quot;6C3E2A01-74F4-407E-9289-3DA8E4…</td><td>&quot;33AD723D-6790-4646-AEE0-B67F2F…</td><td>&quot;ABB91AA0-5987-4856-A4AC-000006…</td></tr><tr><td>&quot;A8545314-4DD8-4800-BA20-6A357C…</td><td>&quot;686BE1C4-F795-4AD1-89BE-7F4137…</td><td>&quot;5BC7D982-20F3-4E3E-A3EF-0DE04A…</td><td>&quot;27DC0457-2FEC-4B34-89C2-95B316…</td><td>&quot;A2BA80C3-6350-493C-8C21-000020…</td></tr><tr><td>&quot;E3AE1C04-5707-4E10-B20F-02B2E3…</td><td>&quot;D8A103E5-DE34-4ED1-BCF6-D62EB1…</td><td>&quot;2B549AA8-803A-4F27-BDF7-E3F7A6…</td><td>&quot;A19BBBA2-788F-47FF-980D-879F64…</td><td>&quot;F3513433-E8C1-49A6-934A-00004D…</td></tr><tr><td>&quot;51E13A91-8E72-4F36-B89F-2264AA…</td><td>&quot;766659C8-58CD-400B-A8E3-AEAEFF…</td><td>&quot;2B549AA8-803A-4F27-BDF7-E3F7A6…</td><td>&quot;2511B856-5623-414E-A525-A74402…</td><td>&quot;F3513433-E8C1-49A6-934A-00004D…</td></tr><tr><td>&hellip;</td><td>&hellip;</td><td>&hellip;</td><td>&hellip;</td><td>&hellip;</td></tr><tr><td>&quot;C540D51D-6D72-42F6-BDBA-DD0E28…</td><td>&quot;15818FB1-E5CA-4E08-86EB-ABB30A…</td><td>&quot;04A698CF-E1EC-407A-89BD-B069EA…</td><td>&quot;1EE15B2A-A97B-45A3-95C0-9F92CA…</td><td>&quot;E15974B3-41B9-4C83-AA3A-FFFFAE…</td></tr><tr><td>&quot;FA655EFC-351D-404A-BCB3-EB8265…</td><td>&quot;0FC3FD4E-14FA-4E5D-8483-185E20…</td><td>&quot;04A698CF-E1EC-407A-89BD-B069EA…</td><td>&quot;129865E6-CD21-43DE-A29C-AAAC9B…</td><td>&quot;E15974B3-41B9-4C83-AA3A-FFFFAE…</td></tr><tr><td>&quot;C80335C0-7D4D-4AF5-824C-FB3F9D…</td><td>&quot;2A9B660A-ED6D-4855-942A-4A88DA…</td><td>&quot;04A698CF-E1EC-407A-89BD-B069EA…</td><td>&quot;112CE0C5-03F4-471C-8C14-57F8CA…</td><td>&quot;E15974B3-41B9-4C83-AA3A-FFFFAE…</td></tr><tr><td>&quot;0B0EFF23-BEB3-4705-8AE3-0186C1…</td><td>&quot;A21CFBD2-CAC4-443F-B6D6-A49E14…</td><td>&quot;23D374C2-F190-498B-BF55-8874A1…</td><td>&quot;B99A13EE-E444-4AF0-8680-EC78D8…</td><td>&quot;4FCF68FF-426D-42B5-B0F0-FFFFFC…</td></tr><tr><td>&quot;94CCCCFF-4D0F-4E29-B1E1-5C9388…</td><td>&quot;D72AC279-D66D-4020-92A8-127B7F…</td><td>&quot;23D374C2-F190-498B-BF55-8874A1…</td><td>&quot;D6EEEF20-3049-4694-8EFD-99CBB0…</td><td>&quot;4FCF68FF-426D-42B5-B0F0-FFFFFC…</td></tr></tbody></table></div>"
      ],
      "text/plain": [
       "shape: (1_096_791, 5)\n",
       "┌───────────────────┬───────────────────┬───────────────────┬───────────────────┬──────────────────┐\n",
       "│ SpecificationID   ┆ ModelID           ┆ CatalogID         ┆ SpecificationSppI ┆ ServicePartsPage │\n",
       "│ ---               ┆ ---               ┆ ---               ┆ D                 ┆ ID               │\n",
       "│ str               ┆ str               ┆ str               ┆ ---               ┆ ---              │\n",
       "│                   ┆                   ┆                   ┆ str               ┆ str              │\n",
       "╞═══════════════════╪═══════════════════╪═══════════════════╪═══════════════════╪══════════════════╡\n",
       "│ B8A73E42-49D9-4B2 ┆ 1955D4B2-5BDC-4AE ┆ 6C3E2A01-74F4-407 ┆ CB2F8EAC-862E-4A5 ┆ ABB91AA0-5987-48 │\n",
       "│ F-92B5-A2415B…    ┆ F-B98C-E2C8B9…    ┆ E-9289-3DA8E4…    ┆ 4-B9C6-D7D168…    ┆ 56-A4AC-000006…  │\n",
       "│ A8F31B67-0C47-416 ┆ C8C9EDFD-DD0F-473 ┆ 6C3E2A01-74F4-407 ┆ 33AD723D-6790-464 ┆ ABB91AA0-5987-48 │\n",
       "│ A-8DDE-AF4A20…    ┆ C-921C-835066…    ┆ E-9289-3DA8E4…    ┆ 6-AEE0-B67F2F…    ┆ 56-A4AC-000006…  │\n",
       "│ A8545314-4DD8-480 ┆ 686BE1C4-F795-4AD ┆ 5BC7D982-20F3-4E3 ┆ 27DC0457-2FEC-4B3 ┆ A2BA80C3-6350-49 │\n",
       "│ 0-BA20-6A357C…    ┆ 1-89BE-7F4137…    ┆ E-A3EF-0DE04A…    ┆ 4-89C2-95B316…    ┆ 3C-8C21-000020…  │\n",
       "│ E3AE1C04-5707-4E1 ┆ D8A103E5-DE34-4ED ┆ 2B549AA8-803A-4F2 ┆ A19BBBA2-788F-47F ┆ F3513433-E8C1-49 │\n",
       "│ 0-B20F-02B2E3…    ┆ 1-BCF6-D62EB1…    ┆ 7-BDF7-E3F7A6…    ┆ F-980D-879F64…    ┆ A6-934A-00004D…  │\n",
       "│ 51E13A91-8E72-4F3 ┆ 766659C8-58CD-400 ┆ 2B549AA8-803A-4F2 ┆ 2511B856-5623-414 ┆ F3513433-E8C1-49 │\n",
       "│ 6-B89F-2264AA…    ┆ B-A8E3-AEAEFF…    ┆ 7-BDF7-E3F7A6…    ┆ E-A525-A74402…    ┆ A6-934A-00004D…  │\n",
       "│ …                 ┆ …                 ┆ …                 ┆ …                 ┆ …                │\n",
       "│ C540D51D-6D72-42F ┆ 15818FB1-E5CA-4E0 ┆ 04A698CF-E1EC-407 ┆ 1EE15B2A-A97B-45A ┆ E15974B3-41B9-4C │\n",
       "│ 6-BDBA-DD0E28…    ┆ 8-86EB-ABB30A…    ┆ A-89BD-B069EA…    ┆ 3-95C0-9F92CA…    ┆ 83-AA3A-FFFFAE…  │\n",
       "│ FA655EFC-351D-404 ┆ 0FC3FD4E-14FA-4E5 ┆ 04A698CF-E1EC-407 ┆ 129865E6-CD21-43D ┆ E15974B3-41B9-4C │\n",
       "│ A-BCB3-EB8265…    ┆ D-8483-185E20…    ┆ A-89BD-B069EA…    ┆ E-A29C-AAAC9B…    ┆ 83-AA3A-FFFFAE…  │\n",
       "│ C80335C0-7D4D-4AF ┆ 2A9B660A-ED6D-485 ┆ 04A698CF-E1EC-407 ┆ 112CE0C5-03F4-471 ┆ E15974B3-41B9-4C │\n",
       "│ 5-824C-FB3F9D…    ┆ 5-942A-4A88DA…    ┆ A-89BD-B069EA…    ┆ C-8C14-57F8CA…    ┆ 83-AA3A-FFFFAE…  │\n",
       "│ 0B0EFF23-BEB3-470 ┆ A21CFBD2-CAC4-443 ┆ 23D374C2-F190-498 ┆ B99A13EE-E444-4AF ┆ 4FCF68FF-426D-42 │\n",
       "│ 5-8AE3-0186C1…    ┆ F-B6D6-A49E14…    ┆ B-BF55-8874A1…    ┆ 0-8680-EC78D8…    ┆ B5-B0F0-FFFFFC…  │\n",
       "│ 94CCCCFF-4D0F-4E2 ┆ D72AC279-D66D-402 ┆ 23D374C2-F190-498 ┆ D6EEEF20-3049-469 ┆ 4FCF68FF-426D-42 │\n",
       "│ 9-B1E1-5C9388…    ┆ 0-92A8-127B7F…    ┆ B-BF55-8874A1…    ┆ 4-8EFD-99CBB0…    ┆ B5-B0F0-FFFFFC…  │\n",
       "└───────────────────┴───────────────────┴───────────────────┴───────────────────┴──────────────────┘"
      ]
     },
     "execution_count": 28,
     "metadata": {},
     "output_type": "execute_result"
    }
   ],
   "source": [
    "merspp"
   ]
  },
  {
   "cell_type": "code",
   "execution_count": 30,
   "id": "bccd24b1",
   "metadata": {},
   "outputs": [],
   "source": [
    "msspr.write_csv(\"./1s.csv\")"
   ]
  },
  {
   "cell_type": "code",
   "execution_count": 21,
   "id": "9c3a8aa1",
   "metadata": {},
   "outputs": [],
   "source": [
    "c = pl.read_csv(\"./data/Catalog.csv\")"
   ]
  },
  {
   "cell_type": "code",
   "execution_count": 23,
   "id": "5cfe6eb3",
   "metadata": {},
   "outputs": [],
   "source": [
    "c = c.drop([\"AlwaysAvailable\",\"CanNavigateByBuild\",\"DamageableCompleted\",\"MandatoryCompleted\",\"RepairCodesCompleted\",\"ServiceIntervalsCompleted\",\"Template\"])"
   ]
  },
  {
   "cell_type": "code",
   "execution_count": 25,
   "id": "5cff8e94",
   "metadata": {},
   "outputs": [],
   "source": [
    "c = c.drop([\"PrintDate\",\"IssueLevel\",\"Description\", \"EffectivityStartNumber\", \"FrontCoverGraphic\", \"OwnershipGroupID\",\"IsTrackingChanges\" ])"
   ]
  },
  {
   "cell_type": "code",
   "execution_count": 27,
   "id": "8745a6ff",
   "metadata": {},
   "outputs": [],
   "source": [
    "c = c.drop(\"IsLanguageTranslation\")"
   ]
  },
  {
   "cell_type": "code",
   "execution_count": 28,
   "id": "7de02f51",
   "metadata": {},
   "outputs": [
    {
     "data": {
      "text/html": [
       "<div><style>\n",
       ".dataframe > thead > tr,\n",
       ".dataframe > tbody > tr {\n",
       "  text-align: right;\n",
       "  white-space: pre-wrap;\n",
       "}\n",
       "</style>\n",
       "<small>shape: (761, 5)</small><table border=\"1\" class=\"dataframe\"><thead><tr><th>CatalogID</th><th>ProductionDate</th><th>ReleaseDate</th><th>Number</th><th>ProductGroupID</th></tr><tr><td>str</td><td>str</td><td>str</td><td>str</td><td>str</td></tr></thead><tbody><tr><td>&quot;36DDF8BB-74B4-4715-92AE-00C942…</td><td>&quot;1994-12-23 00:00:00&quot;</td><td>&quot;1989-02-03 00:00:00&quot;</td><td>&quot;9802/7620&quot;</td><td>&quot;A2E464FA-1289-481A-B439-A6CBF5…</td></tr><tr><td>&quot;C61E4053-CF63-4A16-B8BC-00CCE8…</td><td>&quot;2006-06-30 00:00:00&quot;</td><td>&quot;1998-08-27 00:00:00&quot;</td><td>&quot;9802/7830&quot;</td><td>&quot;E6206E74-E250-492B-A203-F69326…</td></tr><tr><td>&quot;F95A7DE6-69ED-4AA4-B5BE-01804A…</td><td>null</td><td>&quot;2013-05-21 09:17:36&quot;</td><td>&quot;9822/0705&quot;</td><td>null</td></tr><tr><td>&quot;0E97D67A-3CAD-46DF-A9A0-01D1FE…</td><td>&quot;2005-09-30 09:54:36&quot;</td><td>&quot;1997-04-28 00:00:00&quot;</td><td>&quot;9802/7710&quot;</td><td>&quot;E6206E74-E250-492B-A203-F69326…</td></tr><tr><td>&quot;7A16E382-DFFD-4188-AD8C-029048…</td><td>null</td><td>null</td><td>&quot;9822/0945&quot;</td><td>&quot;59DE41B8-D56A-401C-BE0E-39CA64…</td></tr><tr><td>&hellip;</td><td>&hellip;</td><td>&hellip;</td><td>&hellip;</td><td>&hellip;</td></tr><tr><td>&quot;DE806CB9-1548-4200-A0AB-FECEC7…</td><td>null</td><td>&quot;2012-04-30 14:34:32&quot;</td><td>&quot;9822/0310&quot;</td><td>&quot;E6206E74-E250-492B-A203-F69326…</td></tr><tr><td>&quot;46C8AA81-C45A-4392-B1DD-FED6F2…</td><td>null</td><td>&quot;2012-02-09 17:31:14&quot;</td><td>&quot;9822/0500&quot;</td><td>&quot;7F042236-8D08-4927-A55A-7BE155…</td></tr><tr><td>&quot;3E0D82D1-BFB3-4B63-BE6E-FEDB4A…</td><td>&quot;2002-10-19 12:42:16&quot;</td><td>&quot;2000-04-20 00:00:00&quot;</td><td>&quot;9802/9610&quot;</td><td>&quot;89FB1C3F-5F21-4FE9-A339-341AA8…</td></tr><tr><td>&quot;4725A01E-3909-4E79-B20D-FF75BE…</td><td>null</td><td>&quot;2006-03-24 00:00:00&quot;</td><td>&quot;9802/5940&quot;</td><td>&quot;59DE41B8-D56A-401C-BE0E-39CA64…</td></tr><tr><td>&quot;A33B3AFE-F49F-4090-8716-FF8596…</td><td>null</td><td>&quot;2007-08-01 00:00:00&quot;</td><td>&quot;9802/0090&quot;</td><td>&quot;6A35BF04-B5B7-4503-ADF8-B577DF…</td></tr></tbody></table></div>"
      ],
      "text/plain": [
       "shape: (761, 5)\n",
       "┌───────────────────────┬────────────────┬──────────────────────┬───────────┬──────────────────────┐\n",
       "│ CatalogID             ┆ ProductionDate ┆ ReleaseDate          ┆ Number    ┆ ProductGroupID       │\n",
       "│ ---                   ┆ ---            ┆ ---                  ┆ ---       ┆ ---                  │\n",
       "│ str                   ┆ str            ┆ str                  ┆ str       ┆ str                  │\n",
       "╞═══════════════════════╪════════════════╪══════════════════════╪═══════════╪══════════════════════╡\n",
       "│ 36DDF8BB-74B4-4715-92 ┆ 1994-12-23     ┆ 1989-02-03 00:00:00  ┆ 9802/7620 ┆ A2E464FA-1289-481A-B │\n",
       "│ AE-00C942…            ┆ 00:00:00       ┆                      ┆           ┆ 439-A6CBF5…          │\n",
       "│ C61E4053-CF63-4A16-B8 ┆ 2006-06-30     ┆ 1998-08-27 00:00:00  ┆ 9802/7830 ┆ E6206E74-E250-492B-A │\n",
       "│ BC-00CCE8…            ┆ 00:00:00       ┆                      ┆           ┆ 203-F69326…          │\n",
       "│ F95A7DE6-69ED-4AA4-B5 ┆ null           ┆ 2013-05-21 09:17:36  ┆ 9822/0705 ┆ null                 │\n",
       "│ BE-01804A…            ┆                ┆                      ┆           ┆                      │\n",
       "│ 0E97D67A-3CAD-46DF-A9 ┆ 2005-09-30     ┆ 1997-04-28 00:00:00  ┆ 9802/7710 ┆ E6206E74-E250-492B-A │\n",
       "│ A0-01D1FE…            ┆ 09:54:36       ┆                      ┆           ┆ 203-F69326…          │\n",
       "│ 7A16E382-DFFD-4188-AD ┆ null           ┆ null                 ┆ 9822/0945 ┆ 59DE41B8-D56A-401C-B │\n",
       "│ 8C-029048…            ┆                ┆                      ┆           ┆ E0E-39CA64…          │\n",
       "│ …                     ┆ …              ┆ …                    ┆ …         ┆ …                    │\n",
       "│ DE806CB9-1548-4200-A0 ┆ null           ┆ 2012-04-30 14:34:32  ┆ 9822/0310 ┆ E6206E74-E250-492B-A │\n",
       "│ AB-FECEC7…            ┆                ┆                      ┆           ┆ 203-F69326…          │\n",
       "│ 46C8AA81-C45A-4392-B1 ┆ null           ┆ 2012-02-09 17:31:14  ┆ 9822/0500 ┆ 7F042236-8D08-4927-A │\n",
       "│ DD-FED6F2…            ┆                ┆                      ┆           ┆ 55A-7BE155…          │\n",
       "│ 3E0D82D1-BFB3-4B63-BE ┆ 2002-10-19     ┆ 2000-04-20 00:00:00  ┆ 9802/9610 ┆ 89FB1C3F-5F21-4FE9-A │\n",
       "│ 6E-FEDB4A…            ┆ 12:42:16       ┆                      ┆           ┆ 339-341AA8…          │\n",
       "│ 4725A01E-3909-4E79-B2 ┆ null           ┆ 2006-03-24 00:00:00  ┆ 9802/5940 ┆ 59DE41B8-D56A-401C-B │\n",
       "│ 0D-FF75BE…            ┆                ┆                      ┆           ┆ E0E-39CA64…          │\n",
       "│ A33B3AFE-F49F-4090-87 ┆ null           ┆ 2007-08-01 00:00:00  ┆ 9802/0090 ┆ 6A35BF04-B5B7-4503-A │\n",
       "│ 16-FF8596…            ┆                ┆                      ┆           ┆ DF8-B577DF…          │\n",
       "└───────────────────────┴────────────────┴──────────────────────┴───────────┴──────────────────────┘"
      ]
     },
     "execution_count": 28,
     "metadata": {},
     "output_type": "execute_result"
    }
   ],
   "source": [
    "c"
   ]
  },
  {
   "cell_type": "code",
   "execution_count": 29,
   "id": "e0d8a1c1",
   "metadata": {},
   "outputs": [
    {
     "data": {
      "text/html": [
       "<div><style>\n",
       ".dataframe > thead > tr,\n",
       ".dataframe > tbody > tr {\n",
       "  text-align: right;\n",
       "  white-space: pre-wrap;\n",
       "}\n",
       "</style>\n",
       "<small>shape: (5, 2)</small><table border=\"1\" class=\"dataframe\"><thead><tr><th>column</th><th>n_unique</th></tr><tr><td>str</td><td>i64</td></tr></thead><tbody><tr><td>&quot;CatalogID&quot;</td><td>761</td></tr><tr><td>&quot;ProductionDate&quot;</td><td>311</td></tr><tr><td>&quot;ReleaseDate&quot;</td><td>602</td></tr><tr><td>&quot;Number&quot;</td><td>761</td></tr><tr><td>&quot;ProductGroupID&quot;</td><td>33</td></tr></tbody></table></div>"
      ],
      "text/plain": [
       "shape: (5, 2)\n",
       "┌────────────────┬──────────┐\n",
       "│ column         ┆ n_unique │\n",
       "│ ---            ┆ ---      │\n",
       "│ str            ┆ i64      │\n",
       "╞════════════════╪══════════╡\n",
       "│ CatalogID      ┆ 761      │\n",
       "│ ProductionDate ┆ 311      │\n",
       "│ ReleaseDate    ┆ 602      │\n",
       "│ Number         ┆ 761      │\n",
       "│ ProductGroupID ┆ 33       │\n",
       "└────────────────┴──────────┘"
      ]
     },
     "execution_count": 29,
     "metadata": {},
     "output_type": "execute_result"
    }
   ],
   "source": [
    "pl.DataFrame({\n",
    "    \"column\": c.columns,\n",
    "    \"n_unique\": [c[col].n_unique() for col in c.columns]\n",
    "})"
   ]
  },
  {
   "cell_type": "code",
   "execution_count": 31,
   "id": "df505fe9",
   "metadata": {},
   "outputs": [],
   "source": [
    "cm = pl.read_csv(\"./data/CTC_Model.csv\")"
   ]
  },
  {
   "cell_type": "code",
   "execution_count": 32,
   "id": "90dbb6d4",
   "metadata": {},
   "outputs": [],
   "source": [
    "mssprc = msspr.join(cm, on=\"ModelID\")"
   ]
  },
  {
   "cell_type": "code",
   "execution_count": 34,
   "id": "38d01454",
   "metadata": {},
   "outputs": [],
   "source": [
    "mssprc = mssprc.drop(\"CTC_ModelID\")"
   ]
  },
  {
   "cell_type": "code",
   "execution_count": 35,
   "id": "2ed371e9",
   "metadata": {},
   "outputs": [
    {
     "data": {
      "text/html": [
       "<div><style>\n",
       ".dataframe > thead > tr,\n",
       ".dataframe > tbody > tr {\n",
       "  text-align: right;\n",
       "  white-space: pre-wrap;\n",
       "}\n",
       "</style>\n",
       "<small>shape: (1_239, 12)</small><table border=\"1\" class=\"dataframe\"><thead><tr><th>ProductionUnitID</th><th>ManufactureDate</th><th>EngineNumber</th><th>PrimaryBuildCode</th><th>RetailDealerAccount</th><th>SalesModel</th><th>SerialNumber</th><th>SpecificationID</th><th>Description</th><th>Name</th><th>ModelID</th><th>CatalogID</th></tr><tr><td>str</td><td>str</td><td>str</td><td>i64</td><td>f64</td><td>str</td><td>i64</td><td>str</td><td>str</td><td>str</td><td>str</td><td>str</td></tr></thead><tbody><tr><td>&quot;AFE66A6D-FA16-4B43-A505-020716…</td><td>&quot;2012-09-28&quot;</td><td>&quot;SD320/40407U1220712 &quot;</td><td>8857</td><td>6082.0</td><td>&quot;MC115C&quot;</td><td>1641162</td><td>&quot;AA56B37D-7C7A-4932-AC24-39FD45…</td><td>&quot;Skidsteer 3 Large Platform Vol…</td><td>null</td><td>&quot;BB797C47-C04E-4D3B-8348-CE0530…</td><td>&quot;63285D00-4704-48AD-A883-113173…</td></tr><tr><td>&quot;AFE66A6D-FA16-4B43-A505-020716…</td><td>&quot;2012-09-28&quot;</td><td>&quot;SD320/40407U1220712 &quot;</td><td>8857</td><td>6082.0</td><td>&quot;MC115C&quot;</td><td>1641162</td><td>&quot;AA56B37D-7C7A-4932-AC24-39FD45…</td><td>&quot;Skidsteer 3 Large Platform Vol…</td><td>null</td><td>&quot;BB797C47-C04E-4D3B-8348-CE0530…</td><td>&quot;ADD255BA-1630-49F5-A3FA-134EFE…</td></tr><tr><td>&quot;AFB93D49-F81D-401A-9169-EF1E93…</td><td>&quot;2012-08-17&quot;</td><td>&quot;SD320/40407U1278212 &quot;</td><td>8865</td><td>6082.0</td><td>&quot;MCT125C&quot;</td><td>1641081</td><td>&quot;A5D6FCFF-A042-4EA4-899F-62758E…</td><td>&quot;Skidsteer 3 Large Platform Vol…</td><td>null</td><td>&quot;684D5214-28B3-4765-B8FC-1A06B2…</td><td>&quot;63285D00-4704-48AD-A883-113173…</td></tr><tr><td>&quot;AFB93D49-F81D-401A-9169-EF1E93…</td><td>&quot;2012-08-17&quot;</td><td>&quot;SD320/40407U1278212 &quot;</td><td>8865</td><td>6082.0</td><td>&quot;MCT125C&quot;</td><td>1641081</td><td>&quot;A5D6FCFF-A042-4EA4-899F-62758E…</td><td>&quot;Skidsteer 3 Large Platform Vol…</td><td>null</td><td>&quot;684D5214-28B3-4765-B8FC-1A06B2…</td><td>&quot;ADD255BA-1630-49F5-A3FA-134EFE…</td></tr><tr><td>&quot;7F4634B2-4C78-4A39-B2B8-0F1CCD…</td><td>&quot;2012-03-29&quot;</td><td>&quot;SD320/40407U0388012 &quot;</td><td>8857</td><td>6082.0</td><td>&quot;MC115C&quot;</td><td>1640669</td><td>&quot;AA56B37D-7C7A-4932-AC24-39FD45…</td><td>&quot;Skidsteer 3 Large Platform Vol…</td><td>null</td><td>&quot;BB797C47-C04E-4D3B-8348-CE0530…</td><td>&quot;63285D00-4704-48AD-A883-113173…</td></tr><tr><td>&hellip;</td><td>&hellip;</td><td>&hellip;</td><td>&hellip;</td><td>&hellip;</td><td>&hellip;</td><td>&hellip;</td><td>&hellip;</td><td>&hellip;</td><td>&hellip;</td><td>&hellip;</td><td>&hellip;</td></tr><tr><td>&quot;E4081A9A-550B-4B94-9468-4E1575…</td><td>&quot;2011-07-07&quot;</td><td>&quot;SD32040133U1230311&nbsp;&nbsp;&quot;</td><td>8865</td><td>2167.0</td><td>&quot;MCT125C&quot;</td><td>1640053</td><td>&quot;A5D6FCFF-A042-4EA4-899F-62758E…</td><td>&quot;Skidsteer 3 Large Platform Vol…</td><td>null</td><td>&quot;684D5214-28B3-4765-B8FC-1A06B2…</td><td>&quot;ADD255BA-1630-49F5-A3FA-134EFE…</td></tr><tr><td>&quot;D82D9DFE-60F9-4445-A60E-26C382…</td><td>&quot;2012-05-14&quot;</td><td>&quot;SD320/40407U0583212 &quot;</td><td>8857</td><td>6082.0</td><td>&quot;MC115C&quot;</td><td>1640829</td><td>&quot;AA56B37D-7C7A-4932-AC24-39FD45…</td><td>&quot;Skidsteer 3 Large Platform Vol…</td><td>null</td><td>&quot;BB797C47-C04E-4D3B-8348-CE0530…</td><td>&quot;63285D00-4704-48AD-A883-113173…</td></tr><tr><td>&quot;D82D9DFE-60F9-4445-A60E-26C382…</td><td>&quot;2012-05-14&quot;</td><td>&quot;SD320/40407U0583212 &quot;</td><td>8857</td><td>6082.0</td><td>&quot;MC115C&quot;</td><td>1640829</td><td>&quot;AA56B37D-7C7A-4932-AC24-39FD45…</td><td>&quot;Skidsteer 3 Large Platform Vol…</td><td>null</td><td>&quot;BB797C47-C04E-4D3B-8348-CE0530…</td><td>&quot;ADD255BA-1630-49F5-A3FA-134EFE…</td></tr><tr><td>&quot;B87E7FEF-8CFA-4111-B563-A377EC…</td><td>&quot;2012-03-29&quot;</td><td>&quot;SD320/40407U0363512 &quot;</td><td>8857</td><td>6082.0</td><td>&quot;MC115C&quot;</td><td>1640647</td><td>&quot;AA56B37D-7C7A-4932-AC24-39FD45…</td><td>&quot;Skidsteer 3 Large Platform Vol…</td><td>null</td><td>&quot;BB797C47-C04E-4D3B-8348-CE0530…</td><td>&quot;63285D00-4704-48AD-A883-113173…</td></tr><tr><td>&quot;B87E7FEF-8CFA-4111-B563-A377EC…</td><td>&quot;2012-03-29&quot;</td><td>&quot;SD320/40407U0363512 &quot;</td><td>8857</td><td>6082.0</td><td>&quot;MC115C&quot;</td><td>1640647</td><td>&quot;AA56B37D-7C7A-4932-AC24-39FD45…</td><td>&quot;Skidsteer 3 Large Platform Vol…</td><td>null</td><td>&quot;BB797C47-C04E-4D3B-8348-CE0530…</td><td>&quot;ADD255BA-1630-49F5-A3FA-134EFE…</td></tr></tbody></table></div>"
      ],
      "text/plain": [
       "shape: (1_239, 12)\n",
       "┌────────────┬────────────┬────────────┬────────────┬───┬───────────┬──────┬───────────┬───────────┐\n",
       "│ Production ┆ Manufactur ┆ EngineNumb ┆ PrimaryBui ┆ … ┆ Descripti ┆ Name ┆ ModelID   ┆ CatalogID │\n",
       "│ UnitID     ┆ eDate      ┆ er         ┆ ldCode     ┆   ┆ on        ┆ ---  ┆ ---       ┆ ---       │\n",
       "│ ---        ┆ ---        ┆ ---        ┆ ---        ┆   ┆ ---       ┆ str  ┆ str       ┆ str       │\n",
       "│ str        ┆ str        ┆ str        ┆ i64        ┆   ┆ str       ┆      ┆           ┆           │\n",
       "╞════════════╪════════════╪════════════╪════════════╪═══╪═══════════╪══════╪═══════════╪═══════════╡\n",
       "│ AFE66A6D-F ┆ 2012-09-28 ┆ SD320/4040 ┆ 8857       ┆ … ┆ Skidsteer ┆ null ┆ BB797C47- ┆ 63285D00- │\n",
       "│ A16-4B43-A ┆            ┆ 7U1220712  ┆            ┆   ┆ 3 Large   ┆      ┆ C04E-4D3B ┆ 4704-48AD │\n",
       "│ 505-020716 ┆            ┆            ┆            ┆   ┆ Platform  ┆      ┆ -8348-CE0 ┆ -A883-113 │\n",
       "│ …          ┆            ┆            ┆            ┆   ┆ Vol…      ┆      ┆ 530…      ┆ 173…      │\n",
       "│ AFE66A6D-F ┆ 2012-09-28 ┆ SD320/4040 ┆ 8857       ┆ … ┆ Skidsteer ┆ null ┆ BB797C47- ┆ ADD255BA- │\n",
       "│ A16-4B43-A ┆            ┆ 7U1220712  ┆            ┆   ┆ 3 Large   ┆      ┆ C04E-4D3B ┆ 1630-49F5 │\n",
       "│ 505-020716 ┆            ┆            ┆            ┆   ┆ Platform  ┆      ┆ -8348-CE0 ┆ -A3FA-134 │\n",
       "│ …          ┆            ┆            ┆            ┆   ┆ Vol…      ┆      ┆ 530…      ┆ EFE…      │\n",
       "│ AFB93D49-F ┆ 2012-08-17 ┆ SD320/4040 ┆ 8865       ┆ … ┆ Skidsteer ┆ null ┆ 684D5214- ┆ 63285D00- │\n",
       "│ 81D-401A-9 ┆            ┆ 7U1278212  ┆            ┆   ┆ 3 Large   ┆      ┆ 28B3-4765 ┆ 4704-48AD │\n",
       "│ 169-EF1E93 ┆            ┆            ┆            ┆   ┆ Platform  ┆      ┆ -B8FC-1A0 ┆ -A883-113 │\n",
       "│ …          ┆            ┆            ┆            ┆   ┆ Vol…      ┆      ┆ 6B2…      ┆ 173…      │\n",
       "│ AFB93D49-F ┆ 2012-08-17 ┆ SD320/4040 ┆ 8865       ┆ … ┆ Skidsteer ┆ null ┆ 684D5214- ┆ ADD255BA- │\n",
       "│ 81D-401A-9 ┆            ┆ 7U1278212  ┆            ┆   ┆ 3 Large   ┆      ┆ 28B3-4765 ┆ 1630-49F5 │\n",
       "│ 169-EF1E93 ┆            ┆            ┆            ┆   ┆ Platform  ┆      ┆ -B8FC-1A0 ┆ -A3FA-134 │\n",
       "│ …          ┆            ┆            ┆            ┆   ┆ Vol…      ┆      ┆ 6B2…      ┆ EFE…      │\n",
       "│ 7F4634B2-4 ┆ 2012-03-29 ┆ SD320/4040 ┆ 8857       ┆ … ┆ Skidsteer ┆ null ┆ BB797C47- ┆ 63285D00- │\n",
       "│ C78-4A39-B ┆            ┆ 7U0388012  ┆            ┆   ┆ 3 Large   ┆      ┆ C04E-4D3B ┆ 4704-48AD │\n",
       "│ 2B8-0F1CCD ┆            ┆            ┆            ┆   ┆ Platform  ┆      ┆ -8348-CE0 ┆ -A883-113 │\n",
       "│ …          ┆            ┆            ┆            ┆   ┆ Vol…      ┆      ┆ 530…      ┆ 173…      │\n",
       "│ …          ┆ …          ┆ …          ┆ …          ┆ … ┆ …         ┆ …    ┆ …         ┆ …         │\n",
       "│ E4081A9A-5 ┆ 2011-07-07 ┆ SD32040133 ┆ 8865       ┆ … ┆ Skidsteer ┆ null ┆ 684D5214- ┆ ADD255BA- │\n",
       "│ 50B-4B94-9 ┆            ┆ U1230311   ┆            ┆   ┆ 3 Large   ┆      ┆ 28B3-4765 ┆ 1630-49F5 │\n",
       "│ 468-4E1575 ┆            ┆            ┆            ┆   ┆ Platform  ┆      ┆ -B8FC-1A0 ┆ -A3FA-134 │\n",
       "│ …          ┆            ┆            ┆            ┆   ┆ Vol…      ┆      ┆ 6B2…      ┆ EFE…      │\n",
       "│ D82D9DFE-6 ┆ 2012-05-14 ┆ SD320/4040 ┆ 8857       ┆ … ┆ Skidsteer ┆ null ┆ BB797C47- ┆ 63285D00- │\n",
       "│ 0F9-4445-A ┆            ┆ 7U0583212  ┆            ┆   ┆ 3 Large   ┆      ┆ C04E-4D3B ┆ 4704-48AD │\n",
       "│ 60E-26C382 ┆            ┆            ┆            ┆   ┆ Platform  ┆      ┆ -8348-CE0 ┆ -A883-113 │\n",
       "│ …          ┆            ┆            ┆            ┆   ┆ Vol…      ┆      ┆ 530…      ┆ 173…      │\n",
       "│ D82D9DFE-6 ┆ 2012-05-14 ┆ SD320/4040 ┆ 8857       ┆ … ┆ Skidsteer ┆ null ┆ BB797C47- ┆ ADD255BA- │\n",
       "│ 0F9-4445-A ┆            ┆ 7U0583212  ┆            ┆   ┆ 3 Large   ┆      ┆ C04E-4D3B ┆ 1630-49F5 │\n",
       "│ 60E-26C382 ┆            ┆            ┆            ┆   ┆ Platform  ┆      ┆ -8348-CE0 ┆ -A3FA-134 │\n",
       "│ …          ┆            ┆            ┆            ┆   ┆ Vol…      ┆      ┆ 530…      ┆ EFE…      │\n",
       "│ B87E7FEF-8 ┆ 2012-03-29 ┆ SD320/4040 ┆ 8857       ┆ … ┆ Skidsteer ┆ null ┆ BB797C47- ┆ 63285D00- │\n",
       "│ CFA-4111-B ┆            ┆ 7U0363512  ┆            ┆   ┆ 3 Large   ┆      ┆ C04E-4D3B ┆ 4704-48AD │\n",
       "│ 563-A377EC ┆            ┆            ┆            ┆   ┆ Platform  ┆      ┆ -8348-CE0 ┆ -A883-113 │\n",
       "│ …          ┆            ┆            ┆            ┆   ┆ Vol…      ┆      ┆ 530…      ┆ 173…      │\n",
       "│ B87E7FEF-8 ┆ 2012-03-29 ┆ SD320/4040 ┆ 8857       ┆ … ┆ Skidsteer ┆ null ┆ BB797C47- ┆ ADD255BA- │\n",
       "│ CFA-4111-B ┆            ┆ 7U0363512  ┆            ┆   ┆ 3 Large   ┆      ┆ C04E-4D3B ┆ 1630-49F5 │\n",
       "│ 563-A377EC ┆            ┆            ┆            ┆   ┆ Platform  ┆      ┆ -8348-CE0 ┆ -A3FA-134 │\n",
       "│ …          ┆            ┆            ┆            ┆   ┆ Vol…      ┆      ┆ 530…      ┆ EFE…      │\n",
       "└────────────┴────────────┴────────────┴────────────┴───┴───────────┴──────┴───────────┴───────────┘"
      ]
     },
     "execution_count": 35,
     "metadata": {},
     "output_type": "execute_result"
    }
   ],
   "source": [
    "mssprc"
   ]
  },
  {
   "cell_type": "code",
   "execution_count": null,
   "id": "60bf9542",
   "metadata": {},
   "outputs": [],
   "source": []
  },
  {
   "cell_type": "code",
   "execution_count": 36,
   "id": "57261d63",
   "metadata": {},
   "outputs": [],
   "source": [
    "mersppr = mssprc.join(merspp,on=[\"SpecificationID\",\"ModelID\",\"CatalogID\"],how=\"inner\")"
   ]
  },
  {
   "cell_type": "code",
   "execution_count": 37,
   "id": "bbe60a81",
   "metadata": {},
   "outputs": [],
   "source": [
    "mersppr.write_csv(\"./data/mersppr.csv\")"
   ]
  },
  {
   "cell_type": "code",
   "execution_count": 29,
   "id": "a184d153",
   "metadata": {},
   "outputs": [],
   "source": [
    "msspr.write_csv(\"./data/msspr.csv\")\n",
    "merspp.write_csv(\"./data/merspp.csv\")"
   ]
  }
 ],
 "metadata": {
  "kernelspec": {
   "display_name": "Python 3",
   "language": "python",
   "name": "python3"
  },
  "language_info": {
   "codemirror_mode": {
    "name": "ipython",
    "version": 3
   },
   "file_extension": ".py",
   "mimetype": "text/x-python",
   "name": "python",
   "nbconvert_exporter": "python",
   "pygments_lexer": "ipython3",
   "version": "3.13.2"
  }
 },
 "nbformat": 4,
 "nbformat_minor": 5
}
