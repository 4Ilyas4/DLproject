{
 "cells": [
  {
   "cell_type": "code",
   "execution_count": 2,
   "id": "be142829",
   "metadata": {},
   "outputs": [],
   "source": [
    "import polars as pl\n",
    "import pandas as pd"
   ]
  },
  {
   "cell_type": "code",
   "execution_count": 3,
   "id": "a3cbe64c",
   "metadata": {},
   "outputs": [],
   "source": [
    "s1 = pl.read_csv(\"C:/Users/user/Desktop/1s.csv\")\n",
    "s2 = pl.read_csv(\"C:/Users/user/Desktop/2s.csv\")"
   ]
  },
  {
   "cell_type": "code",
   "execution_count": 4,
   "id": "570f9793",
   "metadata": {},
   "outputs": [
    {
     "data": {
      "text/html": [
       "<div><style>\n",
       ".dataframe > thead > tr,\n",
       ".dataframe > tbody > tr {\n",
       "  text-align: right;\n",
       "  white-space: pre-wrap;\n",
       "}\n",
       "</style>\n",
       "<small>shape: (913_090, 11)</small><table border=\"1\" class=\"dataframe\"><thead><tr><th>ProductionUnitID</th><th>ManufactureDate</th><th>EngineNumber</th><th>PrimaryBuildCode</th><th>RetailDealerAccount</th><th>SalesModel</th><th>SerialNumber</th><th>SpecificationID</th><th>Description</th><th>Name</th><th>ModelID</th></tr><tr><td>str</td><td>str</td><td>str</td><td>i64</td><td>f64</td><td>str</td><td>i64</td><td>str</td><td>str</td><td>str</td><td>str</td></tr></thead><tbody><tr><td>&quot;8738EC15-82B8-4AD2-A6AD-103084…</td><td>&quot;2007-06-21&quot;</td><td>&quot;4JJ1XYSJ01100989&nbsp;&nbsp;&nbsp;&nbsp;&quot;</td><td>9327</td><td>1065.0</td><td>&quot;JS160W&quot;</td><td>1421608</td><td>&quot;BFAB57AA-9BDF-4D75-993D-DA5D7F…</td><td>null</td><td>&quot;JS160W&quot;</td><td>&quot;09377C2F-F261-4543-A14C-D302A2…</td></tr><tr><td>&quot;30DE9A06-5794-4E8C-BD81-6CCD22…</td><td>&quot;1998-11-24&quot;</td><td>&quot;AK50671U931200D&nbsp;&nbsp;&nbsp;&nbsp;&nbsp;&quot;</td><td>null</td><td>null</td><td>&quot;530FS&quot;</td><td>773602</td><td>&quot;5E014E5A-BF22-4AAA-834F-C951F8…</td><td>null</td><td>null</td><td>&quot;2B3ECFA5-76D3-42BC-8FDE-077187…</td></tr><tr><td>&quot;0ED65BC6-3A8A-4A2E-88ED-552B41…</td><td>&quot;2006-01-18&quot;</td><td>&quot;RE38115U267048M&nbsp;&nbsp;&nbsp;&nbsp;&nbsp;&quot;</td><td>5847</td><td>7754.0</td><td>&quot;527-55 4WS&quot;</td><td>1068531</td><td>&quot;60D97074-F56D-48BC-BA85-E23851…</td><td>null</td><td>null</td><td>&quot;F6875B07-FFDB-4724-A395-74B83C…</td></tr><tr><td>&quot;F39B7547-E286-4A90-833E-415F81…</td><td>&quot;1997-04-18&quot;</td><td>&quot;643577B&nbsp;&nbsp;&nbsp;&nbsp;&nbsp;&nbsp;&nbsp;&nbsp;&nbsp;&nbsp;&nbsp;&nbsp;&nbsp;&quot;</td><td>null</td><td>7506.0</td><td>&quot;803&quot;</td><td>765077</td><td>&quot;40FD5DF9-EC91-44DC-BB77-36539F…</td><td>null</td><td>&quot;803&quot;</td><td>&quot;46B63C5C-FF82-4395-B4DD-E97530…</td></tr><tr><td>&quot;F0DD48FD-BB6C-4CB2-954C-C535E7…</td><td>&quot;1990-12-21&quot;</td><td>&quot;AC50283U562939U&nbsp;&nbsp;&nbsp;&nbsp;&nbsp;&quot;</td><td>null</td><td>2059.0</td><td>&quot;3CX-4 TURB&quot;</td><td>363144</td><td>&quot;0A28F874-E979-4945-A5D9-E78C6A…</td><td>null</td><td>null</td><td>&quot;CB45EBD6-F557-47EA-82A2-77C90F…</td></tr><tr><td>&hellip;</td><td>&hellip;</td><td>&hellip;</td><td>&hellip;</td><td>&hellip;</td><td>&hellip;</td><td>&hellip;</td><td>&hellip;</td><td>&hellip;</td><td>&hellip;</td><td>&hellip;</td></tr><tr><td>&quot;2F63AA09-26A6-4A53-A418-4DD9B5…</td><td>&quot;2010-04-09&quot;</td><td>&quot;4H.2723/1020129&nbsp;&nbsp;&nbsp;&nbsp;&nbsp;&quot;</td><td>null</td><td>8254.0</td><td>&quot;3DX&quot;</td><td>1388678</td><td>&quot;01BD3B92-25E5-489F-9A5D-120637…</td><td>null</td><td>&quot;3DX&quot;</td><td>&quot;1A08FB44-B05C-4AD0-B6E1-98FA89…</td></tr><tr><td>&quot;2B0BD287-9407-4C52-90E0-76BECA…</td><td>&quot;2009-11-06&quot;</td><td>&quot;SD320/40336U1034409 &quot;</td><td>2140</td><td>3558.0</td><td>&quot;3CX 4&quot;</td><td>1618364</td><td>&quot;6C7BF256-8FB7-45E0-AFB0-81F53D…</td><td>null</td><td>null</td><td>&quot;A223BB0E-5A41-49A5-93F3-554ECC…</td></tr><tr><td>&quot;DC53DF67-6C53-454B-99F6-E6B7F7…</td><td>&quot;2008-07-31&quot;</td><td>&quot;SB320/40064U0974808 &quot;</td><td>2511</td><td>3283.0</td><td>&quot;3C 4T CM&quot;</td><td>1002735</td><td>&quot;572F08CE-1AFA-4F0A-A1FF-1A5009…</td><td>null</td><td>null</td><td>&quot;87248659-26AF-416E-A757-9E1687…</td></tr><tr><td>&quot;3A432290-2CFD-42EC-B6BB-C5BBB5…</td><td>&quot;2000-11-24&quot;</td><td>&quot;KD50316U133623G&nbsp;&nbsp;&nbsp;&nbsp;&nbsp;&quot;</td><td>8019</td><td>null</td><td>&quot;8015&quot;</td><td>821223</td><td>&quot;B67FFDDE-D50C-4F05-B0AF-8140A5…</td><td>&quot;8015 mini excavator&quot;</td><td>null</td><td>&quot;D43D195D-95DC-41F8-9EC1-1331C4…</td></tr><tr><td>&quot;E2C953FE-54CB-4CA3-AE96-32C1AA…</td><td>&quot;1990-04-30&quot;</td><td>&quot;AA50254U548071U&nbsp;&nbsp;&nbsp;&nbsp;&nbsp;&quot;</td><td>null</td><td>2213.0</td><td>&quot;3CX-4&quot;</td><td>358317</td><td>&quot;AA13F1DE-F55C-4984-B15B-9D74C8…</td><td>null</td><td>&quot;3CX-4&quot;</td><td>&quot;C0D15DEB-E35F-45B8-ABE1-D0C754…</td></tr></tbody></table></div>"
      ],
      "text/plain": [
       "shape: (913_090, 11)\n",
       "┌────────────┬────────────┬───────────┬───────────┬───┬───────────┬───────────┬────────┬───────────┐\n",
       "│ Production ┆ Manufactur ┆ EngineNum ┆ PrimaryBu ┆ … ┆ Specifica ┆ Descripti ┆ Name   ┆ ModelID   │\n",
       "│ UnitID     ┆ eDate      ┆ ber       ┆ ildCode   ┆   ┆ tionID    ┆ on        ┆ ---    ┆ ---       │\n",
       "│ ---        ┆ ---        ┆ ---       ┆ ---       ┆   ┆ ---       ┆ ---       ┆ str    ┆ str       │\n",
       "│ str        ┆ str        ┆ str       ┆ i64       ┆   ┆ str       ┆ str       ┆        ┆           │\n",
       "╞════════════╪════════════╪═══════════╪═══════════╪═══╪═══════════╪═══════════╪════════╪═══════════╡\n",
       "│ 8738EC15-8 ┆ 2007-06-21 ┆ 4JJ1XYSJ0 ┆ 9327      ┆ … ┆ BFAB57AA- ┆ null      ┆ JS160W ┆ 09377C2F- │\n",
       "│ 2B8-4AD2-A ┆            ┆ 1100989   ┆           ┆   ┆ 9BDF-4D75 ┆           ┆        ┆ F261-4543 │\n",
       "│ 6AD-103084 ┆            ┆           ┆           ┆   ┆ -993D-DA5 ┆           ┆        ┆ -A14C-D30 │\n",
       "│ …          ┆            ┆           ┆           ┆   ┆ D7F…      ┆           ┆        ┆ 2A2…      │\n",
       "│ 30DE9A06-5 ┆ 1998-11-24 ┆ AK50671U9 ┆ null      ┆ … ┆ 5E014E5A- ┆ null      ┆ null   ┆ 2B3ECFA5- │\n",
       "│ 794-4E8C-B ┆            ┆ 31200D    ┆           ┆   ┆ BF22-4AAA ┆           ┆        ┆ 76D3-42BC │\n",
       "│ D81-6CCD22 ┆            ┆           ┆           ┆   ┆ -834F-C95 ┆           ┆        ┆ -8FDE-077 │\n",
       "│ …          ┆            ┆           ┆           ┆   ┆ 1F8…      ┆           ┆        ┆ 187…      │\n",
       "│ 0ED65BC6-3 ┆ 2006-01-18 ┆ RE38115U2 ┆ 5847      ┆ … ┆ 60D97074- ┆ null      ┆ null   ┆ F6875B07- │\n",
       "│ A8A-4A2E-8 ┆            ┆ 67048M    ┆           ┆   ┆ F56D-48BC ┆           ┆        ┆ FFDB-4724 │\n",
       "│ 8ED-552B41 ┆            ┆           ┆           ┆   ┆ -BA85-E23 ┆           ┆        ┆ -A395-74B │\n",
       "│ …          ┆            ┆           ┆           ┆   ┆ 851…      ┆           ┆        ┆ 83C…      │\n",
       "│ F39B7547-E ┆ 1997-04-18 ┆ 643577B   ┆ null      ┆ … ┆ 40FD5DF9- ┆ null      ┆ 803    ┆ 46B63C5C- │\n",
       "│ 286-4A90-8 ┆            ┆           ┆           ┆   ┆ EC91-44DC ┆           ┆        ┆ FF82-4395 │\n",
       "│ 33E-415F81 ┆            ┆           ┆           ┆   ┆ -BB77-365 ┆           ┆        ┆ -B4DD-E97 │\n",
       "│ …          ┆            ┆           ┆           ┆   ┆ 39F…      ┆           ┆        ┆ 530…      │\n",
       "│ F0DD48FD-B ┆ 1990-12-21 ┆ AC50283U5 ┆ null      ┆ … ┆ 0A28F874- ┆ null      ┆ null   ┆ CB45EBD6- │\n",
       "│ B6C-4CB2-9 ┆            ┆ 62939U    ┆           ┆   ┆ E979-4945 ┆           ┆        ┆ F557-47EA │\n",
       "│ 54C-C535E7 ┆            ┆           ┆           ┆   ┆ -A5D9-E78 ┆           ┆        ┆ -82A2-77C │\n",
       "│ …          ┆            ┆           ┆           ┆   ┆ C6A…      ┆           ┆        ┆ 90F…      │\n",
       "│ …          ┆ …          ┆ …         ┆ …         ┆ … ┆ …         ┆ …         ┆ …      ┆ …         │\n",
       "│ 2F63AA09-2 ┆ 2010-04-09 ┆ 4H.2723/1 ┆ null      ┆ … ┆ 01BD3B92- ┆ null      ┆ 3DX    ┆ 1A08FB44- │\n",
       "│ 6A6-4A53-A ┆            ┆ 020129    ┆           ┆   ┆ 25E5-489F ┆           ┆        ┆ B05C-4AD0 │\n",
       "│ 418-4DD9B5 ┆            ┆           ┆           ┆   ┆ -9A5D-120 ┆           ┆        ┆ -B6E1-98F │\n",
       "│ …          ┆            ┆           ┆           ┆   ┆ 637…      ┆           ┆        ┆ A89…      │\n",
       "│ 2B0BD287-9 ┆ 2009-11-06 ┆ SD320/403 ┆ 2140      ┆ … ┆ 6C7BF256- ┆ null      ┆ null   ┆ A223BB0E- │\n",
       "│ 407-4C52-9 ┆            ┆ 36U103440 ┆           ┆   ┆ 8FB7-45E0 ┆           ┆        ┆ 5A41-49A5 │\n",
       "│ 0E0-76BECA ┆            ┆ 9         ┆           ┆   ┆ -AFB0-81F ┆           ┆        ┆ -93F3-554 │\n",
       "│ …          ┆            ┆           ┆           ┆   ┆ 53D…      ┆           ┆        ┆ ECC…      │\n",
       "│ DC53DF67-6 ┆ 2008-07-31 ┆ SB320/400 ┆ 2511      ┆ … ┆ 572F08CE- ┆ null      ┆ null   ┆ 87248659- │\n",
       "│ C53-454B-9 ┆            ┆ 64U097480 ┆           ┆   ┆ 1AFA-4F0A ┆           ┆        ┆ 26AF-416E │\n",
       "│ 9F6-E6B7F7 ┆            ┆ 8         ┆           ┆   ┆ -A1FF-1A5 ┆           ┆        ┆ -A757-9E1 │\n",
       "│ …          ┆            ┆           ┆           ┆   ┆ 009…      ┆           ┆        ┆ 687…      │\n",
       "│ 3A432290-2 ┆ 2000-11-24 ┆ KD50316U1 ┆ 8019      ┆ … ┆ B67FFDDE- ┆ 8015 mini ┆ null   ┆ D43D195D- │\n",
       "│ CFD-42EC-B ┆            ┆ 33623G    ┆           ┆   ┆ D50C-4F05 ┆ excavator ┆        ┆ 95DC-41F8 │\n",
       "│ 6BB-C5BBB5 ┆            ┆           ┆           ┆   ┆ -B0AF-814 ┆           ┆        ┆ -9EC1-133 │\n",
       "│ …          ┆            ┆           ┆           ┆   ┆ 0A5…      ┆           ┆        ┆ 1C4…      │\n",
       "│ E2C953FE-5 ┆ 1990-04-30 ┆ AA50254U5 ┆ null      ┆ … ┆ AA13F1DE- ┆ null      ┆ 3CX-4  ┆ C0D15DEB- │\n",
       "│ 4CB-4CA3-A ┆            ┆ 48071U    ┆           ┆   ┆ F55C-4984 ┆           ┆        ┆ E35F-45B8 │\n",
       "│ E96-32C1AA ┆            ┆           ┆           ┆   ┆ -B15B-9D7 ┆           ┆        ┆ -ABE1-D0C │\n",
       "│ …          ┆            ┆           ┆           ┆   ┆ 4C8…      ┆           ┆        ┆ 754…      │\n",
       "└────────────┴────────────┴───────────┴───────────┴───┴───────────┴───────────┴────────┴───────────┘"
      ]
     },
     "execution_count": 4,
     "metadata": {},
     "output_type": "execute_result"
    }
   ],
   "source": [
    "s1"
   ]
  },
  {
   "cell_type": "code",
   "execution_count": 9,
   "id": "6d11ea49",
   "metadata": {},
   "outputs": [
    {
     "data": {
      "text/html": [
       "<div><style>\n",
       ".dataframe > thead > tr,\n",
       ".dataframe > tbody > tr {\n",
       "  text-align: right;\n",
       "  white-space: pre-wrap;\n",
       "}\n",
       "</style>\n",
       "<small>shape: (913_090, 9)</small><table border=\"1\" class=\"dataframe\"><thead><tr><th>ProductionUnitID</th><th>ManufactureDate</th><th>EngineNumber</th><th>PrimaryBuildCode</th><th>RetailDealerAccount</th><th>SalesModel</th><th>SerialNumber</th><th>SpecificationID</th><th>ModelID</th></tr><tr><td>str</td><td>str</td><td>str</td><td>i64</td><td>f64</td><td>str</td><td>i64</td><td>str</td><td>str</td></tr></thead><tbody><tr><td>&quot;8738EC15-82B8-4AD2-A6AD-103084…</td><td>&quot;2007-06-21&quot;</td><td>&quot;4JJ1XYSJ01100989&quot;</td><td>9327</td><td>1065.0</td><td>&quot;JS160W&quot;</td><td>1421608</td><td>&quot;BFAB57AA-9BDF-4D75-993D-DA5D7F…</td><td>&quot;09377C2F-F261-4543-A14C-D302A2…</td></tr><tr><td>&quot;30DE9A06-5794-4E8C-BD81-6CCD22…</td><td>&quot;1998-11-24&quot;</td><td>&quot;AK50671U931200D&quot;</td><td>null</td><td>null</td><td>&quot;530FS&quot;</td><td>773602</td><td>&quot;5E014E5A-BF22-4AAA-834F-C951F8…</td><td>&quot;2B3ECFA5-76D3-42BC-8FDE-077187…</td></tr><tr><td>&quot;0ED65BC6-3A8A-4A2E-88ED-552B41…</td><td>&quot;2006-01-18&quot;</td><td>&quot;RE38115U267048M&quot;</td><td>5847</td><td>7754.0</td><td>&quot;527-55 4WS&quot;</td><td>1068531</td><td>&quot;60D97074-F56D-48BC-BA85-E23851…</td><td>&quot;F6875B07-FFDB-4724-A395-74B83C…</td></tr><tr><td>&quot;F39B7547-E286-4A90-833E-415F81…</td><td>&quot;1997-04-18&quot;</td><td>&quot;643577B&quot;</td><td>null</td><td>7506.0</td><td>&quot;803&quot;</td><td>765077</td><td>&quot;40FD5DF9-EC91-44DC-BB77-36539F…</td><td>&quot;46B63C5C-FF82-4395-B4DD-E97530…</td></tr><tr><td>&quot;F0DD48FD-BB6C-4CB2-954C-C535E7…</td><td>&quot;1990-12-21&quot;</td><td>&quot;AC50283U562939U&quot;</td><td>null</td><td>2059.0</td><td>&quot;3CX-4 TURB&quot;</td><td>363144</td><td>&quot;0A28F874-E979-4945-A5D9-E78C6A…</td><td>&quot;CB45EBD6-F557-47EA-82A2-77C90F…</td></tr><tr><td>&hellip;</td><td>&hellip;</td><td>&hellip;</td><td>&hellip;</td><td>&hellip;</td><td>&hellip;</td><td>&hellip;</td><td>&hellip;</td><td>&hellip;</td></tr><tr><td>&quot;2F63AA09-26A6-4A53-A418-4DD9B5…</td><td>&quot;2010-04-09&quot;</td><td>&quot;4H.2723/1020129&quot;</td><td>null</td><td>8254.0</td><td>&quot;3DX&quot;</td><td>1388678</td><td>&quot;01BD3B92-25E5-489F-9A5D-120637…</td><td>&quot;1A08FB44-B05C-4AD0-B6E1-98FA89…</td></tr><tr><td>&quot;2B0BD287-9407-4C52-90E0-76BECA…</td><td>&quot;2009-11-06&quot;</td><td>&quot;SD320/40336U1034409&quot;</td><td>2140</td><td>3558.0</td><td>&quot;3CX 4&quot;</td><td>1618364</td><td>&quot;6C7BF256-8FB7-45E0-AFB0-81F53D…</td><td>&quot;A223BB0E-5A41-49A5-93F3-554ECC…</td></tr><tr><td>&quot;DC53DF67-6C53-454B-99F6-E6B7F7…</td><td>&quot;2008-07-31&quot;</td><td>&quot;SB320/40064U0974808&quot;</td><td>2511</td><td>3283.0</td><td>&quot;3C 4T CM&quot;</td><td>1002735</td><td>&quot;572F08CE-1AFA-4F0A-A1FF-1A5009…</td><td>&quot;87248659-26AF-416E-A757-9E1687…</td></tr><tr><td>&quot;3A432290-2CFD-42EC-B6BB-C5BBB5…</td><td>&quot;2000-11-24&quot;</td><td>&quot;KD50316U133623G&quot;</td><td>8019</td><td>null</td><td>&quot;8015&quot;</td><td>821223</td><td>&quot;B67FFDDE-D50C-4F05-B0AF-8140A5…</td><td>&quot;D43D195D-95DC-41F8-9EC1-1331C4…</td></tr><tr><td>&quot;E2C953FE-54CB-4CA3-AE96-32C1AA…</td><td>&quot;1990-04-30&quot;</td><td>&quot;AA50254U548071U&quot;</td><td>null</td><td>2213.0</td><td>&quot;3CX-4&quot;</td><td>358317</td><td>&quot;AA13F1DE-F55C-4984-B15B-9D74C8…</td><td>&quot;C0D15DEB-E35F-45B8-ABE1-D0C754…</td></tr></tbody></table></div>"
      ],
      "text/plain": [
       "shape: (913_090, 9)\n",
       "┌───────────┬───────────┬───────────┬───────────┬───┬───────────┬───────────┬───────────┬──────────┐\n",
       "│ Productio ┆ Manufactu ┆ EngineNum ┆ PrimaryBu ┆ … ┆ SalesMode ┆ SerialNum ┆ Specifica ┆ ModelID  │\n",
       "│ nUnitID   ┆ reDate    ┆ ber       ┆ ildCode   ┆   ┆ l         ┆ ber       ┆ tionID    ┆ ---      │\n",
       "│ ---       ┆ ---       ┆ ---       ┆ ---       ┆   ┆ ---       ┆ ---       ┆ ---       ┆ str      │\n",
       "│ str       ┆ str       ┆ str       ┆ i64       ┆   ┆ str       ┆ i64       ┆ str       ┆          │\n",
       "╞═══════════╪═══════════╪═══════════╪═══════════╪═══╪═══════════╪═══════════╪═══════════╪══════════╡\n",
       "│ 8738EC15- ┆ 2007-06-2 ┆ 4JJ1XYSJ0 ┆ 9327      ┆ … ┆ JS160W    ┆ 1421608   ┆ BFAB57AA- ┆ 09377C2F │\n",
       "│ 82B8-4AD2 ┆ 1         ┆ 1100989   ┆           ┆   ┆           ┆           ┆ 9BDF-4D75 ┆ -F261-45 │\n",
       "│ -A6AD-103 ┆           ┆           ┆           ┆   ┆           ┆           ┆ -993D-DA5 ┆ 43-A14C- │\n",
       "│ 084…      ┆           ┆           ┆           ┆   ┆           ┆           ┆ D7F…      ┆ D302A2…  │\n",
       "│ 30DE9A06- ┆ 1998-11-2 ┆ AK50671U9 ┆ null      ┆ … ┆ 530FS     ┆ 773602    ┆ 5E014E5A- ┆ 2B3ECFA5 │\n",
       "│ 5794-4E8C ┆ 4         ┆ 31200D    ┆           ┆   ┆           ┆           ┆ BF22-4AAA ┆ -76D3-42 │\n",
       "│ -BD81-6CC ┆           ┆           ┆           ┆   ┆           ┆           ┆ -834F-C95 ┆ BC-8FDE- │\n",
       "│ D22…      ┆           ┆           ┆           ┆   ┆           ┆           ┆ 1F8…      ┆ 077187…  │\n",
       "│ 0ED65BC6- ┆ 2006-01-1 ┆ RE38115U2 ┆ 5847      ┆ … ┆ 527-55    ┆ 1068531   ┆ 60D97074- ┆ F6875B07 │\n",
       "│ 3A8A-4A2E ┆ 8         ┆ 67048M    ┆           ┆   ┆ 4WS       ┆           ┆ F56D-48BC ┆ -FFDB-47 │\n",
       "│ -88ED-552 ┆           ┆           ┆           ┆   ┆           ┆           ┆ -BA85-E23 ┆ 24-A395- │\n",
       "│ B41…      ┆           ┆           ┆           ┆   ┆           ┆           ┆ 851…      ┆ 74B83C…  │\n",
       "│ F39B7547- ┆ 1997-04-1 ┆ 643577B   ┆ null      ┆ … ┆ 803       ┆ 765077    ┆ 40FD5DF9- ┆ 46B63C5C │\n",
       "│ E286-4A90 ┆ 8         ┆           ┆           ┆   ┆           ┆           ┆ EC91-44DC ┆ -FF82-43 │\n",
       "│ -833E-415 ┆           ┆           ┆           ┆   ┆           ┆           ┆ -BB77-365 ┆ 95-B4DD- │\n",
       "│ F81…      ┆           ┆           ┆           ┆   ┆           ┆           ┆ 39F…      ┆ E97530…  │\n",
       "│ F0DD48FD- ┆ 1990-12-2 ┆ AC50283U5 ┆ null      ┆ … ┆ 3CX-4     ┆ 363144    ┆ 0A28F874- ┆ CB45EBD6 │\n",
       "│ BB6C-4CB2 ┆ 1         ┆ 62939U    ┆           ┆   ┆ TURB      ┆           ┆ E979-4945 ┆ -F557-47 │\n",
       "│ -954C-C53 ┆           ┆           ┆           ┆   ┆           ┆           ┆ -A5D9-E78 ┆ EA-82A2- │\n",
       "│ 5E7…      ┆           ┆           ┆           ┆   ┆           ┆           ┆ C6A…      ┆ 77C90F…  │\n",
       "│ …         ┆ …         ┆ …         ┆ …         ┆ … ┆ …         ┆ …         ┆ …         ┆ …        │\n",
       "│ 2F63AA09- ┆ 2010-04-0 ┆ 4H.2723/1 ┆ null      ┆ … ┆ 3DX       ┆ 1388678   ┆ 01BD3B92- ┆ 1A08FB44 │\n",
       "│ 26A6-4A53 ┆ 9         ┆ 020129    ┆           ┆   ┆           ┆           ┆ 25E5-489F ┆ -B05C-4A │\n",
       "│ -A418-4DD ┆           ┆           ┆           ┆   ┆           ┆           ┆ -9A5D-120 ┆ D0-B6E1- │\n",
       "│ 9B5…      ┆           ┆           ┆           ┆   ┆           ┆           ┆ 637…      ┆ 98FA89…  │\n",
       "│ 2B0BD287- ┆ 2009-11-0 ┆ SD320/403 ┆ 2140      ┆ … ┆ 3CX 4     ┆ 1618364   ┆ 6C7BF256- ┆ A223BB0E │\n",
       "│ 9407-4C52 ┆ 6         ┆ 36U103440 ┆           ┆   ┆           ┆           ┆ 8FB7-45E0 ┆ -5A41-49 │\n",
       "│ -90E0-76B ┆           ┆ 9         ┆           ┆   ┆           ┆           ┆ -AFB0-81F ┆ A5-93F3- │\n",
       "│ ECA…      ┆           ┆           ┆           ┆   ┆           ┆           ┆ 53D…      ┆ 554ECC…  │\n",
       "│ DC53DF67- ┆ 2008-07-3 ┆ SB320/400 ┆ 2511      ┆ … ┆ 3C 4T CM  ┆ 1002735   ┆ 572F08CE- ┆ 87248659 │\n",
       "│ 6C53-454B ┆ 1         ┆ 64U097480 ┆           ┆   ┆           ┆           ┆ 1AFA-4F0A ┆ -26AF-41 │\n",
       "│ -99F6-E6B ┆           ┆ 8         ┆           ┆   ┆           ┆           ┆ -A1FF-1A5 ┆ 6E-A757- │\n",
       "│ 7F7…      ┆           ┆           ┆           ┆   ┆           ┆           ┆ 009…      ┆ 9E1687…  │\n",
       "│ 3A432290- ┆ 2000-11-2 ┆ KD50316U1 ┆ 8019      ┆ … ┆ 8015      ┆ 821223    ┆ B67FFDDE- ┆ D43D195D │\n",
       "│ 2CFD-42EC ┆ 4         ┆ 33623G    ┆           ┆   ┆           ┆           ┆ D50C-4F05 ┆ -95DC-41 │\n",
       "│ -B6BB-C5B ┆           ┆           ┆           ┆   ┆           ┆           ┆ -B0AF-814 ┆ F8-9EC1- │\n",
       "│ BB5…      ┆           ┆           ┆           ┆   ┆           ┆           ┆ 0A5…      ┆ 1331C4…  │\n",
       "│ E2C953FE- ┆ 1990-04-3 ┆ AA50254U5 ┆ null      ┆ … ┆ 3CX-4     ┆ 358317    ┆ AA13F1DE- ┆ C0D15DEB │\n",
       "│ 54CB-4CA3 ┆ 0         ┆ 48071U    ┆           ┆   ┆           ┆           ┆ F55C-4984 ┆ -E35F-45 │\n",
       "│ -AE96-32C ┆           ┆           ┆           ┆   ┆           ┆           ┆ -B15B-9D7 ┆ B8-ABE1- │\n",
       "│ 1AA…      ┆           ┆           ┆           ┆   ┆           ┆           ┆ 4C8…      ┆ D0C754…  │\n",
       "└───────────┴───────────┴───────────┴───────────┴───┴───────────┴───────────┴───────────┴──────────┘"
      ]
     },
     "execution_count": 9,
     "metadata": {},
     "output_type": "execute_result"
    }
   ],
   "source": [
    "s1 = s1.drop([\"Description\",\"Name\"])\n",
    "s1.with_columns(\n",
    "        # Используем .str.strip_chars() для удаления пробелов\n",
    "        pl.col(\"EngineNumber\").str.strip_chars().alias(\"EngineNumber\")\n",
    "    )"
   ]
  },
  {
   "cell_type": "code",
   "execution_count": 10,
   "id": "fa235520",
   "metadata": {},
   "outputs": [
    {
     "ename": "ColumnNotFoundError",
     "evalue": "\"ModelRangeID\" not found\n\nResolved plan until failure:\n\n\t---> FAILED HERE RESOLVING 'sink' <---\nDF [\"ServicePartsPageID\", \"BaseObjectID\", \"CatalogTreeNodeID\", \"VinLockCacheID\", ...]; PROJECT */6 COLUMNS",
     "output_type": "error",
     "traceback": [
      "\u001b[31m---------------------------------------------------------------------------\u001b[39m",
      "\u001b[31mColumnNotFoundError\u001b[39m                       Traceback (most recent call last)",
      "\u001b[36mCell\u001b[39m\u001b[36m \u001b[39m\u001b[32mIn[10]\u001b[39m\u001b[32m, line 1\u001b[39m\n\u001b[32m----> \u001b[39m\u001b[32m1\u001b[39m s2 = \u001b[43ms2\u001b[49m\u001b[43m.\u001b[49m\u001b[43mdrop\u001b[49m\u001b[43m(\u001b[49m\u001b[43m[\u001b[49m\u001b[33;43m\"\u001b[39;49m\u001b[33;43mLineOfBusinessID\u001b[39;49m\u001b[33;43m\"\u001b[39;49m\u001b[43m,\u001b[49m\u001b[33;43m\"\u001b[39;49m\u001b[33;43mModelGroupID\u001b[39;49m\u001b[33;43m\"\u001b[39;49m\u001b[43m,\u001b[49m\u001b[33;43m\"\u001b[39;49m\u001b[33;43mModelRangeID\u001b[39;49m\u001b[33;43m\"\u001b[39;49m\u001b[43m,\u001b[49m\u001b[33;43m\"\u001b[39;49m\u001b[33;43mLocationID\u001b[39;49m\u001b[33;43m\"\u001b[39;49m\u001b[43m,\u001b[49m\u001b[33;43m\"\u001b[39;49m\u001b[33;43mSpecificationID\u001b[39;49m\u001b[33;43m\"\u001b[39;49m\u001b[43m]\u001b[49m\u001b[43m)\u001b[49m\n",
      "\u001b[36mFile \u001b[39m\u001b[32mc:\\Python313\\Lib\\site-packages\\polars\\dataframe\\frame.py:8198\u001b[39m, in \u001b[36mDataFrame.drop\u001b[39m\u001b[34m(self, strict, *columns)\u001b[39m\n\u001b[32m   8115\u001b[39m \u001b[38;5;28;01mdef\u001b[39;00m\u001b[38;5;250m \u001b[39m\u001b[34mdrop\u001b[39m(\n\u001b[32m   8116\u001b[39m     \u001b[38;5;28mself\u001b[39m,\n\u001b[32m   8117\u001b[39m     *columns: ColumnNameOrSelector | Iterable[ColumnNameOrSelector],\n\u001b[32m   8118\u001b[39m     strict: \u001b[38;5;28mbool\u001b[39m = \u001b[38;5;28;01mTrue\u001b[39;00m,\n\u001b[32m   8119\u001b[39m ) -> DataFrame:\n\u001b[32m   8120\u001b[39m \u001b[38;5;250m    \u001b[39m\u001b[33;03m\"\"\"\u001b[39;00m\n\u001b[32m   8121\u001b[39m \u001b[33;03m    Remove columns from the dataframe.\u001b[39;00m\n\u001b[32m   8122\u001b[39m \n\u001b[32m   (...)\u001b[39m\u001b[32m   8196\u001b[39m \u001b[33;03m    └─────┘\u001b[39;00m\n\u001b[32m   8197\u001b[39m \u001b[33;03m    \"\"\"\u001b[39;00m\n\u001b[32m-> \u001b[39m\u001b[32m8198\u001b[39m     \u001b[38;5;28;01mreturn\u001b[39;00m \u001b[38;5;28;43mself\u001b[39;49m\u001b[43m.\u001b[49m\u001b[43mlazy\u001b[49m\u001b[43m(\u001b[49m\u001b[43m)\u001b[49m\u001b[43m.\u001b[49m\u001b[43mdrop\u001b[49m\u001b[43m(\u001b[49m\u001b[43m*\u001b[49m\u001b[43mcolumns\u001b[49m\u001b[43m,\u001b[49m\u001b[43m \u001b[49m\u001b[43mstrict\u001b[49m\u001b[43m=\u001b[49m\u001b[43mstrict\u001b[49m\u001b[43m)\u001b[49m\u001b[43m.\u001b[49m\u001b[43mcollect\u001b[49m\u001b[43m(\u001b[49m\u001b[43m_eager\u001b[49m\u001b[43m=\u001b[49m\u001b[38;5;28;43;01mTrue\u001b[39;49;00m\u001b[43m)\u001b[49m\n",
      "\u001b[36mFile \u001b[39m\u001b[32mc:\\Python313\\Lib\\site-packages\\polars\\_utils\\deprecation.py:93\u001b[39m, in \u001b[36mdeprecate_streaming_parameter.<locals>.decorate.<locals>.wrapper\u001b[39m\u001b[34m(*args, **kwargs)\u001b[39m\n\u001b[32m     89\u001b[39m         kwargs[\u001b[33m\"\u001b[39m\u001b[33mengine\u001b[39m\u001b[33m\"\u001b[39m] = \u001b[33m\"\u001b[39m\u001b[33min-memory\u001b[39m\u001b[33m\"\u001b[39m\n\u001b[32m     91\u001b[39m     \u001b[38;5;28;01mdel\u001b[39;00m kwargs[\u001b[33m\"\u001b[39m\u001b[33mstreaming\u001b[39m\u001b[33m\"\u001b[39m]\n\u001b[32m---> \u001b[39m\u001b[32m93\u001b[39m \u001b[38;5;28;01mreturn\u001b[39;00m \u001b[43mfunction\u001b[49m\u001b[43m(\u001b[49m\u001b[43m*\u001b[49m\u001b[43margs\u001b[49m\u001b[43m,\u001b[49m\u001b[43m \u001b[49m\u001b[43m*\u001b[49m\u001b[43m*\u001b[49m\u001b[43mkwargs\u001b[49m\u001b[43m)\u001b[49m\n",
      "\u001b[36mFile \u001b[39m\u001b[32mc:\\Python313\\Lib\\site-packages\\polars\\lazyframe\\frame.py:2206\u001b[39m, in \u001b[36mLazyFrame.collect\u001b[39m\u001b[34m(self, type_coercion, _type_check, predicate_pushdown, projection_pushdown, simplify_expression, slice_pushdown, comm_subplan_elim, comm_subexpr_elim, cluster_with_columns, collapse_joins, no_optimization, engine, background, _check_order, _eager, **_kwargs)\u001b[39m\n\u001b[32m   2204\u001b[39m \u001b[38;5;66;03m# Only for testing purposes\u001b[39;00m\n\u001b[32m   2205\u001b[39m callback = _kwargs.get(\u001b[33m\"\u001b[39m\u001b[33mpost_opt_callback\u001b[39m\u001b[33m\"\u001b[39m, callback)\n\u001b[32m-> \u001b[39m\u001b[32m2206\u001b[39m \u001b[38;5;28;01mreturn\u001b[39;00m wrap_df(\u001b[43mldf\u001b[49m\u001b[43m.\u001b[49m\u001b[43mcollect\u001b[49m\u001b[43m(\u001b[49m\u001b[43mengine\u001b[49m\u001b[43m,\u001b[49m\u001b[43m \u001b[49m\u001b[43mcallback\u001b[49m\u001b[43m)\u001b[49m)\n",
      "\u001b[31mColumnNotFoundError\u001b[39m: \"ModelRangeID\" not found\n\nResolved plan until failure:\n\n\t---> FAILED HERE RESOLVING 'sink' <---\nDF [\"ServicePartsPageID\", \"BaseObjectID\", \"CatalogTreeNodeID\", \"VinLockCacheID\", ...]; PROJECT */6 COLUMNS"
     ]
    }
   ],
   "source": [
    "s2 = s2.drop([\"LineOfBusinessID\",\"ModelGroupID\",\"ModelRangeID\",\"LocationID\",\"SpecificationID\"])"
   ]
  },
  {
   "cell_type": "code",
   "execution_count": 11,
   "id": "999aa828",
   "metadata": {},
   "outputs": [
    {
     "data": {
      "text/html": [
       "<div><style>\n",
       ".dataframe > thead > tr,\n",
       ".dataframe > tbody > tr {\n",
       "  text-align: right;\n",
       "  white-space: pre-wrap;\n",
       "}\n",
       "</style>\n",
       "<small>shape: (65_206, 6)</small><table border=\"1\" class=\"dataframe\"><thead><tr><th>ServicePartsPageID</th><th>BaseObjectID</th><th>CatalogTreeNodeID</th><th>VinLockCacheID</th><th>CreationDate</th><th>SerialNumber</th></tr><tr><td>str</td><td>str</td><td>str</td><td>str</td><td>str</td><td>i64</td></tr></thead><tbody><tr><td>&quot;15756873-1E22-4C3C-80EB-08AE52…</td><td>&quot;15756873-1E22-4C3C-80EB-08AE52…</td><td>&quot;AA978CBF-C008-45DB-A9F6-000000…</td><td>&quot;DC2A084D-AF43-4E6E-9B16-198C12…</td><td>&quot;2016-03-02 09:23:09.210&quot;</td><td>2272878</td></tr><tr><td>&quot;991DFEF9-AD9E-4EEA-BED6-FE7E8F…</td><td>&quot;991DFEF9-AD9E-4EEA-BED6-FE7E8F…</td><td>&quot;365B0F05-C09C-456E-8F91-000015…</td><td>&quot;C8A03B57-CBCF-4A34-B74D-29777C…</td><td>&quot;2016-03-02 14:54:33.310&quot;</td><td>1776728</td></tr><tr><td>&quot;EE4566BC-AD77-44BB-9B7A-112655…</td><td>&quot;EE4566BC-AD77-44BB-9B7A-112655…</td><td>&quot;7C0F9BD9-ED34-4A8E-BA57-00002A…</td><td>&quot;49260FF0-3911-4A36-B476-BBB016…</td><td>&quot;2016-02-29 12:51:38.583&quot;</td><td>2366268</td></tr><tr><td>&quot;7E46EB95-E066-4EDB-8BCA-C339D4…</td><td>&quot;7E46EB95-E066-4EDB-8BCA-C339D4…</td><td>&quot;F20B6C81-6295-49EE-8590-000176…</td><td>&quot;1CA62324-C350-4316-BCE7-401B93…</td><td>&quot;2016-03-04 15:55:47.927&quot;</td><td>2354503</td></tr><tr><td>&quot;7E46EB95-E066-4EDB-8BCA-C339D4…</td><td>&quot;7E46EB95-E066-4EDB-8BCA-C339D4…</td><td>&quot;F20B6C81-6295-49EE-8590-000176…</td><td>&quot;53B1BF5C-B4C0-4589-BBB6-C4006A…</td><td>&quot;2016-03-02 12:14:29.790&quot;</td><td>2343582</td></tr><tr><td>&hellip;</td><td>&hellip;</td><td>&hellip;</td><td>&hellip;</td><td>&hellip;</td><td>&hellip;</td></tr><tr><td>&quot;39F5534E-40C7-4B00-9452-552441…</td><td>&quot;39F5534E-40C7-4B00-9452-552441…</td><td>&quot;6EA5737E-65D4-41B8-A844-FFF734…</td><td>&quot;D90E9771-C2A8-4970-9A8A-6429B2…</td><td>&quot;2016-03-01 16:04:52.790&quot;</td><td>1419559</td></tr><tr><td>&quot;39F5534E-40C7-4B00-9452-552441…</td><td>&quot;39F5534E-40C7-4B00-9452-552441…</td><td>&quot;6EA5737E-65D4-41B8-A844-FFF734…</td><td>&quot;40F59433-93BF-4DBA-9CBB-685C23…</td><td>&quot;2016-03-04 14:20:00.413&quot;</td><td>1419495</td></tr><tr><td>&quot;493D6D8A-0373-48B8-A649-D11191…</td><td>&quot;493D6D8A-0373-48B8-A649-D11191…</td><td>&quot;143840F5-91B9-4804-A06B-FFFB1D…</td><td>&quot;F1794E59-1032-47CD-A434-9EC05C…</td><td>&quot;2016-03-03 20:58:37.770&quot;</td><td>1402924</td></tr><tr><td>&quot;493D6D8A-0373-48B8-A649-D11191…</td><td>&quot;493D6D8A-0373-48B8-A649-D11191…</td><td>&quot;143840F5-91B9-4804-A06B-FFFB1D…</td><td>&quot;480B23FE-0220-4E74-8886-D819E2…</td><td>&quot;2016-03-01 13:39:20.130&quot;</td><td>1403045</td></tr><tr><td>&quot;4113D4C8-0BD4-4581-A211-4B007C…</td><td>&quot;4113D4C8-0BD4-4581-A211-4B007C…</td><td>&quot;596D1D2F-2E2F-43EC-A4F7-FFFBEE…</td><td>&quot;A5DE0A5A-52D3-4B8F-908C-9B74E9…</td><td>&quot;2016-03-03 09:33:43.440&quot;</td><td>2349656</td></tr></tbody></table></div>"
      ],
      "text/plain": [
       "shape: (65_206, 6)\n",
       "┌────────────────┬────────────────┬────────────────┬────────────────┬───────────────┬──────────────┐\n",
       "│ ServicePartsPa ┆ BaseObjectID   ┆ CatalogTreeNod ┆ VinLockCacheID ┆ CreationDate  ┆ SerialNumber │\n",
       "│ geID           ┆ ---            ┆ eID            ┆ ---            ┆ ---           ┆ ---          │\n",
       "│ ---            ┆ str            ┆ ---            ┆ str            ┆ str           ┆ i64          │\n",
       "│ str            ┆                ┆ str            ┆                ┆               ┆              │\n",
       "╞════════════════╪════════════════╪════════════════╪════════════════╪═══════════════╪══════════════╡\n",
       "│ 15756873-1E22- ┆ 15756873-1E22- ┆ AA978CBF-C008- ┆ DC2A084D-AF43- ┆ 2016-03-02    ┆ 2272878      │\n",
       "│ 4C3C-80EB-08AE ┆ 4C3C-80EB-08AE ┆ 45DB-A9F6-0000 ┆ 4E6E-9B16-198C ┆ 09:23:09.210  ┆              │\n",
       "│ 52…            ┆ 52…            ┆ 00…            ┆ 12…            ┆               ┆              │\n",
       "│ 991DFEF9-AD9E- ┆ 991DFEF9-AD9E- ┆ 365B0F05-C09C- ┆ C8A03B57-CBCF- ┆ 2016-03-02    ┆ 1776728      │\n",
       "│ 4EEA-BED6-FE7E ┆ 4EEA-BED6-FE7E ┆ 456E-8F91-0000 ┆ 4A34-B74D-2977 ┆ 14:54:33.310  ┆              │\n",
       "│ 8F…            ┆ 8F…            ┆ 15…            ┆ 7C…            ┆               ┆              │\n",
       "│ EE4566BC-AD77- ┆ EE4566BC-AD77- ┆ 7C0F9BD9-ED34- ┆ 49260FF0-3911- ┆ 2016-02-29    ┆ 2366268      │\n",
       "│ 44BB-9B7A-1126 ┆ 44BB-9B7A-1126 ┆ 4A8E-BA57-0000 ┆ 4A36-B476-BBB0 ┆ 12:51:38.583  ┆              │\n",
       "│ 55…            ┆ 55…            ┆ 2A…            ┆ 16…            ┆               ┆              │\n",
       "│ 7E46EB95-E066- ┆ 7E46EB95-E066- ┆ F20B6C81-6295- ┆ 1CA62324-C350- ┆ 2016-03-04    ┆ 2354503      │\n",
       "│ 4EDB-8BCA-C339 ┆ 4EDB-8BCA-C339 ┆ 49EE-8590-0001 ┆ 4316-BCE7-401B ┆ 15:55:47.927  ┆              │\n",
       "│ D4…            ┆ D4…            ┆ 76…            ┆ 93…            ┆               ┆              │\n",
       "│ 7E46EB95-E066- ┆ 7E46EB95-E066- ┆ F20B6C81-6295- ┆ 53B1BF5C-B4C0- ┆ 2016-03-02    ┆ 2343582      │\n",
       "│ 4EDB-8BCA-C339 ┆ 4EDB-8BCA-C339 ┆ 49EE-8590-0001 ┆ 4589-BBB6-C400 ┆ 12:14:29.790  ┆              │\n",
       "│ D4…            ┆ D4…            ┆ 76…            ┆ 6A…            ┆               ┆              │\n",
       "│ …              ┆ …              ┆ …              ┆ …              ┆ …             ┆ …            │\n",
       "│ 39F5534E-40C7- ┆ 39F5534E-40C7- ┆ 6EA5737E-65D4- ┆ D90E9771-C2A8- ┆ 2016-03-01    ┆ 1419559      │\n",
       "│ 4B00-9452-5524 ┆ 4B00-9452-5524 ┆ 41B8-A844-FFF7 ┆ 4970-9A8A-6429 ┆ 16:04:52.790  ┆              │\n",
       "│ 41…            ┆ 41…            ┆ 34…            ┆ B2…            ┆               ┆              │\n",
       "│ 39F5534E-40C7- ┆ 39F5534E-40C7- ┆ 6EA5737E-65D4- ┆ 40F59433-93BF- ┆ 2016-03-04    ┆ 1419495      │\n",
       "│ 4B00-9452-5524 ┆ 4B00-9452-5524 ┆ 41B8-A844-FFF7 ┆ 4DBA-9CBB-685C ┆ 14:20:00.413  ┆              │\n",
       "│ 41…            ┆ 41…            ┆ 34…            ┆ 23…            ┆               ┆              │\n",
       "│ 493D6D8A-0373- ┆ 493D6D8A-0373- ┆ 143840F5-91B9- ┆ F1794E59-1032- ┆ 2016-03-03    ┆ 1402924      │\n",
       "│ 48B8-A649-D111 ┆ 48B8-A649-D111 ┆ 4804-A06B-FFFB ┆ 47CD-A434-9EC0 ┆ 20:58:37.770  ┆              │\n",
       "│ 91…            ┆ 91…            ┆ 1D…            ┆ 5C…            ┆               ┆              │\n",
       "│ 493D6D8A-0373- ┆ 493D6D8A-0373- ┆ 143840F5-91B9- ┆ 480B23FE-0220- ┆ 2016-03-01    ┆ 1403045      │\n",
       "│ 48B8-A649-D111 ┆ 48B8-A649-D111 ┆ 4804-A06B-FFFB ┆ 4E74-8886-D819 ┆ 13:39:20.130  ┆              │\n",
       "│ 91…            ┆ 91…            ┆ 1D…            ┆ E2…            ┆               ┆              │\n",
       "│ 4113D4C8-0BD4- ┆ 4113D4C8-0BD4- ┆ 596D1D2F-2E2F- ┆ A5DE0A5A-52D3- ┆ 2016-03-03    ┆ 2349656      │\n",
       "│ 4581-A211-4B00 ┆ 4581-A211-4B00 ┆ 43EC-A4F7-FFFB ┆ 4B8F-908C-9B74 ┆ 09:33:43.440  ┆              │\n",
       "│ 7C…            ┆ 7C…            ┆ EE…            ┆ E9…            ┆               ┆              │\n",
       "└────────────────┴────────────────┴────────────────┴────────────────┴───────────────┴──────────────┘"
      ]
     },
     "execution_count": 11,
     "metadata": {},
     "output_type": "execute_result"
    }
   ],
   "source": [
    "s2"
   ]
  },
  {
   "cell_type": "code",
   "execution_count": 12,
   "id": "8a18a287",
   "metadata": {},
   "outputs": [
    {
     "data": {
      "text/html": [
       "<div><style>\n",
       ".dataframe > thead > tr,\n",
       ".dataframe > tbody > tr {\n",
       "  text-align: right;\n",
       "  white-space: pre-wrap;\n",
       "}\n",
       "</style>\n",
       "<small>shape: (9, 2)</small><table border=\"1\" class=\"dataframe\"><thead><tr><th>column</th><th>n_unique</th></tr><tr><td>str</td><td>i64</td></tr></thead><tbody><tr><td>&quot;ProductionUnitID&quot;</td><td>709878</td></tr><tr><td>&quot;ManufactureDate&quot;</td><td>12557</td></tr><tr><td>&quot;EngineNumber&quot;</td><td>693556</td></tr><tr><td>&quot;PrimaryBuildCode&quot;</td><td>2379</td></tr><tr><td>&quot;RetailDealerAccount&quot;</td><td>2383</td></tr><tr><td>&quot;SalesModel&quot;</td><td>890</td></tr><tr><td>&quot;SerialNumber&quot;</td><td>708891</td></tr><tr><td>&quot;SpecificationID&quot;</td><td>1484</td></tr><tr><td>&quot;ModelID&quot;</td><td>890</td></tr></tbody></table></div>"
      ],
      "text/plain": [
       "shape: (9, 2)\n",
       "┌─────────────────────┬──────────┐\n",
       "│ column              ┆ n_unique │\n",
       "│ ---                 ┆ ---      │\n",
       "│ str                 ┆ i64      │\n",
       "╞═════════════════════╪══════════╡\n",
       "│ ProductionUnitID    ┆ 709878   │\n",
       "│ ManufactureDate     ┆ 12557    │\n",
       "│ EngineNumber        ┆ 693556   │\n",
       "│ PrimaryBuildCode    ┆ 2379     │\n",
       "│ RetailDealerAccount ┆ 2383     │\n",
       "│ SalesModel          ┆ 890      │\n",
       "│ SerialNumber        ┆ 708891   │\n",
       "│ SpecificationID     ┆ 1484     │\n",
       "│ ModelID             ┆ 890      │\n",
       "└─────────────────────┴──────────┘"
      ]
     },
     "execution_count": 12,
     "metadata": {},
     "output_type": "execute_result"
    }
   ],
   "source": [
    "pl.DataFrame({\n",
    "    \"column\": s1.columns,\n",
    "    \"n_unique\": [s1[col].n_unique() for col in s1.columns]\n",
    "})"
   ]
  },
  {
   "cell_type": "code",
   "execution_count": 13,
   "id": "2a0805b1",
   "metadata": {},
   "outputs": [
    {
     "data": {
      "text/html": [
       "<div><style>\n",
       ".dataframe > thead > tr,\n",
       ".dataframe > tbody > tr {\n",
       "  text-align: right;\n",
       "  white-space: pre-wrap;\n",
       "}\n",
       "</style>\n",
       "<small>shape: (6, 2)</small><table border=\"1\" class=\"dataframe\"><thead><tr><th>column</th><th>n_unique</th></tr><tr><td>str</td><td>i64</td></tr></thead><tbody><tr><td>&quot;ServicePartsPageID&quot;</td><td>16982</td></tr><tr><td>&quot;BaseObjectID&quot;</td><td>18380</td></tr><tr><td>&quot;CatalogTreeNodeID&quot;</td><td>34031</td></tr><tr><td>&quot;VinLockCacheID&quot;</td><td>65206</td></tr><tr><td>&quot;CreationDate&quot;</td><td>194</td></tr><tr><td>&quot;SerialNumber&quot;</td><td>177</td></tr></tbody></table></div>"
      ],
      "text/plain": [
       "shape: (6, 2)\n",
       "┌────────────────────┬──────────┐\n",
       "│ column             ┆ n_unique │\n",
       "│ ---                ┆ ---      │\n",
       "│ str                ┆ i64      │\n",
       "╞════════════════════╪══════════╡\n",
       "│ ServicePartsPageID ┆ 16982    │\n",
       "│ BaseObjectID       ┆ 18380    │\n",
       "│ CatalogTreeNodeID  ┆ 34031    │\n",
       "│ VinLockCacheID     ┆ 65206    │\n",
       "│ CreationDate       ┆ 194      │\n",
       "│ SerialNumber       ┆ 177      │\n",
       "└────────────────────┴──────────┘"
      ]
     },
     "execution_count": 13,
     "metadata": {},
     "output_type": "execute_result"
    }
   ],
   "source": [
    "pl.DataFrame({\n",
    "    \"column\": s2.columns,\n",
    "    \"n_unique\": [s2[col].n_unique() for col in s2.columns]\n",
    "})"
   ]
  },
  {
   "cell_type": "code",
   "execution_count": 15,
   "id": "b35dfddb",
   "metadata": {},
   "outputs": [],
   "source": [
    "cat = pl.read_csv(\"C:/Users/user/Desktop/data/CatalogTreeNode.csv\")"
   ]
  },
  {
   "cell_type": "code",
   "execution_count": 18,
   "id": "16b561db",
   "metadata": {},
   "outputs": [],
   "source": [
    "cat = cat.drop([\"LineOfBusinessID\",\"ModelGroupID\",\"ModelRangeID\",\"LocationID\"])"
   ]
  },
  {
   "cell_type": "code",
   "execution_count": 20,
   "id": "8fb0df3f",
   "metadata": {},
   "outputs": [],
   "source": [
    "cat = cat.drop([\"DocumentID\",\"IsRoot\",\"NodeType\",\"CatalogFolderID\"])"
   ]
  },
  {
   "cell_type": "code",
   "execution_count": 22,
   "id": "f151df64",
   "metadata": {},
   "outputs": [],
   "source": [
    "cat = cat.drop([\"IsVisible\"])"
   ]
  },
  {
   "cell_type": "code",
   "execution_count": 23,
   "id": "b505877b",
   "metadata": {},
   "outputs": [
    {
     "data": {
      "text/html": [
       "<div><style>\n",
       ".dataframe > thead > tr,\n",
       ".dataframe > tbody > tr {\n",
       "  text-align: right;\n",
       "  white-space: pre-wrap;\n",
       "}\n",
       "</style>\n",
       "<small>shape: (6, 2)</small><table border=\"1\" class=\"dataframe\"><thead><tr><th>column</th><th>n_unique</th></tr><tr><td>str</td><td>i64</td></tr></thead><tbody><tr><td>&quot;SpecificationID&quot;</td><td>4487</td></tr><tr><td>&quot;ServicePartsPageID&quot;</td><td>271287</td></tr><tr><td>&quot;SectionID&quot;</td><td>24009</td></tr><tr><td>&quot;BaseObjectID&quot;</td><td>299906</td></tr><tr><td>&quot;Name&quot;</td><td>2041</td></tr><tr><td>&quot;CatalogTreeNodeID&quot;</td><td>1221033</td></tr></tbody></table></div>"
      ],
      "text/plain": [
       "shape: (6, 2)\n",
       "┌────────────────────┬──────────┐\n",
       "│ column             ┆ n_unique │\n",
       "│ ---                ┆ ---      │\n",
       "│ str                ┆ i64      │\n",
       "╞════════════════════╪══════════╡\n",
       "│ SpecificationID    ┆ 4487     │\n",
       "│ ServicePartsPageID ┆ 271287   │\n",
       "│ SectionID          ┆ 24009    │\n",
       "│ BaseObjectID       ┆ 299906   │\n",
       "│ Name               ┆ 2041     │\n",
       "│ CatalogTreeNodeID  ┆ 1221033  │\n",
       "└────────────────────┴──────────┘"
      ]
     },
     "execution_count": 23,
     "metadata": {},
     "output_type": "execute_result"
    }
   ],
   "source": [
    "pl.DataFrame({\n",
    "    \"column\": cat.columns,\n",
    "    \"n_unique\": [cat[col].n_unique() for col in cat.columns]\n",
    "})"
   ]
  },
  {
   "cell_type": "code",
   "execution_count": 26,
   "id": "ae1bd1e4",
   "metadata": {},
   "outputs": [],
   "source": [
    "ce = pl.read_csv(\"C:/Users/user/Desktop/CatalogEntryNode.csv\")"
   ]
  },
  {
   "cell_type": "code",
   "execution_count": 28,
   "id": "0203b22e",
   "metadata": {},
   "outputs": [],
   "source": [
    "ce = ce.drop([\"BranchUserInput\",\"GsppUserInput\",\"RevisionUserInput\",\"ChildrenNotUsed\",\"GsppNotUsed\"])"
   ]
  },
  {
   "cell_type": "code",
   "execution_count": 30,
   "id": "981bb437",
   "metadata": {},
   "outputs": [],
   "source": [
    "ce = ce.drop(\"IsLocked\")"
   ]
  },
  {
   "cell_type": "code",
   "execution_count": 31,
   "id": "60c75d06",
   "metadata": {},
   "outputs": [
    {
     "data": {
      "text/html": [
       "<div><style>\n",
       ".dataframe > thead > tr,\n",
       ".dataframe > tbody > tr {\n",
       "  text-align: right;\n",
       "  white-space: pre-wrap;\n",
       "}\n",
       "</style>\n",
       "<small>shape: (118_768, 4)</small><table border=\"1\" class=\"dataframe\"><thead><tr><th>CatalogEntryNodeID</th><th>ParentCatalogEntryNodeID</th><th>CatalogEntryID</th><th>SppNumber</th></tr><tr><td>str</td><td>str</td><td>str</td><td>str</td></tr></thead><tbody><tr><td>&quot;ABC3DCE7-CA3E-4E84-AE92-00001C…</td><td>&quot;B82EB851-A001-41F7-B419-9C5FC6…</td><td>&quot;D6E6958B-454D-4A93-B6D1-3A14B5…</td><td>null</td></tr><tr><td>&quot;156BD0C9-3701-4D6A-81D1-0000B7…</td><td>&quot;CDFCFF91-EAC0-4219-BB4C-11267F…</td><td>&quot;E36D3078-347D-4D91-905B-9A6DBD…</td><td>&quot;V250-20-1&quot;</td></tr><tr><td>&quot;4D31E38D-CBDC-4233-A4B8-000122…</td><td>&quot;06C986DF-DCBC-4FF2-BE8F-5B0A91…</td><td>&quot;5F9571A5-3A1E-487C-966B-6A354A…</td><td>&quot;V220-5-1&quot;</td></tr><tr><td>&quot;8D2B3377-7B05-4934-A200-00013B…</td><td>&quot;BB7B79DF-DEA6-4238-879B-B68A77…</td><td>&quot;A533FEA4-3D69-4B04-B865-8447C4…</td><td>&quot;L700-40-1&quot;</td></tr><tr><td>&quot;C8565E45-1691-475B-9352-00020C…</td><td>&quot;797763C9-05B4-40B3-BD01-74FC69…</td><td>&quot;71A5E56A-5AF8-497B-88ED-AB1C17…</td><td>null</td></tr><tr><td>&hellip;</td><td>&hellip;</td><td>&hellip;</td><td>&hellip;</td></tr><tr><td>&quot;6AE66047-6DB1-4797-82A7-FFFC65…</td><td>&quot;A42DE8CD-88D5-4236-8421-83A3A7…</td><td>&quot;9E15F370-1107-47F1-96D3-29A320…</td><td>&quot;V180-4-1&quot;</td></tr><tr><td>&quot;A8484B3A-23C0-441D-9FA4-FFFCA7…</td><td>&quot;A22BB82A-AF24-43F2-BB3C-EA8798…</td><td>&quot;86ABF508-971D-488A-921F-AEA115…</td><td>&quot;V820-1-1&quot;</td></tr><tr><td>&quot;70188885-EE83-4F7D-81A8-FFFE25…</td><td>null</td><td>&quot;FCC2BA7C-E8C5-4394-8333-36CD3E…</td><td>&quot;L710-5-1&quot;</td></tr><tr><td>&quot;C94B4BE8-18B2-4429-9BEA-FFFEBB…</td><td>&quot;778A76D7-23BA-40EF-B37D-6ED02A…</td><td>&quot;25AA9BDA-4716-438C-A04F-DE0281…</td><td>null</td></tr><tr><td>&quot;1CDD094E-49C2-4357-994C-FFFF7D…</td><td>&quot;B6155FE2-47FE-464B-A002-6B7AD6…</td><td>&quot;13DFFAEE-13D9-4820-9B7C-FFE71C…</td><td>&quot;V160-5-1&quot;</td></tr></tbody></table></div>"
      ],
      "text/plain": [
       "shape: (118_768, 4)\n",
       "┌────────────────────────────┬────────────────────────────┬────────────────────────────┬───────────┐\n",
       "│ CatalogEntryNodeID         ┆ ParentCatalogEntryNodeID   ┆ CatalogEntryID             ┆ SppNumber │\n",
       "│ ---                        ┆ ---                        ┆ ---                        ┆ ---       │\n",
       "│ str                        ┆ str                        ┆ str                        ┆ str       │\n",
       "╞════════════════════════════╪════════════════════════════╪════════════════════════════╪═══════════╡\n",
       "│ ABC3DCE7-CA3E-4E84-AE92-00 ┆ B82EB851-A001-41F7-B419-9C ┆ D6E6958B-454D-4A93-B6D1-3A ┆ null      │\n",
       "│ 001C…                      ┆ 5FC6…                      ┆ 14B5…                      ┆           │\n",
       "│ 156BD0C9-3701-4D6A-81D1-00 ┆ CDFCFF91-EAC0-4219-BB4C-11 ┆ E36D3078-347D-4D91-905B-9A ┆ V250-20-1 │\n",
       "│ 00B7…                      ┆ 267F…                      ┆ 6DBD…                      ┆           │\n",
       "│ 4D31E38D-CBDC-4233-A4B8-00 ┆ 06C986DF-DCBC-4FF2-BE8F-5B ┆ 5F9571A5-3A1E-487C-966B-6A ┆ V220-5-1  │\n",
       "│ 0122…                      ┆ 0A91…                      ┆ 354A…                      ┆           │\n",
       "│ 8D2B3377-7B05-4934-A200-00 ┆ BB7B79DF-DEA6-4238-879B-B6 ┆ A533FEA4-3D69-4B04-B865-84 ┆ L700-40-1 │\n",
       "│ 013B…                      ┆ 8A77…                      ┆ 47C4…                      ┆           │\n",
       "│ C8565E45-1691-475B-9352-00 ┆ 797763C9-05B4-40B3-BD01-74 ┆ 71A5E56A-5AF8-497B-88ED-AB ┆ null      │\n",
       "│ 020C…                      ┆ FC69…                      ┆ 1C17…                      ┆           │\n",
       "│ …                          ┆ …                          ┆ …                          ┆ …         │\n",
       "│ 6AE66047-6DB1-4797-82A7-FF ┆ A42DE8CD-88D5-4236-8421-83 ┆ 9E15F370-1107-47F1-96D3-29 ┆ V180-4-1  │\n",
       "│ FC65…                      ┆ A3A7…                      ┆ A320…                      ┆           │\n",
       "│ A8484B3A-23C0-441D-9FA4-FF ┆ A22BB82A-AF24-43F2-BB3C-EA ┆ 86ABF508-971D-488A-921F-AE ┆ V820-1-1  │\n",
       "│ FCA7…                      ┆ 8798…                      ┆ A115…                      ┆           │\n",
       "│ 70188885-EE83-4F7D-81A8-FF ┆ null                       ┆ FCC2BA7C-E8C5-4394-8333-36 ┆ L710-5-1  │\n",
       "│ FE25…                      ┆                            ┆ CD3E…                      ┆           │\n",
       "│ C94B4BE8-18B2-4429-9BEA-FF ┆ 778A76D7-23BA-40EF-B37D-6E ┆ 25AA9BDA-4716-438C-A04F-DE ┆ null      │\n",
       "│ FEBB…                      ┆ D02A…                      ┆ 0281…                      ┆           │\n",
       "│ 1CDD094E-49C2-4357-994C-FF ┆ B6155FE2-47FE-464B-A002-6B ┆ 13DFFAEE-13D9-4820-9B7C-FF ┆ V160-5-1  │\n",
       "│ FF7D…                      ┆ 7AD6…                      ┆ E71C…                      ┆           │\n",
       "└────────────────────────────┴────────────────────────────┴────────────────────────────┴───────────┘"
      ]
     },
     "execution_count": 31,
     "metadata": {},
     "output_type": "execute_result"
    }
   ],
   "source": [
    "ce"
   ]
  },
  {
   "cell_type": "code",
   "execution_count": 33,
   "id": "53688236",
   "metadata": {},
   "outputs": [],
   "source": [
    "se = pl.read_csv(\"C:/Users/user/Desktop/data/Section.csv\", truncate_ragged_lines=True)"
   ]
  },
  {
   "cell_type": "code",
   "execution_count": 44,
   "id": "6c222bff",
   "metadata": {},
   "outputs": [],
   "source": [
    "#se = se.drop([\"Description1\",\"Description2\",\"FullDescription\",\"Description\"])"
   ]
  },
  {
   "cell_type": "code",
   "execution_count": 40,
   "id": "d79e219c",
   "metadata": {},
   "outputs": [],
   "source": [
    "se = se.drop([\"ThumbnailID\",\"Description\",\"OwnershipGroupID\",\"CreatedByLoginID\",\"LastModifiedDate\",\"LastModifiedByLoginID\",\"TS\"])"
   ]
  },
  {
   "cell_type": "code",
   "execution_count": 42,
   "id": "5d784f3c",
   "metadata": {},
   "outputs": [],
   "source": [
    "se = se.drop(\"Status\")"
   ]
  },
  {
   "cell_type": "code",
   "execution_count": 43,
   "id": "f626c2da",
   "metadata": {},
   "outputs": [
    {
     "data": {
      "text/html": [
       "<div><style>\n",
       ".dataframe > thead > tr,\n",
       ".dataframe > tbody > tr {\n",
       "  text-align: right;\n",
       "  white-space: pre-wrap;\n",
       "}\n",
       "</style>\n",
       "<small>shape: (24_009, 5)</small><table border=\"1\" class=\"dataframe\"><thead><tr><th>SectionID</th><th>Number</th><th>CatalogID</th><th>ParentSectionID</th><th>CreationDate</th></tr><tr><td>str</td><td>str</td><td>str</td><td>str</td><td>str</td></tr></thead><tbody><tr><td>&quot;7CBB800B-154E-4982-8771-00001F…</td><td>&quot;L&quot;</td><td>&quot;00B28547-321C-47B3-A9A7-396897…</td><td>&quot;NULL&quot;</td><td>&quot;2014-08-25 10:34:03.610&quot;</td></tr><tr><td>&quot;48BEFC81-46ED-4C65-A9F1-0001CF…</td><td>&quot;B&quot;</td><td>&quot;24CF92B0-8C2B-4DEE-9125-0C9515…</td><td>&quot;NULL&quot;</td><td>&quot;2008-07-19 04:00:56.800&quot;</td></tr><tr><td>&quot;21C402F1-BA6D-4612-B85C-000262…</td><td>&quot;N05&quot;</td><td>&quot;77F31E69-CE20-4AAC-A340-B7CBC7…</td><td>&quot;45789DE9-7536-42CA-9390-692DDE…</td><td>&quot;2008-07-18 17:59:28.517&quot;</td></tr><tr><td>&quot;03C22244-5F25-4350-92B3-000614…</td><td>&quot;L05&quot;</td><td>&quot;03A4EA08-4C96-4D89-9AC2-F40FD1…</td><td>&quot;06A0787B-EE5F-46B9-BC2B-DC72B2…</td><td>&quot;2008-07-18 17:55:21.923&quot;</td></tr><tr><td>&quot;4BAAF8E1-E5C0-4ED1-9AFD-000897…</td><td>&quot;F05&quot;</td><td>&quot;1C71B22A-F2E2-4594-B22F-BDFDDE…</td><td>&quot;1B187D2B-D9B6-4583-9396-F59478…</td><td>&quot;2008-07-18 18:26:38.587&quot;</td></tr><tr><td>&hellip;</td><td>&hellip;</td><td>&hellip;</td><td>&hellip;</td><td>&hellip;</td></tr><tr><td>&quot;72D6C6C3-3E02-4594-9980-FFFA1F…</td><td>&quot;E05&quot;</td><td>&quot;83B34EAB-19E3-4E9D-95A2-42DFA5…</td><td>&quot;A194B0B1-490C-494D-BA12-BBF22B…</td><td>&quot;2013-08-05 13:35:24.250&quot;</td></tr><tr><td>&quot;303FF8E1-0382-4407-93CA-FFFE5F…</td><td>&quot;F07&quot;</td><td>&quot;68A39B93-3E3E-4970-B145-ED4F05…</td><td>&quot;F840E1A7-5888-4D37-A1A8-C2750F…</td><td>&quot;2008-07-18 18:18:42.243&quot;</td></tr><tr><td>&quot;7FB67054-0C9A-42E0-AA37-FFFEC4…</td><td>&quot;K04&quot;</td><td>&quot;2A2C34D4-D340-41C1-82FA-EA5004…</td><td>&quot;5D343242-86A4-41DE-8CEE-1CA538…</td><td>&quot;2008-07-18 16:47:03.570&quot;</td></tr><tr><td>&quot;66150842-F8E8-460A-97BF-FFFFEC…</td><td>&quot;D01&quot;</td><td>&quot;A66B13FF-8390-4E3C-8134-51894B…</td><td>&quot;09B768B4-3C99-4DB3-BB54-E7FA99…</td><td>&quot;2008-07-19 02:49:45.367&quot;</td></tr><tr><td>null</td><td>null</td><td>null</td><td>null</td><td>null</td></tr></tbody></table></div>"
      ],
      "text/plain": [
       "shape: (24_009, 5)\n",
       "┌────────────────────────┬────────┬────────────────────────┬────────────────────────┬──────────────┐\n",
       "│ SectionID              ┆ Number ┆ CatalogID              ┆ ParentSectionID        ┆ CreationDate │\n",
       "│ ---                    ┆ ---    ┆ ---                    ┆ ---                    ┆ ---          │\n",
       "│ str                    ┆ str    ┆ str                    ┆ str                    ┆ str          │\n",
       "╞════════════════════════╪════════╪════════════════════════╪════════════════════════╪══════════════╡\n",
       "│ 7CBB800B-154E-4982-877 ┆ L      ┆ 00B28547-321C-47B3-A9A ┆ NULL                   ┆ 2014-08-25   │\n",
       "│ 1-00001F…              ┆        ┆ 7-396897…              ┆                        ┆ 10:34:03.610 │\n",
       "│ 48BEFC81-46ED-4C65-A9F ┆ B      ┆ 24CF92B0-8C2B-4DEE-912 ┆ NULL                   ┆ 2008-07-19   │\n",
       "│ 1-0001CF…              ┆        ┆ 5-0C9515…              ┆                        ┆ 04:00:56.800 │\n",
       "│ 21C402F1-BA6D-4612-B85 ┆ N05    ┆ 77F31E69-CE20-4AAC-A34 ┆ 45789DE9-7536-42CA-939 ┆ 2008-07-18   │\n",
       "│ C-000262…              ┆        ┆ 0-B7CBC7…              ┆ 0-692DDE…              ┆ 17:59:28.517 │\n",
       "│ 03C22244-5F25-4350-92B ┆ L05    ┆ 03A4EA08-4C96-4D89-9AC ┆ 06A0787B-EE5F-46B9-BC2 ┆ 2008-07-18   │\n",
       "│ 3-000614…              ┆        ┆ 2-F40FD1…              ┆ B-DC72B2…              ┆ 17:55:21.923 │\n",
       "│ 4BAAF8E1-E5C0-4ED1-9AF ┆ F05    ┆ 1C71B22A-F2E2-4594-B22 ┆ 1B187D2B-D9B6-4583-939 ┆ 2008-07-18   │\n",
       "│ D-000897…              ┆        ┆ F-BDFDDE…              ┆ 6-F59478…              ┆ 18:26:38.587 │\n",
       "│ …                      ┆ …      ┆ …                      ┆ …                      ┆ …            │\n",
       "│ 72D6C6C3-3E02-4594-998 ┆ E05    ┆ 83B34EAB-19E3-4E9D-95A ┆ A194B0B1-490C-494D-BA1 ┆ 2013-08-05   │\n",
       "│ 0-FFFA1F…              ┆        ┆ 2-42DFA5…              ┆ 2-BBF22B…              ┆ 13:35:24.250 │\n",
       "│ 303FF8E1-0382-4407-93C ┆ F07    ┆ 68A39B93-3E3E-4970-B14 ┆ F840E1A7-5888-4D37-A1A ┆ 2008-07-18   │\n",
       "│ A-FFFE5F…              ┆        ┆ 5-ED4F05…              ┆ 8-C2750F…              ┆ 18:18:42.243 │\n",
       "│ 7FB67054-0C9A-42E0-AA3 ┆ K04    ┆ 2A2C34D4-D340-41C1-82F ┆ 5D343242-86A4-41DE-8CE ┆ 2008-07-18   │\n",
       "│ 7-FFFEC4…              ┆        ┆ A-EA5004…              ┆ E-1CA538…              ┆ 16:47:03.570 │\n",
       "│ 66150842-F8E8-460A-97B ┆ D01    ┆ A66B13FF-8390-4E3C-813 ┆ 09B768B4-3C99-4DB3-BB5 ┆ 2008-07-19   │\n",
       "│ F-FFFFEC…              ┆        ┆ 4-51894B…              ┆ 4-E7FA99…              ┆ 02:49:45.367 │\n",
       "│ null                   ┆ null   ┆ null                   ┆ null                   ┆ null         │\n",
       "└────────────────────────┴────────┴────────────────────────┴────────────────────────┴──────────────┘"
      ]
     },
     "execution_count": 43,
     "metadata": {},
     "output_type": "execute_result"
    }
   ],
   "source": [
    "se"
   ]
  },
  {
   "cell_type": "code",
   "execution_count": 45,
   "id": "76f65398",
   "metadata": {},
   "outputs": [
    {
     "data": {
      "text/html": [
       "<div><style>\n",
       ".dataframe > thead > tr,\n",
       ".dataframe > tbody > tr {\n",
       "  text-align: right;\n",
       "  white-space: pre-wrap;\n",
       "}\n",
       "</style>\n",
       "<small>shape: (4, 2)</small><table border=\"1\" class=\"dataframe\"><thead><tr><th>column</th><th>n_unique</th></tr><tr><td>str</td><td>i64</td></tr></thead><tbody><tr><td>&quot;CatalogEntryNodeID&quot;</td><td>118768</td></tr><tr><td>&quot;ParentCatalogEntryNodeID&quot;</td><td>40511</td></tr><tr><td>&quot;CatalogEntryID&quot;</td><td>40377</td></tr><tr><td>&quot;SppNumber&quot;</td><td>7536</td></tr></tbody></table></div>"
      ],
      "text/plain": [
       "shape: (4, 2)\n",
       "┌──────────────────────────┬──────────┐\n",
       "│ column                   ┆ n_unique │\n",
       "│ ---                      ┆ ---      │\n",
       "│ str                      ┆ i64      │\n",
       "╞══════════════════════════╪══════════╡\n",
       "│ CatalogEntryNodeID       ┆ 118768   │\n",
       "│ ParentCatalogEntryNodeID ┆ 40511    │\n",
       "│ CatalogEntryID           ┆ 40377    │\n",
       "│ SppNumber                ┆ 7536     │\n",
       "└──────────────────────────┴──────────┘"
      ]
     },
     "execution_count": 45,
     "metadata": {},
     "output_type": "execute_result"
    }
   ],
   "source": [
    "pl.DataFrame({\n",
    "    \"column\": ce.columns,\n",
    "    \"n_unique\": [ce[col].n_unique() for col in ce.columns]\n",
    "})"
   ]
  },
  {
   "cell_type": "code",
   "execution_count": 46,
   "id": "e9417d28",
   "metadata": {},
   "outputs": [
    {
     "data": {
      "text/html": [
       "<div><style>\n",
       ".dataframe > thead > tr,\n",
       ".dataframe > tbody > tr {\n",
       "  text-align: right;\n",
       "  white-space: pre-wrap;\n",
       "}\n",
       "</style>\n",
       "<small>shape: (5, 2)</small><table border=\"1\" class=\"dataframe\"><thead><tr><th>column</th><th>n_unique</th></tr><tr><td>str</td><td>i64</td></tr></thead><tbody><tr><td>&quot;SectionID&quot;</td><td>23584</td></tr><tr><td>&quot;Number&quot;</td><td>546</td></tr><tr><td>&quot;CatalogID&quot;</td><td>682</td></tr><tr><td>&quot;ParentSectionID&quot;</td><td>4821</td></tr><tr><td>&quot;CreationDate&quot;</td><td>8797</td></tr></tbody></table></div>"
      ],
      "text/plain": [
       "shape: (5, 2)\n",
       "┌─────────────────┬──────────┐\n",
       "│ column          ┆ n_unique │\n",
       "│ ---             ┆ ---      │\n",
       "│ str             ┆ i64      │\n",
       "╞═════════════════╪══════════╡\n",
       "│ SectionID       ┆ 23584    │\n",
       "│ Number          ┆ 546      │\n",
       "│ CatalogID       ┆ 682      │\n",
       "│ ParentSectionID ┆ 4821     │\n",
       "│ CreationDate    ┆ 8797     │\n",
       "└─────────────────┴──────────┘"
      ]
     },
     "execution_count": 46,
     "metadata": {},
     "output_type": "execute_result"
    }
   ],
   "source": [
    "pl.DataFrame({\n",
    "    \"column\": se.columns,\n",
    "    \"n_unique\": [se[col].n_unique() for col in se.columns]\n",
    "})"
   ]
  },
  {
   "cell_type": "code",
   "execution_count": 47,
   "id": "e6322503",
   "metadata": {},
   "outputs": [
    {
     "data": {
      "text/html": [
       "<div><style>\n",
       ".dataframe > thead > tr,\n",
       ".dataframe > tbody > tr {\n",
       "  text-align: right;\n",
       "  white-space: pre-wrap;\n",
       "}\n",
       "</style>\n",
       "<small>shape: (6, 2)</small><table border=\"1\" class=\"dataframe\"><thead><tr><th>column</th><th>n_unique</th></tr><tr><td>str</td><td>i64</td></tr></thead><tbody><tr><td>&quot;SpecificationID&quot;</td><td>4487</td></tr><tr><td>&quot;ServicePartsPageID&quot;</td><td>271287</td></tr><tr><td>&quot;SectionID&quot;</td><td>24009</td></tr><tr><td>&quot;BaseObjectID&quot;</td><td>299906</td></tr><tr><td>&quot;Name&quot;</td><td>2041</td></tr><tr><td>&quot;CatalogTreeNodeID&quot;</td><td>1221033</td></tr></tbody></table></div>"
      ],
      "text/plain": [
       "shape: (6, 2)\n",
       "┌────────────────────┬──────────┐\n",
       "│ column             ┆ n_unique │\n",
       "│ ---                ┆ ---      │\n",
       "│ str                ┆ i64      │\n",
       "╞════════════════════╪══════════╡\n",
       "│ SpecificationID    ┆ 4487     │\n",
       "│ ServicePartsPageID ┆ 271287   │\n",
       "│ SectionID          ┆ 24009    │\n",
       "│ BaseObjectID       ┆ 299906   │\n",
       "│ Name               ┆ 2041     │\n",
       "│ CatalogTreeNodeID  ┆ 1221033  │\n",
       "└────────────────────┴──────────┘"
      ]
     },
     "execution_count": 47,
     "metadata": {},
     "output_type": "execute_result"
    }
   ],
   "source": [
    "pl.DataFrame({\n",
    "    \"column\": cat.columns,\n",
    "    \"n_unique\": [cat[col].n_unique() for col in cat.columns]\n",
    "})"
   ]
  },
  {
   "cell_type": "code",
   "execution_count": 48,
   "id": "427fce21",
   "metadata": {},
   "outputs": [
    {
     "data": {
      "text/html": [
       "<div><style>\n",
       ".dataframe > thead > tr,\n",
       ".dataframe > tbody > tr {\n",
       "  text-align: right;\n",
       "  white-space: pre-wrap;\n",
       "}\n",
       "</style>\n",
       "<small>shape: (9, 2)</small><table border=\"1\" class=\"dataframe\"><thead><tr><th>column</th><th>n_unique</th></tr><tr><td>str</td><td>i64</td></tr></thead><tbody><tr><td>&quot;ProductionUnitID&quot;</td><td>709878</td></tr><tr><td>&quot;ManufactureDate&quot;</td><td>12557</td></tr><tr><td>&quot;EngineNumber&quot;</td><td>693556</td></tr><tr><td>&quot;PrimaryBuildCode&quot;</td><td>2379</td></tr><tr><td>&quot;RetailDealerAccount&quot;</td><td>2383</td></tr><tr><td>&quot;SalesModel&quot;</td><td>890</td></tr><tr><td>&quot;SerialNumber&quot;</td><td>708891</td></tr><tr><td>&quot;SpecificationID&quot;</td><td>1484</td></tr><tr><td>&quot;ModelID&quot;</td><td>890</td></tr></tbody></table></div>"
      ],
      "text/plain": [
       "shape: (9, 2)\n",
       "┌─────────────────────┬──────────┐\n",
       "│ column              ┆ n_unique │\n",
       "│ ---                 ┆ ---      │\n",
       "│ str                 ┆ i64      │\n",
       "╞═════════════════════╪══════════╡\n",
       "│ ProductionUnitID    ┆ 709878   │\n",
       "│ ManufactureDate     ┆ 12557    │\n",
       "│ EngineNumber        ┆ 693556   │\n",
       "│ PrimaryBuildCode    ┆ 2379     │\n",
       "│ RetailDealerAccount ┆ 2383     │\n",
       "│ SalesModel          ┆ 890      │\n",
       "│ SerialNumber        ┆ 708891   │\n",
       "│ SpecificationID     ┆ 1484     │\n",
       "│ ModelID             ┆ 890      │\n",
       "└─────────────────────┴──────────┘"
      ]
     },
     "execution_count": 48,
     "metadata": {},
     "output_type": "execute_result"
    }
   ],
   "source": [
    "pl.DataFrame({\n",
    "    \"column\": s1.columns,\n",
    "    \"n_unique\": [s1[col].n_unique() for col in s1.columns]\n",
    "})"
   ]
  },
  {
   "cell_type": "code",
   "execution_count": 49,
   "id": "3bde45ff",
   "metadata": {},
   "outputs": [
    {
     "data": {
      "text/html": [
       "<div><style>\n",
       ".dataframe > thead > tr,\n",
       ".dataframe > tbody > tr {\n",
       "  text-align: right;\n",
       "  white-space: pre-wrap;\n",
       "}\n",
       "</style>\n",
       "<small>shape: (6, 2)</small><table border=\"1\" class=\"dataframe\"><thead><tr><th>column</th><th>n_unique</th></tr><tr><td>str</td><td>i64</td></tr></thead><tbody><tr><td>&quot;ServicePartsPageID&quot;</td><td>16982</td></tr><tr><td>&quot;BaseObjectID&quot;</td><td>18380</td></tr><tr><td>&quot;CatalogTreeNodeID&quot;</td><td>34031</td></tr><tr><td>&quot;VinLockCacheID&quot;</td><td>65206</td></tr><tr><td>&quot;CreationDate&quot;</td><td>194</td></tr><tr><td>&quot;SerialNumber&quot;</td><td>177</td></tr></tbody></table></div>"
      ],
      "text/plain": [
       "shape: (6, 2)\n",
       "┌────────────────────┬──────────┐\n",
       "│ column             ┆ n_unique │\n",
       "│ ---                ┆ ---      │\n",
       "│ str                ┆ i64      │\n",
       "╞════════════════════╪══════════╡\n",
       "│ ServicePartsPageID ┆ 16982    │\n",
       "│ BaseObjectID       ┆ 18380    │\n",
       "│ CatalogTreeNodeID  ┆ 34031    │\n",
       "│ VinLockCacheID     ┆ 65206    │\n",
       "│ CreationDate       ┆ 194      │\n",
       "│ SerialNumber       ┆ 177      │\n",
       "└────────────────────┴──────────┘"
      ]
     },
     "execution_count": 49,
     "metadata": {},
     "output_type": "execute_result"
    }
   ],
   "source": [
    "pl.DataFrame({\n",
    "    \"column\": s2.columns,\n",
    "    \"n_unique\": [s2[col].n_unique() for col in s2.columns]\n",
    "})"
   ]
  },
  {
   "cell_type": "code",
   "execution_count": 95,
   "id": "5a3ecef7",
   "metadata": {},
   "outputs": [],
   "source": [
    "dd = pl.read_csv(\"C:/Users/user/Desktop/data9225.csv\")"
   ]
  },
  {
   "cell_type": "code",
   "execution_count": 4,
   "id": "70cbc62c",
   "metadata": {},
   "outputs": [
    {
     "data": {
      "text/html": [
       "<div><style>\n",
       ".dataframe > thead > tr,\n",
       ".dataframe > tbody > tr {\n",
       "  text-align: right;\n",
       "  white-space: pre-wrap;\n",
       "}\n",
       "</style>\n",
       "<small>shape: (4_636,)</small><table border=\"1\" class=\"dataframe\"><thead><tr><th>sub_part</th></tr><tr><td>str</td></tr></thead><tbody><tr><td>&quot;128/E0100&quot;</td></tr><tr><td>&quot;02/202107&quot;</td></tr><tr><td>&quot;02/202107&quot;</td></tr><tr><td>&quot;02/202107&quot;</td></tr><tr><td>&quot;02/202107&quot;</td></tr><tr><td>&hellip;</td></tr><tr><td>&quot;20/951697&quot;</td></tr><tr><td>&quot;20/951697&quot;</td></tr><tr><td>&quot;30/925441&quot;</td></tr><tr><td>&quot;30/925441&quot;</td></tr><tr><td>&quot;30/925441&quot;</td></tr></tbody></table></div>"
      ],
      "text/plain": [
       "shape: (4_636,)\n",
       "Series: 'sub_part' [str]\n",
       "[\n",
       "\t\"128/E0100\"\n",
       "\t\"02/202107\"\n",
       "\t\"02/202107\"\n",
       "\t\"02/202107\"\n",
       "\t\"02/202107\"\n",
       "\t…\n",
       "\t\"20/951697\"\n",
       "\t\"20/951697\"\n",
       "\t\"30/925441\"\n",
       "\t\"30/925441\"\n",
       "\t\"30/925441\"\n",
       "]"
      ]
     },
     "execution_count": 4,
     "metadata": {},
     "output_type": "execute_result"
    }
   ],
   "source": [
    "dd[\"sub_part\"]"
   ]
  },
  {
   "cell_type": "code",
   "execution_count": 10,
   "id": "b28113d2",
   "metadata": {},
   "outputs": [],
   "source": [
    "ser = pl.read_csv(\"C:/Users/user/Desktop/SPPSerial.csv\")"
   ]
  },
  {
   "cell_type": "code",
   "execution_count": 13,
   "id": "1627b7ed",
   "metadata": {},
   "outputs": [
    {
     "data": {
      "text/html": [
       "<div><style>\n",
       ".dataframe > thead > tr,\n",
       ".dataframe > tbody > tr {\n",
       "  text-align: right;\n",
       "  white-space: pre-wrap;\n",
       "}\n",
       "</style>\n",
       "<small>shape: (56_329, 5)</small><table border=\"1\" class=\"dataframe\"><thead><tr><th>SerialNumber</th><th>DrawingName</th><th>Number</th><th>BaseNumber</th><th>Number_right</th></tr><tr><td>i64</td><td>str</td><td>str</td><td>str</td><td>str</td></tr></thead><tbody><tr><td>2143175</td><td>&quot;332-J1048-1&quot;</td><td>&quot;332/J1048 1&quot;</td><td>&quot;332/J1048 &quot;</td><td>&quot;E390-155-1&quot;</td></tr><tr><td>2182633</td><td>&quot;332-D8464-1&quot;</td><td>&quot;332/D8464 1&quot;</td><td>&quot;332/D8464 &quot;</td><td>&quot;C390-120-1&quot;</td></tr><tr><td>2144776</td><td>&quot;332-D8464-1&quot;</td><td>&quot;332/D8464 1&quot;</td><td>&quot;332/D8464 &quot;</td><td>&quot;C390-120-1&quot;</td></tr><tr><td>2083926</td><td>&quot;332-D8464-1&quot;</td><td>&quot;332/D8464 1&quot;</td><td>&quot;332/D8464 &quot;</td><td>&quot;C390-120-1&quot;</td></tr><tr><td>2433163</td><td>&quot;333-P5569-3&quot;</td><td>&quot;333/P5569 5&quot;</td><td>&quot;333/P5569 &quot;</td><td>&quot;D150-5-1&quot;</td></tr><tr><td>&hellip;</td><td>&hellip;</td><td>&hellip;</td><td>&hellip;</td><td>&hellip;</td></tr><tr><td>2397455</td><td>&quot;333-J3880-1&quot;</td><td>&quot;333/J7628 1&quot;</td><td>&quot;333/J7628 &quot;</td><td>&quot;L610-5-1&quot;</td></tr><tr><td>1743515</td><td>&quot;333-T3507-1&quot;</td><td>&quot;333/T3507 2&quot;</td><td>&quot;333/T3507 &quot;</td><td>&quot;B520-25-1&quot;</td></tr><tr><td>1743248</td><td>&quot;333-T3507-1&quot;</td><td>&quot;333/T3507 2&quot;</td><td>&quot;333/T3507 &quot;</td><td>&quot;B520-25-1&quot;</td></tr><tr><td>1743984</td><td>&quot;333-T3507-1&quot;</td><td>&quot;333/T3507 2&quot;</td><td>&quot;333/T3507 &quot;</td><td>&quot;B520-25-1&quot;</td></tr><tr><td>1744831</td><td>&quot;333-T3507-1&quot;</td><td>&quot;333/T3507 2&quot;</td><td>&quot;333/T3507 &quot;</td><td>&quot;B520-25-1&quot;</td></tr></tbody></table></div>"
      ],
      "text/plain": [
       "shape: (56_329, 5)\n",
       "┌──────────────┬─────────────┬─────────────┬────────────┬──────────────┐\n",
       "│ SerialNumber ┆ DrawingName ┆ Number      ┆ BaseNumber ┆ Number_right │\n",
       "│ ---          ┆ ---         ┆ ---         ┆ ---        ┆ ---          │\n",
       "│ i64          ┆ str         ┆ str         ┆ str        ┆ str          │\n",
       "╞══════════════╪═════════════╪═════════════╪════════════╪══════════════╡\n",
       "│ 2143175      ┆ 332-J1048-1 ┆ 332/J1048 1 ┆ 332/J1048  ┆ E390-155-1   │\n",
       "│ 2182633      ┆ 332-D8464-1 ┆ 332/D8464 1 ┆ 332/D8464  ┆ C390-120-1   │\n",
       "│ 2144776      ┆ 332-D8464-1 ┆ 332/D8464 1 ┆ 332/D8464  ┆ C390-120-1   │\n",
       "│ 2083926      ┆ 332-D8464-1 ┆ 332/D8464 1 ┆ 332/D8464  ┆ C390-120-1   │\n",
       "│ 2433163      ┆ 333-P5569-3 ┆ 333/P5569 5 ┆ 333/P5569  ┆ D150-5-1     │\n",
       "│ …            ┆ …           ┆ …           ┆ …          ┆ …            │\n",
       "│ 2397455      ┆ 333-J3880-1 ┆ 333/J7628 1 ┆ 333/J7628  ┆ L610-5-1     │\n",
       "│ 1743515      ┆ 333-T3507-1 ┆ 333/T3507 2 ┆ 333/T3507  ┆ B520-25-1    │\n",
       "│ 1743248      ┆ 333-T3507-1 ┆ 333/T3507 2 ┆ 333/T3507  ┆ B520-25-1    │\n",
       "│ 1743984      ┆ 333-T3507-1 ┆ 333/T3507 2 ┆ 333/T3507  ┆ B520-25-1    │\n",
       "│ 1744831      ┆ 333-T3507-1 ┆ 333/T3507 2 ┆ 333/T3507  ┆ B520-25-1    │\n",
       "└──────────────┴─────────────┴─────────────┴────────────┴──────────────┘"
      ]
     },
     "execution_count": 13,
     "metadata": {},
     "output_type": "execute_result"
    }
   ],
   "source": [
    "ser"
   ]
  },
  {
   "cell_type": "code",
   "execution_count": 12,
   "id": "77005b12",
   "metadata": {},
   "outputs": [],
   "source": [
    "ser = ser.drop([\"CatalogTreeNodeID\",\"ServicePartsPageID\",\"GenericServicePartsPageID\",\"DrawingID\",\"PINumberID\",\"CatalogID\"])"
   ]
  },
  {
   "cell_type": "code",
   "execution_count": 14,
   "id": "92588c4c",
   "metadata": {},
   "outputs": [],
   "source": [
    "ser = ser.with_columns(\n",
    "    pl.col(\"BaseNumber\").str.strip_chars().alias(\"BaseNumber\")\n",
    ")"
   ]
  },
  {
   "cell_type": "code",
   "execution_count": null,
   "id": "089386b2",
   "metadata": {},
   "outputs": [],
   "source": [
    "# ser.write_csv(\"C:/Users/user/Desktop/withserials.csv\")"
   ]
  },
  {
   "cell_type": "code",
   "execution_count": null,
   "id": "3cca62dd",
   "metadata": {},
   "outputs": [],
   "source": [
    "p = pl.read_csv(\"C:/Users/user/Desktop/ProductionUnit.csv\", ignore_errors=True)"
   ]
  },
  {
   "cell_type": "code",
   "execution_count": 18,
   "id": "5d4c18a2",
   "metadata": {},
   "outputs": [],
   "source": [
    "sppr = pl.read_csv(\"C:/Users/user/Desktop/Specification_ProductionUnit.csv\")"
   ]
  },
  {
   "cell_type": "code",
   "execution_count": 21,
   "id": "cdf6b9c2",
   "metadata": {},
   "outputs": [],
   "source": [
    "s = pl.read_csv(\"C:/Users/user/Desktop/Specification.csv\", ignore_errors=True)"
   ]
  },
  {
   "cell_type": "code",
   "execution_count": 22,
   "id": "92bff6c6",
   "metadata": {},
   "outputs": [],
   "source": [
    "ssp = pl.read_csv(\"C:/Users/user/Desktop/SpecificationSpp.csv\", ignore_errors=True)"
   ]
  },
  {
   "cell_type": "code",
   "execution_count": 27,
   "id": "939f45ff",
   "metadata": {},
   "outputs": [],
   "source": [
    "cat = pl.read_csv(\"C:/Users/user/Desktop/CatalogTreeNode.csv\", ignore_errors=True)"
   ]
  },
  {
   "cell_type": "code",
   "execution_count": 30,
   "id": "18bdec29",
   "metadata": {},
   "outputs": [],
   "source": [
    "v = pl.read_csv(\"C:/Users/user/Desktop/VinLockCache.csv\")"
   ]
  },
  {
   "cell_type": "code",
   "execution_count": 31,
   "id": "bb7a92c1",
   "metadata": {},
   "outputs": [],
   "source": [
    "m = pl.read_csv(\"C:/Users/user/Desktop/Model.csv\")"
   ]
  },
  {
   "cell_type": "code",
   "execution_count": 28,
   "id": "de0fb2e8",
   "metadata": {},
   "outputs": [],
   "source": [
    "cat = cat.drop([\"LineOfBusinessID\",\"ModelRangeID\",\"ModelGroupID\",\"LocationID\",\"NodeType\",\"CatalogFolderID\",\"DocumentID\",\"IsRoot\",\"IsVisible\"])"
   ]
  },
  {
   "cell_type": "code",
   "execution_count": 32,
   "id": "1d5f4ad0",
   "metadata": {},
   "outputs": [
    {
     "data": {
      "text/html": [
       "<div><style>\n",
       ".dataframe > thead > tr,\n",
       ".dataframe > tbody > tr {\n",
       "  text-align: right;\n",
       "  white-space: pre-wrap;\n",
       "}\n",
       "</style>\n",
       "<small>shape: (6, 2)</small><table border=\"1\" class=\"dataframe\"><thead><tr><th>column</th><th>n_unique</th></tr><tr><td>str</td><td>i64</td></tr></thead><tbody><tr><td>&quot;SpecificationID&quot;</td><td>4487</td></tr><tr><td>&quot;ServicePartsPageID&quot;</td><td>271287</td></tr><tr><td>&quot;SectionID&quot;</td><td>24009</td></tr><tr><td>&quot;BaseObjectID&quot;</td><td>299906</td></tr><tr><td>&quot;Name&quot;</td><td>2041</td></tr><tr><td>&quot;CatalogTreeNodeID&quot;</td><td>1221033</td></tr></tbody></table></div>"
      ],
      "text/plain": [
       "shape: (6, 2)\n",
       "┌────────────────────┬──────────┐\n",
       "│ column             ┆ n_unique │\n",
       "│ ---                ┆ ---      │\n",
       "│ str                ┆ i64      │\n",
       "╞════════════════════╪══════════╡\n",
       "│ SpecificationID    ┆ 4487     │\n",
       "│ ServicePartsPageID ┆ 271287   │\n",
       "│ SectionID          ┆ 24009    │\n",
       "│ BaseObjectID       ┆ 299906   │\n",
       "│ Name               ┆ 2041     │\n",
       "│ CatalogTreeNodeID  ┆ 1221033  │\n",
       "└────────────────────┴──────────┘"
      ]
     },
     "execution_count": 32,
     "metadata": {},
     "output_type": "execute_result"
    }
   ],
   "source": [
    "pl.DataFrame({\n",
    "    \"column\": cat.columns,\n",
    "    \"n_unique\": [cat[col].n_unique() for col in cat.columns]\n",
    "})"
   ]
  },
  {
   "cell_type": "code",
   "execution_count": 35,
   "id": "ee3386cc",
   "metadata": {},
   "outputs": [
    {
     "data": {
      "text/html": [
       "<div><style>\n",
       ".dataframe > thead > tr,\n",
       ".dataframe > tbody > tr {\n",
       "  text-align: right;\n",
       "  white-space: pre-wrap;\n",
       "}\n",
       "</style>\n",
       "<small>shape: (1_221_033, 6)</small><table border=\"1\" class=\"dataframe\"><thead><tr><th>SpecificationID</th><th>ServicePartsPageID</th><th>SectionID</th><th>BaseObjectID</th><th>Name</th><th>CatalogTreeNodeID</th></tr><tr><td>str</td><td>str</td><td>str</td><td>str</td><td>str</td><td>str</td></tr></thead><tbody><tr><td>null</td><td>&quot;15756873-1E22-4C3C-80EB-08AE52…</td><td>null</td><td>&quot;15756873-1E22-4C3C-80EB-08AE52…</td><td>null</td><td>&quot;AA978CBF-C008-45DB-A9F6-000000…</td></tr><tr><td>null</td><td>&quot;991DFEF9-AD9E-4EEA-BED6-FE7E8F…</td><td>null</td><td>&quot;991DFEF9-AD9E-4EEA-BED6-FE7E8F…</td><td>null</td><td>&quot;365B0F05-C09C-456E-8F91-000015…</td></tr><tr><td>null</td><td>&quot;01268579-E5F4-4D2A-9093-BE5F6A…</td><td>null</td><td>&quot;01268579-E5F4-4D2A-9093-BE5F6A…</td><td>null</td><td>&quot;21D05DA6-6B87-4203-BF95-000027…</td></tr><tr><td>null</td><td>&quot;EE4566BC-AD77-44BB-9B7A-112655…</td><td>null</td><td>&quot;EE4566BC-AD77-44BB-9B7A-112655…</td><td>null</td><td>&quot;7C0F9BD9-ED34-4A8E-BA57-00002A…</td></tr><tr><td>null</td><td>&quot;6E2AC011-BFFE-45B1-80B7-D5E70A…</td><td>null</td><td>&quot;6E2AC011-BFFE-45B1-80B7-D5E70A…</td><td>null</td><td>&quot;E6A3A2A8-B62C-42C2-91DE-00002E…</td></tr><tr><td>&hellip;</td><td>&hellip;</td><td>&hellip;</td><td>&hellip;</td><td>&hellip;</td><td>&hellip;</td></tr><tr><td>null</td><td>&quot;7CFFD6EA-C649-4ED1-8265-5110BE…</td><td>null</td><td>&quot;7CFFD6EA-C649-4ED1-8265-5110BE…</td><td>null</td><td>&quot;5ECDDD51-3B40-4E31-95A9-FFFF9C…</td></tr><tr><td>null</td><td>&quot;29CFEF3A-9594-4426-B6E6-02C9AF…</td><td>null</td><td>&quot;29CFEF3A-9594-4426-B6E6-02C9AF…</td><td>null</td><td>&quot;3BDA42E9-BCB3-4B29-AE9C-FFFFB0…</td></tr><tr><td>null</td><td>&quot;2EB60CDE-B607-4C16-8E28-D41CB3…</td><td>null</td><td>&quot;2EB60CDE-B607-4C16-8E28-D41CB3…</td><td>null</td><td>&quot;93CC4405-77D0-4654-8EC8-FFFFBB…</td></tr><tr><td>null</td><td>&quot;028637BE-C610-42FF-884B-734417…</td><td>null</td><td>&quot;028637BE-C610-42FF-884B-734417…</td><td>null</td><td>&quot;E13C0321-9F50-4993-904F-FFFFC5…</td></tr><tr><td>null</td><td>&quot;D2B2C13C-6006-4C2E-A956-2ECC09…</td><td>null</td><td>&quot;D2B2C13C-6006-4C2E-A956-2ECC09…</td><td>null</td><td>&quot;E88DA21B-B242-4EB6-8308-FFFFDC…</td></tr></tbody></table></div>"
      ],
      "text/plain": [
       "shape: (1_221_033, 6)\n",
       "┌─────────────────┬────────────────────┬───────────┬────────────────────┬──────┬───────────────────┐\n",
       "│ SpecificationID ┆ ServicePartsPageID ┆ SectionID ┆ BaseObjectID       ┆ Name ┆ CatalogTreeNodeID │\n",
       "│ ---             ┆ ---                ┆ ---       ┆ ---                ┆ ---  ┆ ---               │\n",
       "│ str             ┆ str                ┆ str       ┆ str                ┆ str  ┆ str               │\n",
       "╞═════════════════╪════════════════════╪═══════════╪════════════════════╪══════╪═══════════════════╡\n",
       "│ null            ┆ 15756873-1E22-4C3C ┆ null      ┆ 15756873-1E22-4C3C ┆ null ┆ AA978CBF-C008-45D │\n",
       "│                 ┆ -80EB-08AE52…      ┆           ┆ -80EB-08AE52…      ┆      ┆ B-A9F6-000000…    │\n",
       "│ null            ┆ 991DFEF9-AD9E-4EEA ┆ null      ┆ 991DFEF9-AD9E-4EEA ┆ null ┆ 365B0F05-C09C-456 │\n",
       "│                 ┆ -BED6-FE7E8F…      ┆           ┆ -BED6-FE7E8F…      ┆      ┆ E-8F91-000015…    │\n",
       "│ null            ┆ 01268579-E5F4-4D2A ┆ null      ┆ 01268579-E5F4-4D2A ┆ null ┆ 21D05DA6-6B87-420 │\n",
       "│                 ┆ -9093-BE5F6A…      ┆           ┆ -9093-BE5F6A…      ┆      ┆ 3-BF95-000027…    │\n",
       "│ null            ┆ EE4566BC-AD77-44BB ┆ null      ┆ EE4566BC-AD77-44BB ┆ null ┆ 7C0F9BD9-ED34-4A8 │\n",
       "│                 ┆ -9B7A-112655…      ┆           ┆ -9B7A-112655…      ┆      ┆ E-BA57-00002A…    │\n",
       "│ null            ┆ 6E2AC011-BFFE-45B1 ┆ null      ┆ 6E2AC011-BFFE-45B1 ┆ null ┆ E6A3A2A8-B62C-42C │\n",
       "│                 ┆ -80B7-D5E70A…      ┆           ┆ -80B7-D5E70A…      ┆      ┆ 2-91DE-00002E…    │\n",
       "│ …               ┆ …                  ┆ …         ┆ …                  ┆ …    ┆ …                 │\n",
       "│ null            ┆ 7CFFD6EA-C649-4ED1 ┆ null      ┆ 7CFFD6EA-C649-4ED1 ┆ null ┆ 5ECDDD51-3B40-4E3 │\n",
       "│                 ┆ -8265-5110BE…      ┆           ┆ -8265-5110BE…      ┆      ┆ 1-95A9-FFFF9C…    │\n",
       "│ null            ┆ 29CFEF3A-9594-4426 ┆ null      ┆ 29CFEF3A-9594-4426 ┆ null ┆ 3BDA42E9-BCB3-4B2 │\n",
       "│                 ┆ -B6E6-02C9AF…      ┆           ┆ -B6E6-02C9AF…      ┆      ┆ 9-AE9C-FFFFB0…    │\n",
       "│ null            ┆ 2EB60CDE-B607-4C16 ┆ null      ┆ 2EB60CDE-B607-4C16 ┆ null ┆ 93CC4405-77D0-465 │\n",
       "│                 ┆ -8E28-D41CB3…      ┆           ┆ -8E28-D41CB3…      ┆      ┆ 4-8EC8-FFFFBB…    │\n",
       "│ null            ┆ 028637BE-C610-42FF ┆ null      ┆ 028637BE-C610-42FF ┆ null ┆ E13C0321-9F50-499 │\n",
       "│                 ┆ -884B-734417…      ┆           ┆ -884B-734417…      ┆      ┆ 3-904F-FFFFC5…    │\n",
       "│ null            ┆ D2B2C13C-6006-4C2E ┆ null      ┆ D2B2C13C-6006-4C2E ┆ null ┆ E88DA21B-B242-4EB │\n",
       "│                 ┆ -A956-2ECC09…      ┆           ┆ -A956-2ECC09…      ┆      ┆ 6-8308-FFFFDC…    │\n",
       "└─────────────────┴────────────────────┴───────────┴────────────────────┴──────┴───────────────────┘"
      ]
     },
     "execution_count": 35,
     "metadata": {},
     "output_type": "execute_result"
    }
   ],
   "source": [
    "cat"
   ]
  },
  {
   "cell_type": "code",
   "execution_count": 39,
   "id": "2dbce517",
   "metadata": {},
   "outputs": [
    {
     "data": {
      "text/html": [
       "<div><style>\n",
       ".dataframe > thead > tr,\n",
       ".dataframe > tbody > tr {\n",
       "  text-align: right;\n",
       "  white-space: pre-wrap;\n",
       "}\n",
       "</style>\n",
       "<small>shape: (5_863, 5)</small><table border=\"1\" class=\"dataframe\"><thead><tr><th>Number</th><th>Description</th><th>Name</th><th>ModelID</th><th>OwnershipGroupID</th></tr><tr><td>str</td><td>str</td><td>str</td><td>str</td><td>str</td></tr></thead><tbody><tr><td>&quot;950-2&quot;</td><td>null</td><td>null</td><td>&quot;D4FFDA44-C104-4049-8047-00111B…</td><td>&quot;E93C6831-E861-4D20-93C0-37D88E…</td></tr><tr><td>&quot;320/50339&quot;</td><td>&quot;DIESELMAX DRESSED ENGINE&quot;</td><td>null</td><td>&quot;F29F4C05-3B6A-430A-9641-0017E3…</td><td>&quot;E93C6831-E861-4D20-93C0-37D88E…</td></tr><tr><td>&quot;2CX-10-4WS&quot;</td><td>null</td><td>null</td><td>&quot;FF6E2E18-ED6D-4F77-8909-0024D4…</td><td>&quot;E93C6831-E861-4D20-93C0-37D88E…</td></tr><tr><td>&quot;536-60AG F&quot;</td><td>null</td><td>null</td><td>&quot;DDE67F42-508D-4D52-961F-003644…</td><td>&quot;E93C6831-E861-4D20-93C0-37D88E…</td></tr><tr><td>&quot;448/58590&quot;</td><td>null</td><td>null</td><td>&quot;F7AE7D3D-FF80-4FDF-8861-0038F3…</td><td>&quot;E93C6831-E861-4D20-93C0-37D88E…</td></tr><tr><td>&hellip;</td><td>&hellip;</td><td>&hellip;</td><td>&hellip;</td><td>&hellip;</td></tr><tr><td>&quot;JS300NC 4I&quot;</td><td>null</td><td>null</td><td>&quot;A725814E-A2E8-4F6A-9B35-FFCA9E…</td><td>&quot;E93C6831-E861-4D20-93C0-37D88E…</td></tr><tr><td>&quot;4CX444 MS 20&quot;</td><td>null</td><td>&quot;4CX444 MS 20&quot;</td><td>&quot;85285EB3-68AF-4A3A-B1E8-FFD2BC…</td><td>&quot;E93C6831-E861-4D20-93C0-37D88E…</td></tr><tr><td>&quot;9822/0190&quot;</td><td>null</td><td>null</td><td>&quot;0025B38D-A597-40D4-A3E0-FFE04E…</td><td>&quot;E93C6831-E861-4D20-93C0-37D88E…</td></tr><tr><td>&quot;214-TPC&quot;</td><td>null</td><td>null</td><td>&quot;2457FE8F-CC77-42F6-94F3-FFE70F…</td><td>&quot;E93C6831-E861-4D20-93C0-37D88E…</td></tr><tr><td>&quot;ROBOT 980HF&quot;</td><td>null</td><td>&quot;ROBOT 980HF&quot;</td><td>&quot;CEEE6F13-2F7B-4704-83E8-FFE735…</td><td>&quot;E93C6831-E861-4D20-93C0-37D88E…</td></tr></tbody></table></div>"
      ],
      "text/plain": [
       "shape: (5_863, 5)\n",
       "┌──────────────┬───────────────────┬──────────────┬────────────────────────┬───────────────────────┐\n",
       "│ Number       ┆ Description       ┆ Name         ┆ ModelID                ┆ OwnershipGroupID      │\n",
       "│ ---          ┆ ---               ┆ ---          ┆ ---                    ┆ ---                   │\n",
       "│ str          ┆ str               ┆ str          ┆ str                    ┆ str                   │\n",
       "╞══════════════╪═══════════════════╪══════════════╪════════════════════════╪═══════════════════════╡\n",
       "│ 950-2        ┆ null              ┆ null         ┆ D4FFDA44-C104-4049-804 ┆ E93C6831-E861-4D20-93 │\n",
       "│              ┆                   ┆              ┆ 7-00111B…              ┆ C0-37D88E…            │\n",
       "│ 320/50339    ┆ DIESELMAX DRESSED ┆ null         ┆ F29F4C05-3B6A-430A-964 ┆ E93C6831-E861-4D20-93 │\n",
       "│              ┆ ENGINE            ┆              ┆ 1-0017E3…              ┆ C0-37D88E…            │\n",
       "│ 2CX-10-4WS   ┆ null              ┆ null         ┆ FF6E2E18-ED6D-4F77-890 ┆ E93C6831-E861-4D20-93 │\n",
       "│              ┆                   ┆              ┆ 9-0024D4…              ┆ C0-37D88E…            │\n",
       "│ 536-60AG F   ┆ null              ┆ null         ┆ DDE67F42-508D-4D52-961 ┆ E93C6831-E861-4D20-93 │\n",
       "│              ┆                   ┆              ┆ F-003644…              ┆ C0-37D88E…            │\n",
       "│ 448/58590    ┆ null              ┆ null         ┆ F7AE7D3D-FF80-4FDF-886 ┆ E93C6831-E861-4D20-93 │\n",
       "│              ┆                   ┆              ┆ 1-0038F3…              ┆ C0-37D88E…            │\n",
       "│ …            ┆ …                 ┆ …            ┆ …                      ┆ …                     │\n",
       "│ JS300NC 4I   ┆ null              ┆ null         ┆ A725814E-A2E8-4F6A-9B3 ┆ E93C6831-E861-4D20-93 │\n",
       "│              ┆                   ┆              ┆ 5-FFCA9E…              ┆ C0-37D88E…            │\n",
       "│ 4CX444 MS 20 ┆ null              ┆ 4CX444 MS 20 ┆ 85285EB3-68AF-4A3A-B1E ┆ E93C6831-E861-4D20-93 │\n",
       "│              ┆                   ┆              ┆ 8-FFD2BC…              ┆ C0-37D88E…            │\n",
       "│ 9822/0190    ┆ null              ┆ null         ┆ 0025B38D-A597-40D4-A3E ┆ E93C6831-E861-4D20-93 │\n",
       "│              ┆                   ┆              ┆ 0-FFE04E…              ┆ C0-37D88E…            │\n",
       "│ 214-TPC      ┆ null              ┆ null         ┆ 2457FE8F-CC77-42F6-94F ┆ E93C6831-E861-4D20-93 │\n",
       "│              ┆                   ┆              ┆ 3-FFE70F…              ┆ C0-37D88E…            │\n",
       "│ ROBOT 980HF  ┆ null              ┆ ROBOT 980HF  ┆ CEEE6F13-2F7B-4704-83E ┆ E93C6831-E861-4D20-93 │\n",
       "│              ┆                   ┆              ┆ 8-FFE735…              ┆ C0-37D88E…            │\n",
       "└──────────────┴───────────────────┴──────────────┴────────────────────────┴───────────────────────┘"
      ]
     },
     "execution_count": 39,
     "metadata": {},
     "output_type": "execute_result"
    }
   ],
   "source": [
    "m"
   ]
  },
  {
   "cell_type": "code",
   "execution_count": 40,
   "id": "ee6316b1",
   "metadata": {},
   "outputs": [
    {
     "data": {
      "text/html": [
       "<div><style>\n",
       ".dataframe > thead > tr,\n",
       ".dataframe > tbody > tr {\n",
       "  text-align: right;\n",
       "  white-space: pre-wrap;\n",
       "}\n",
       "</style>\n",
       "<small>shape: (5, 2)</small><table border=\"1\" class=\"dataframe\"><thead><tr><th>column</th><th>n_unique</th></tr><tr><td>str</td><td>i64</td></tr></thead><tbody><tr><td>&quot;Number&quot;</td><td>5863</td></tr><tr><td>&quot;Description&quot;</td><td>433</td></tr><tr><td>&quot;Name&quot;</td><td>1651</td></tr><tr><td>&quot;ModelID&quot;</td><td>5863</td></tr><tr><td>&quot;OwnershipGroupID&quot;</td><td>2</td></tr></tbody></table></div>"
      ],
      "text/plain": [
       "shape: (5, 2)\n",
       "┌──────────────────┬──────────┐\n",
       "│ column           ┆ n_unique │\n",
       "│ ---              ┆ ---      │\n",
       "│ str              ┆ i64      │\n",
       "╞══════════════════╪══════════╡\n",
       "│ Number           ┆ 5863     │\n",
       "│ Description      ┆ 433      │\n",
       "│ Name             ┆ 1651     │\n",
       "│ ModelID          ┆ 5863     │\n",
       "│ OwnershipGroupID ┆ 2        │\n",
       "└──────────────────┴──────────┘"
      ]
     },
     "execution_count": 40,
     "metadata": {},
     "output_type": "execute_result"
    }
   ],
   "source": [
    "pl.DataFrame({\n",
    "    \"column\": m.columns,\n",
    "    \"n_unique\": [m[col].n_unique() for col in m.columns]\n",
    "})"
   ]
  },
  {
   "cell_type": "code",
   "execution_count": 41,
   "id": "61bf5b99",
   "metadata": {},
   "outputs": [
    {
     "data": {
      "text/html": [
       "<div><style>\n",
       ".dataframe > thead > tr,\n",
       ".dataframe > tbody > tr {\n",
       "  text-align: right;\n",
       "  white-space: pre-wrap;\n",
       "}\n",
       "</style>\n",
       "<small>shape: (66_052, 5)</small><table border=\"1\" class=\"dataframe\"><thead><tr><th>VinLockCacheID</th><th>IsExternal</th><th>CreationDate</th><th>CatalogTreeNodeID</th><th>SerialNumber</th></tr><tr><td>str</td><td>i64</td><td>str</td><td>str</td><td>i64</td></tr></thead><tbody><tr><td>&quot;5F6C005C-CF84-450A-8E64-00055F…</td><td>0</td><td>&quot;2016-03-03 09:50:40.890&quot;</td><td>&quot;D85EB856-C8D1-492C-9E4D-A93BC6…</td><td>2134974</td></tr><tr><td>&quot;C24A5E52-19AC-4493-8FBD-0005D1…</td><td>0</td><td>&quot;2016-03-02 02:53:49.557&quot;</td><td>&quot;173D3648-9B01-4F65-B413-FC1F24…</td><td>2073513</td></tr><tr><td>&quot;8AB187E5-B365-427D-99D0-000850…</td><td>0</td><td>&quot;2016-02-29 18:19:55.480&quot;</td><td>&quot;E86296B9-8D4D-4E44-A136-3C8883…</td><td>1756268</td></tr><tr><td>&quot;3ABA9037-6178-4097-8CEB-000853…</td><td>0</td><td>&quot;2016-03-01 12:29:20.223&quot;</td><td>&quot;029CE0FA-D89C-4AEA-90D5-56A03B…</td><td>2184081</td></tr><tr><td>&quot;6A90EEED-4272-42E8-A951-000BDD…</td><td>0</td><td>&quot;2016-02-26 14:03:37.580&quot;</td><td>&quot;FD347C33-5773-4A92-B213-6B023F…</td><td>2182633</td></tr><tr><td>&hellip;</td><td>&hellip;</td><td>&hellip;</td><td>&hellip;</td><td>&hellip;</td></tr><tr><td>&quot;E1470A6E-8A68-425D-9161-FFFD8E…</td><td>1</td><td>&quot;2016-03-01 11:51:29.070&quot;</td><td>&quot;C0172550-D935-4429-9F79-0090B3…</td><td>2268411</td></tr><tr><td>&quot;9B7D17C1-4957-4901-ADEF-FFFD96…</td><td>0</td><td>&quot;2016-03-04 19:59:10.650&quot;</td><td>&quot;4C1BF73E-5730-4380-9671-BF64C1…</td><td>2197596</td></tr><tr><td>&quot;F3839D73-E587-49D6-A4D0-FFFE71…</td><td>0</td><td>&quot;2016-02-26 11:51:29.530&quot;</td><td>&quot;F9B51F8C-6E7D-4C21-892F-18A610…</td><td>2354909</td></tr><tr><td>&quot;F4693BD8-EEC0-4B3C-86B2-FFFF00…</td><td>0</td><td>&quot;2016-03-01 12:34:48.060&quot;</td><td>&quot;4E9241DA-4D98-4C0A-9908-FC486F…</td><td>1781721</td></tr><tr><td>&quot;D2810F34-6623-422F-B9D7-FFFF33…</td><td>0</td><td>&quot;2016-03-02 14:23:03.637&quot;</td><td>&quot;46B055D6-9B96-48B7-B11B-88E226…</td><td>2353012</td></tr></tbody></table></div>"
      ],
      "text/plain": [
       "shape: (66_052, 5)\n",
       "┌───────────────────────────┬────────────┬──────────────┬───────────────────────────┬──────────────┐\n",
       "│ VinLockCacheID            ┆ IsExternal ┆ CreationDate ┆ CatalogTreeNodeID         ┆ SerialNumber │\n",
       "│ ---                       ┆ ---        ┆ ---          ┆ ---                       ┆ ---          │\n",
       "│ str                       ┆ i64        ┆ str          ┆ str                       ┆ i64          │\n",
       "╞═══════════════════════════╪════════════╪══════════════╪═══════════════════════════╪══════════════╡\n",
       "│ 5F6C005C-CF84-450A-8E64-0 ┆ 0          ┆ 2016-03-03   ┆ D85EB856-C8D1-492C-9E4D-A ┆ 2134974      │\n",
       "│ 0055F…                    ┆            ┆ 09:50:40.890 ┆ 93BC6…                    ┆              │\n",
       "│ C24A5E52-19AC-4493-8FBD-0 ┆ 0          ┆ 2016-03-02   ┆ 173D3648-9B01-4F65-B413-F ┆ 2073513      │\n",
       "│ 005D1…                    ┆            ┆ 02:53:49.557 ┆ C1F24…                    ┆              │\n",
       "│ 8AB187E5-B365-427D-99D0-0 ┆ 0          ┆ 2016-02-29   ┆ E86296B9-8D4D-4E44-A136-3 ┆ 1756268      │\n",
       "│ 00850…                    ┆            ┆ 18:19:55.480 ┆ C8883…                    ┆              │\n",
       "│ 3ABA9037-6178-4097-8CEB-0 ┆ 0          ┆ 2016-03-01   ┆ 029CE0FA-D89C-4AEA-90D5-5 ┆ 2184081      │\n",
       "│ 00853…                    ┆            ┆ 12:29:20.223 ┆ 6A03B…                    ┆              │\n",
       "│ 6A90EEED-4272-42E8-A951-0 ┆ 0          ┆ 2016-02-26   ┆ FD347C33-5773-4A92-B213-6 ┆ 2182633      │\n",
       "│ 00BDD…                    ┆            ┆ 14:03:37.580 ┆ B023F…                    ┆              │\n",
       "│ …                         ┆ …          ┆ …            ┆ …                         ┆ …            │\n",
       "│ E1470A6E-8A68-425D-9161-F ┆ 1          ┆ 2016-03-01   ┆ C0172550-D935-4429-9F79-0 ┆ 2268411      │\n",
       "│ FFD8E…                    ┆            ┆ 11:51:29.070 ┆ 090B3…                    ┆              │\n",
       "│ 9B7D17C1-4957-4901-ADEF-F ┆ 0          ┆ 2016-03-04   ┆ 4C1BF73E-5730-4380-9671-B ┆ 2197596      │\n",
       "│ FFD96…                    ┆            ┆ 19:59:10.650 ┆ F64C1…                    ┆              │\n",
       "│ F3839D73-E587-49D6-A4D0-F ┆ 0          ┆ 2016-02-26   ┆ F9B51F8C-6E7D-4C21-892F-1 ┆ 2354909      │\n",
       "│ FFE71…                    ┆            ┆ 11:51:29.530 ┆ 8A610…                    ┆              │\n",
       "│ F4693BD8-EEC0-4B3C-86B2-F ┆ 0          ┆ 2016-03-01   ┆ 4E9241DA-4D98-4C0A-9908-F ┆ 1781721      │\n",
       "│ FFF00…                    ┆            ┆ 12:34:48.060 ┆ C486F…                    ┆              │\n",
       "│ D2810F34-6623-422F-B9D7-F ┆ 0          ┆ 2016-03-02   ┆ 46B055D6-9B96-48B7-B11B-8 ┆ 2353012      │\n",
       "│ FFF33…                    ┆            ┆ 14:23:03.637 ┆ 8E226…                    ┆              │\n",
       "└───────────────────────────┴────────────┴──────────────┴───────────────────────────┴──────────────┘"
      ]
     },
     "execution_count": 41,
     "metadata": {},
     "output_type": "execute_result"
    }
   ],
   "source": [
    "v "
   ]
  },
  {
   "cell_type": "code",
   "execution_count": 42,
   "id": "92698514",
   "metadata": {},
   "outputs": [
    {
     "data": {
      "text/html": [
       "<div><style>\n",
       ".dataframe > thead > tr,\n",
       ".dataframe > tbody > tr {\n",
       "  text-align: right;\n",
       "  white-space: pre-wrap;\n",
       "}\n",
       "</style>\n",
       "<small>shape: (5, 2)</small><table border=\"1\" class=\"dataframe\"><thead><tr><th>column</th><th>n_unique</th></tr><tr><td>str</td><td>i64</td></tr></thead><tbody><tr><td>&quot;VinLockCacheID&quot;</td><td>66052</td></tr><tr><td>&quot;IsExternal&quot;</td><td>2</td></tr><tr><td>&quot;CreationDate&quot;</td><td>197</td></tr><tr><td>&quot;CatalogTreeNodeID&quot;</td><td>34870</td></tr><tr><td>&quot;SerialNumber&quot;</td><td>180</td></tr></tbody></table></div>"
      ],
      "text/plain": [
       "shape: (5, 2)\n",
       "┌───────────────────┬──────────┐\n",
       "│ column            ┆ n_unique │\n",
       "│ ---               ┆ ---      │\n",
       "│ str               ┆ i64      │\n",
       "╞═══════════════════╪══════════╡\n",
       "│ VinLockCacheID    ┆ 66052    │\n",
       "│ IsExternal        ┆ 2        │\n",
       "│ CreationDate      ┆ 197      │\n",
       "│ CatalogTreeNodeID ┆ 34870    │\n",
       "│ SerialNumber      ┆ 180      │\n",
       "└───────────────────┴──────────┘"
      ]
     },
     "execution_count": 42,
     "metadata": {},
     "output_type": "execute_result"
    }
   ],
   "source": [
    "pl.DataFrame({\n",
    "    \"column\": v.columns,\n",
    "    \"n_unique\": [v[col].n_unique() for col in v.columns]\n",
    "})"
   ]
  },
  {
   "cell_type": "code",
   "execution_count": 47,
   "id": "e2c25a5f",
   "metadata": {},
   "outputs": [
    {
     "data": {
      "text/html": [
       "<div><style>\n",
       ".dataframe > thead > tr,\n",
       ".dataframe > tbody > tr {\n",
       "  text-align: right;\n",
       "  white-space: pre-wrap;\n",
       "}\n",
       "</style>\n",
       "<small>shape: (1_039_625, 8)</small><table border=\"1\" class=\"dataframe\"><thead><tr><th>ProductionUnitID</th><th>ManufactureDate</th><th>EngineNumber</th><th>PrimaryBuildCode</th><th>RetailDealerAccount</th><th>SalesModel</th><th>SerialNumber</th><th>OwnershipGroupID</th></tr><tr><td>str</td><td>str</td><td>str</td><td>i64</td><td>f64</td><td>str</td><td>i64</td><td>str</td></tr></thead><tbody><tr><td>&quot;01CBB733-192E-4CF9-A9B8-000011…</td><td>&quot;2014-06-26&quot;</td><td>&quot;000000004334301420&nbsp;&nbsp;&quot;</td><td>8601</td><td>6006.0</td><td>&quot;155 T4&quot;</td><td>2201439</td><td>&quot;E93C6831-E861-4D20-93C0-37D88E…</td></tr><tr><td>&quot;3F4D21D2-F442-477A-B656-000012…</td><td>&quot;2000-12-22&quot;</td><td>&quot;KR50682U947026G&nbsp;&nbsp;&nbsp;&nbsp;&nbsp;&quot;</td><td>8902</td><td>null</td><td>&quot;JCB 1CX&quot;</td><td>807250</td><td>&quot;E93C6831-E861-4D20-93C0-37D88E…</td></tr><tr><td>&quot;86B4180C-65DA-41A6-9347-000020…</td><td>&quot;2013-04-23&quot;</td><td>&quot;S1N030614&nbsp;&nbsp;&nbsp;&nbsp;&nbsp;&nbsp;&nbsp;&nbsp;&nbsp;&nbsp;&nbsp;&quot;</td><td>2952</td><td>8330.0</td><td>&quot;3C 4CM BR&quot;</td><td>2276814</td><td>&quot;E93C6831-E861-4D20-93C0-37D88E…</td></tr><tr><td>&quot;82516147-E3E0-4583-B594-00002E…</td><td>&quot;2005-11-22&quot;</td><td>&quot;SB40063U0875905&nbsp;&nbsp;&nbsp;&nbsp;&nbsp;&quot;</td><td>2199</td><td>null</td><td>&quot;4CX4WSSMPC&quot;</td><td>966370</td><td>&quot;E93C6831-E861-4D20-93C0-37D88E…</td></tr><tr><td>&quot;C258DB20-9268-4CD9-A2BF-000030…</td><td>&quot;2014-01-28&quot;</td><td>&quot;GJ71067U1457066Y&nbsp;&nbsp;&nbsp;&nbsp;&quot;</td><td>8062</td><td>6853.0</td><td>&quot;8018 CTS&quot;</td><td>2333032</td><td>&quot;E93C6831-E861-4D20-93C0-37D88E…</td></tr><tr><td>&hellip;</td><td>&hellip;</td><td>&hellip;</td><td>&hellip;</td><td>&hellip;</td><td>&hellip;</td><td>&hellip;</td><td>&hellip;</td></tr><tr><td>&quot;B295D907-765B-4F43-ABA3-FFFFC3…</td><td>&quot;2003-06-16&quot;</td><td>&quot;6BG1T-156186&nbsp;&nbsp;&nbsp;&nbsp;&nbsp;&nbsp;&nbsp;&nbsp;&quot;</td><td>9626</td><td>1005.0</td><td>&quot;JS220LC&quot;</td><td>1018086</td><td>&quot;E93C6831-E861-4D20-93C0-37D88E…</td></tr><tr><td>&quot;3A08CC70-3897-4B2F-AF7D-FFFFC3…</td><td>&quot;2015-11-27&quot;</td><td>&quot;H00100805&nbsp;&nbsp;&nbsp;&nbsp;&nbsp;&nbsp;&nbsp;&nbsp;&nbsp;&nbsp;&nbsp;&quot;</td><td>2985</td><td>8593.0</td><td>&quot;3DXS I&quot;</td><td>1607694</td><td>&quot;E93C6831-E861-4D20-93C0-37D88E…</td></tr><tr><td>&quot;40D254D5-7C97-4C73-9F78-FFFFC4…</td><td>&quot;2015-02-23&quot;</td><td>&quot;GTJ65691U164491A&nbsp;&nbsp;&nbsp;&nbsp;&quot;</td><td>8058</td><td>8368.0</td><td>&quot;8018 CTS&quot;</td><td>2334764</td><td>&quot;E93C6831-E861-4D20-93C0-37D88E…</td></tr><tr><td>&quot;EDDDA1A6-535F-4592-A0D3-FFFFD7…</td><td>&quot;2016-02-18&quot;</td><td>&quot;GJ65691U171916B&nbsp;&nbsp;&nbsp;&nbsp;&nbsp;&quot;</td><td>8421</td><td>4193.0</td><td>&quot;8020 CTS&quot;</td><td>2075627</td><td>&quot;E93C6831-E861-4D20-93C0-37D88E…</td></tr><tr><td>&quot;1CD831F5-7445-4CD9-9692-FFFFEE…</td><td>&quot;1994-01-17&quot;</td><td>&quot;AA50460U635493X&nbsp;&nbsp;&nbsp;&nbsp;&nbsp;&quot;</td><td>null</td><td>1012.0</td><td>&quot;520-55RS&nbsp;&nbsp;&quot;</td><td>277243</td><td>&quot;E93C6831-E861-4D20-93C0-37D88E…</td></tr></tbody></table></div>"
      ],
      "text/plain": [
       "shape: (1_039_625, 8)\n",
       "┌────────────┬────────────┬────────────┬───────────┬───────────┬───────────┬───────────┬───────────┐\n",
       "│ Production ┆ Manufactur ┆ EngineNumb ┆ PrimaryBu ┆ RetailDea ┆ SalesMode ┆ SerialNum ┆ Ownership │\n",
       "│ UnitID     ┆ eDate      ┆ er         ┆ ildCode   ┆ lerAccoun ┆ l         ┆ ber       ┆ GroupID   │\n",
       "│ ---        ┆ ---        ┆ ---        ┆ ---       ┆ t         ┆ ---       ┆ ---       ┆ ---       │\n",
       "│ str        ┆ str        ┆ str        ┆ i64       ┆ ---       ┆ str       ┆ i64       ┆ str       │\n",
       "│            ┆            ┆            ┆           ┆ f64       ┆           ┆           ┆           │\n",
       "╞════════════╪════════════╪════════════╪═══════════╪═══════════╪═══════════╪═══════════╪═══════════╡\n",
       "│ 01CBB733-1 ┆ 2014-06-26 ┆ 0000000043 ┆ 8601      ┆ 6006.0    ┆ 155 T4    ┆ 2201439   ┆ E93C6831- │\n",
       "│ 92E-4CF9-A ┆            ┆ 34301420   ┆           ┆           ┆           ┆           ┆ E861-4D20 │\n",
       "│ 9B8-000011 ┆            ┆            ┆           ┆           ┆           ┆           ┆ -93C0-37D │\n",
       "│ …          ┆            ┆            ┆           ┆           ┆           ┆           ┆ 88E…      │\n",
       "│ 3F4D21D2-F ┆ 2000-12-22 ┆ KR50682U94 ┆ 8902      ┆ null      ┆ JCB 1CX   ┆ 807250    ┆ E93C6831- │\n",
       "│ 442-477A-B ┆            ┆ 7026G      ┆           ┆           ┆           ┆           ┆ E861-4D20 │\n",
       "│ 656-000012 ┆            ┆            ┆           ┆           ┆           ┆           ┆ -93C0-37D │\n",
       "│ …          ┆            ┆            ┆           ┆           ┆           ┆           ┆ 88E…      │\n",
       "│ 86B4180C-6 ┆ 2013-04-23 ┆ S1N030614  ┆ 2952      ┆ 8330.0    ┆ 3C 4CM BR ┆ 2276814   ┆ E93C6831- │\n",
       "│ 5DA-41A6-9 ┆            ┆            ┆           ┆           ┆           ┆           ┆ E861-4D20 │\n",
       "│ 347-000020 ┆            ┆            ┆           ┆           ┆           ┆           ┆ -93C0-37D │\n",
       "│ …          ┆            ┆            ┆           ┆           ┆           ┆           ┆ 88E…      │\n",
       "│ 82516147-E ┆ 2005-11-22 ┆ SB40063U08 ┆ 2199      ┆ null      ┆ 4CX4WSSMP ┆ 966370    ┆ E93C6831- │\n",
       "│ 3E0-4583-B ┆            ┆ 75905      ┆           ┆           ┆ C         ┆           ┆ E861-4D20 │\n",
       "│ 594-00002E ┆            ┆            ┆           ┆           ┆           ┆           ┆ -93C0-37D │\n",
       "│ …          ┆            ┆            ┆           ┆           ┆           ┆           ┆ 88E…      │\n",
       "│ C258DB20-9 ┆ 2014-01-28 ┆ GJ71067U14 ┆ 8062      ┆ 6853.0    ┆ 8018 CTS  ┆ 2333032   ┆ E93C6831- │\n",
       "│ 268-4CD9-A ┆            ┆ 57066Y     ┆           ┆           ┆           ┆           ┆ E861-4D20 │\n",
       "│ 2BF-000030 ┆            ┆            ┆           ┆           ┆           ┆           ┆ -93C0-37D │\n",
       "│ …          ┆            ┆            ┆           ┆           ┆           ┆           ┆ 88E…      │\n",
       "│ …          ┆ …          ┆ …          ┆ …         ┆ …         ┆ …         ┆ …         ┆ …         │\n",
       "│ B295D907-7 ┆ 2003-06-16 ┆ 6BG1T-1561 ┆ 9626      ┆ 1005.0    ┆ JS220LC   ┆ 1018086   ┆ E93C6831- │\n",
       "│ 65B-4F43-A ┆            ┆ 86         ┆           ┆           ┆           ┆           ┆ E861-4D20 │\n",
       "│ BA3-FFFFC3 ┆            ┆            ┆           ┆           ┆           ┆           ┆ -93C0-37D │\n",
       "│ …          ┆            ┆            ┆           ┆           ┆           ┆           ┆ 88E…      │\n",
       "│ 3A08CC70-3 ┆ 2015-11-27 ┆ H00100805  ┆ 2985      ┆ 8593.0    ┆ 3DXS I    ┆ 1607694   ┆ E93C6831- │\n",
       "│ 897-4B2F-A ┆            ┆            ┆           ┆           ┆           ┆           ┆ E861-4D20 │\n",
       "│ F7D-FFFFC3 ┆            ┆            ┆           ┆           ┆           ┆           ┆ -93C0-37D │\n",
       "│ …          ┆            ┆            ┆           ┆           ┆           ┆           ┆ 88E…      │\n",
       "│ 40D254D5-7 ┆ 2015-02-23 ┆ GTJ65691U1 ┆ 8058      ┆ 8368.0    ┆ 8018 CTS  ┆ 2334764   ┆ E93C6831- │\n",
       "│ C97-4C73-9 ┆            ┆ 64491A     ┆           ┆           ┆           ┆           ┆ E861-4D20 │\n",
       "│ F78-FFFFC4 ┆            ┆            ┆           ┆           ┆           ┆           ┆ -93C0-37D │\n",
       "│ …          ┆            ┆            ┆           ┆           ┆           ┆           ┆ 88E…      │\n",
       "│ EDDDA1A6-5 ┆ 2016-02-18 ┆ GJ65691U17 ┆ 8421      ┆ 4193.0    ┆ 8020 CTS  ┆ 2075627   ┆ E93C6831- │\n",
       "│ 35F-4592-A ┆            ┆ 1916B      ┆           ┆           ┆           ┆           ┆ E861-4D20 │\n",
       "│ 0D3-FFFFD7 ┆            ┆            ┆           ┆           ┆           ┆           ┆ -93C0-37D │\n",
       "│ …          ┆            ┆            ┆           ┆           ┆           ┆           ┆ 88E…      │\n",
       "│ 1CD831F5-7 ┆ 1994-01-17 ┆ AA50460U63 ┆ null      ┆ 1012.0    ┆ 520-55RS  ┆ 277243    ┆ E93C6831- │\n",
       "│ 445-4CD9-9 ┆            ┆ 5493X      ┆           ┆           ┆           ┆           ┆ E861-4D20 │\n",
       "│ 692-FFFFEE ┆            ┆            ┆           ┆           ┆           ┆           ┆ -93C0-37D │\n",
       "│ …          ┆            ┆            ┆           ┆           ┆           ┆           ┆ 88E…      │\n",
       "└────────────┴────────────┴────────────┴───────────┴───────────┴───────────┴───────────┴───────────┘"
      ]
     },
     "execution_count": 47,
     "metadata": {},
     "output_type": "execute_result"
    }
   ],
   "source": [
    "p"
   ]
  },
  {
   "cell_type": "code",
   "execution_count": 48,
   "id": "7b69fddc",
   "metadata": {},
   "outputs": [
    {
     "data": {
      "text/html": [
       "<div><style>\n",
       ".dataframe > thead > tr,\n",
       ".dataframe > tbody > tr {\n",
       "  text-align: right;\n",
       "  white-space: pre-wrap;\n",
       "}\n",
       "</style>\n",
       "<small>shape: (8, 2)</small><table border=\"1\" class=\"dataframe\"><thead><tr><th>column</th><th>n_unique</th></tr><tr><td>str</td><td>i64</td></tr></thead><tbody><tr><td>&quot;ProductionUnitID&quot;</td><td>1039625</td></tr><tr><td>&quot;ManufactureDate&quot;</td><td>16040</td></tr><tr><td>&quot;EngineNumber&quot;</td><td>1018502</td></tr><tr><td>&quot;PrimaryBuildCode&quot;</td><td>3474</td></tr><tr><td>&quot;RetailDealerAccount&quot;</td><td>2711</td></tr><tr><td>&quot;SalesModel&quot;</td><td>1926</td></tr><tr><td>&quot;SerialNumber&quot;</td><td>1037318</td></tr><tr><td>&quot;OwnershipGroupID&quot;</td><td>2</td></tr></tbody></table></div>"
      ],
      "text/plain": [
       "shape: (8, 2)\n",
       "┌─────────────────────┬──────────┐\n",
       "│ column              ┆ n_unique │\n",
       "│ ---                 ┆ ---      │\n",
       "│ str                 ┆ i64      │\n",
       "╞═════════════════════╪══════════╡\n",
       "│ ProductionUnitID    ┆ 1039625  │\n",
       "│ ManufactureDate     ┆ 16040    │\n",
       "│ EngineNumber        ┆ 1018502  │\n",
       "│ PrimaryBuildCode    ┆ 3474     │\n",
       "│ RetailDealerAccount ┆ 2711     │\n",
       "│ SalesModel          ┆ 1926     │\n",
       "│ SerialNumber        ┆ 1037318  │\n",
       "│ OwnershipGroupID    ┆ 2        │\n",
       "└─────────────────────┴──────────┘"
      ]
     },
     "execution_count": 48,
     "metadata": {},
     "output_type": "execute_result"
    }
   ],
   "source": [
    "pl.DataFrame({\n",
    "    \"column\": p.columns,\n",
    "    \"n_unique\": [p[col].n_unique() for col in p.columns]\n",
    "})"
   ]
  },
  {
   "cell_type": "code",
   "execution_count": null,
   "id": "25b7cd8d",
   "metadata": {},
   "outputs": [],
   "source": [
    "# cat.join() \n",
    "# v\n",
    "p = p.with_columns(\n",
    "    pl.col(\"SalesModel\").str.strip_chars().alias(\"SalesModel\")\n",
    ")"
   ]
  },
  {
   "cell_type": "code",
   "execution_count": 50,
   "id": "d961b311",
   "metadata": {},
   "outputs": [],
   "source": [
    "m = m.with_columns(\n",
    "    pl.col(\"Number\").str.strip_chars().alias(\"Number\")\n",
    ")"
   ]
  },
  {
   "cell_type": "code",
   "execution_count": 51,
   "id": "24bfb372",
   "metadata": {},
   "outputs": [],
   "source": [
    "pm = p.join(m, left_on=\"SalesModel\", right_on=\"Number\")"
   ]
  },
  {
   "cell_type": "code",
   "execution_count": 53,
   "id": "bc689357",
   "metadata": {},
   "outputs": [],
   "source": [
    "pm = pm.drop([\"ProductionUnitID\",\"ManufactureDate\",\"PrimaryBuildCode\",\"RetailDealerAccount\",\"OwnershipGroupID\",\"Description\",\"Name\",\"OwnershipGroupID_right\"])"
   ]
  },
  {
   "cell_type": "code",
   "execution_count": 55,
   "id": "edde5f9c",
   "metadata": {},
   "outputs": [],
   "source": [
    "pm = pm.with_columns(\n",
    "    pl.col(\"EngineNumber\").str.strip_chars().alias(\"EngineNumber\")\n",
    ")"
   ]
  },
  {
   "cell_type": "code",
   "execution_count": 57,
   "id": "242517cb",
   "metadata": {},
   "outputs": [],
   "source": [
    "pm = pm.unique()"
   ]
  },
  {
   "cell_type": "code",
   "execution_count": 58,
   "id": "852e081f",
   "metadata": {},
   "outputs": [
    {
     "data": {
      "text/html": [
       "<div><style>\n",
       ".dataframe > thead > tr,\n",
       ".dataframe > tbody > tr {\n",
       "  text-align: right;\n",
       "  white-space: pre-wrap;\n",
       "}\n",
       "</style>\n",
       "<small>shape: (978_906, 4)</small><table border=\"1\" class=\"dataframe\"><thead><tr><th>EngineNumber</th><th>SalesModel</th><th>SerialNumber</th><th>ModelID</th></tr><tr><td>str</td><td>str</td><td>i64</td><td>str</td></tr></thead><tbody><tr><td>&quot;SB40066U1863306&quot;</td><td>&quot;4CXSMAPC&quot;</td><td>975732</td><td>&quot;17C7A7A1-9B5D-48B9-9C7C-6F6D63…</td></tr><tr><td>&quot;AR50672U004131D&quot;</td><td>&quot;506C&quot;</td><td>585573</td><td>&quot;A0142B30-3810-47E0-8689-737073…</td></tr><tr><td>&quot;SD320/40551U0129616&quot;</td><td>&quot;3CX 14M3WE&quot;</td><td>2445372</td><td>&quot;B4DD0ED8-7BE7-4D7B-99FC-5F1984…</td></tr><tr><td>&quot;RE38060U305137N&quot;</td><td>&quot;JCB 1110&quot;</td><td>889606</td><td>&quot;2E368DC0-CA01-4D20-AEA6-FF1E03…</td></tr><tr><td>&quot;AB50444U625120X&quot;</td><td>&quot;530-120TU&quot;</td><td>570218</td><td>&quot;60B96D4F-28F9-40E6-A418-15161A…</td></tr><tr><td>&hellip;</td><td>&hellip;</td><td>&hellip;</td><td>&hellip;</td></tr><tr><td>&quot;SD320/40347U0639411&quot;</td><td>&quot;3CXSM 4T&quot;</td><td>2006646</td><td>&quot;80736886-D672-4BF5-84C4-B85237…</td></tr><tr><td>&quot;HH51305U190623N&quot;</td><td>&quot;8018X&quot;</td><td>1047563</td><td>&quot;C68F0134-71F4-450A-8783-5EC6FD…</td></tr><tr><td>&quot;4H.2295/1120782&quot;</td><td>&quot;3DX&quot;</td><td>1723108</td><td>&quot;1A08FB44-B05C-4AD0-B6E1-98FA89…</td></tr><tr><td>&quot;63136739&quot;</td><td>&quot;JS200L&quot;</td><td>1772723</td><td>&quot;FF3B0CE4-F3E1-4FD5-9853-9244E2…</td></tr><tr><td>&quot;LJ50223U/126288N&quot;</td><td>&quot;3CXTM-4&quot;</td><td>325195</td><td>&quot;C7F8E04D-7775-43C9-89C4-B21EB8…</td></tr></tbody></table></div>"
      ],
      "text/plain": [
       "shape: (978_906, 4)\n",
       "┌─────────────────────┬────────────┬──────────────┬─────────────────────────────────┐\n",
       "│ EngineNumber        ┆ SalesModel ┆ SerialNumber ┆ ModelID                         │\n",
       "│ ---                 ┆ ---        ┆ ---          ┆ ---                             │\n",
       "│ str                 ┆ str        ┆ i64          ┆ str                             │\n",
       "╞═════════════════════╪════════════╪══════════════╪═════════════════════════════════╡\n",
       "│ SB40066U1863306     ┆ 4CXSMAPC   ┆ 975732       ┆ 17C7A7A1-9B5D-48B9-9C7C-6F6D63… │\n",
       "│ AR50672U004131D     ┆ 506C       ┆ 585573       ┆ A0142B30-3810-47E0-8689-737073… │\n",
       "│ SD320/40551U0129616 ┆ 3CX 14M3WE ┆ 2445372      ┆ B4DD0ED8-7BE7-4D7B-99FC-5F1984… │\n",
       "│ RE38060U305137N     ┆ JCB 1110   ┆ 889606       ┆ 2E368DC0-CA01-4D20-AEA6-FF1E03… │\n",
       "│ AB50444U625120X     ┆ 530-120TU  ┆ 570218       ┆ 60B96D4F-28F9-40E6-A418-15161A… │\n",
       "│ …                   ┆ …          ┆ …            ┆ …                               │\n",
       "│ SD320/40347U0639411 ┆ 3CXSM 4T   ┆ 2006646      ┆ 80736886-D672-4BF5-84C4-B85237… │\n",
       "│ HH51305U190623N     ┆ 8018X      ┆ 1047563      ┆ C68F0134-71F4-450A-8783-5EC6FD… │\n",
       "│ 4H.2295/1120782     ┆ 3DX        ┆ 1723108      ┆ 1A08FB44-B05C-4AD0-B6E1-98FA89… │\n",
       "│ 63136739            ┆ JS200L     ┆ 1772723      ┆ FF3B0CE4-F3E1-4FD5-9853-9244E2… │\n",
       "│ LJ50223U/126288N    ┆ 3CXTM-4    ┆ 325195       ┆ C7F8E04D-7775-43C9-89C4-B21EB8… │\n",
       "└─────────────────────┴────────────┴──────────────┴─────────────────────────────────┘"
      ]
     },
     "execution_count": 58,
     "metadata": {},
     "output_type": "execute_result"
    }
   ],
   "source": [
    "pm"
   ]
  },
  {
   "cell_type": "code",
   "execution_count": 60,
   "id": "17a21e64",
   "metadata": {},
   "outputs": [],
   "source": [
    "cv = cat.join(v, on=\"CatalogTreeNodeID\")"
   ]
  },
  {
   "cell_type": "code",
   "execution_count": 67,
   "id": "818fedb0",
   "metadata": {},
   "outputs": [],
   "source": [
    "spp = pl.read_csv(\"C:/Users/user/Desktop/ServicePartsPage.csv\")"
   ]
  },
  {
   "cell_type": "code",
   "execution_count": 68,
   "id": "9cb257e6",
   "metadata": {},
   "outputs": [
    {
     "data": {
      "text/html": [
       "<div><style>\n",
       ".dataframe > thead > tr,\n",
       ".dataframe > tbody > tr {\n",
       "  text-align: right;\n",
       "  white-space: pre-wrap;\n",
       "}\n",
       "</style>\n",
       "<small>shape: (271_287, 4)</small><table border=\"1\" class=\"dataframe\"><thead><tr><th>GenericServicePartsPageID</th><th>ServicePartsPageID</th><th>GeneralAssemblyID</th><th>Number</th></tr><tr><td>str</td><td>str</td><td>str</td><td>str</td></tr></thead><tbody><tr><td>&quot;7EB3D47F-B075-4AE8-888B-DCD1EB…</td><td>&quot;ABB91AA0-5987-4856-A4AC-000006…</td><td>&quot;NULL&quot;</td><td>&quot;B3-6-3&quot;</td></tr><tr><td>&quot;68BA7916-D81C-4E44-BAB2-9AFC56…</td><td>&quot;A2BA80C3-6350-493C-8C21-000020…</td><td>&quot;NULL&quot;</td><td>&quot;C360-90-1&quot;</td></tr><tr><td>&quot;1D94B2E8-58EF-4928-8B81-5932B7…</td><td>&quot;F3513433-E8C1-49A6-934A-00004D…</td><td>&quot;NULL&quot;</td><td>&quot;E190-9-1&quot;</td></tr><tr><td>&quot;A97A88EF-2A3D-4A12-AF1F-23D7D6…</td><td>&quot;425624E8-194A-48E4-8E79-0000AC…</td><td>&quot;NULL&quot;</td><td>&quot;G1-12-1&quot;</td></tr><tr><td>&quot;9659292A-BA12-4DDD-A151-DCB8DD…</td><td>&quot;73938B63-DBB1-4F21-8FFD-00019A…</td><td>&quot;NULL&quot;</td><td>&quot;E190-19-1&quot;</td></tr><tr><td>&hellip;</td><td>&hellip;</td><td>&hellip;</td><td>&hellip;</td></tr><tr><td>&quot;D0DAA602-B22A-46FE-B28E-D466EA…</td><td>&quot;4B134E08-499A-4B99-860D-FFFF28…</td><td>&quot;NULL&quot;</td><td>&quot;F3-20-1&quot;</td></tr><tr><td>&quot;E0CF80E1-B173-48A4-A078-6CB72E…</td><td>&quot;1FCD507B-4114-4C3A-8A8E-FFFF8E…</td><td>&quot;NULL&quot;</td><td>&quot;G1-17-1&quot;</td></tr><tr><td>&quot;EA526A7F-8622-432A-A74B-84B4B9…</td><td>&quot;E15974B3-41B9-4C83-AA3A-FFFFAE…</td><td>&quot;NULL&quot;</td><td>&quot;B190-11-5&quot;</td></tr><tr><td>&quot;CE77C85D-A31F-4A3B-83CD-010C5D…</td><td>&quot;4FCF68FF-426D-42B5-B0F0-FFFFFC…</td><td>&quot;NULL&quot;</td><td>&quot;B2-20-1&quot;</td></tr><tr><td>null</td><td>null</td><td>null</td><td>null</td></tr></tbody></table></div>"
      ],
      "text/plain": [
       "shape: (271_287, 4)\n",
       "┌─────────────────────────────────┬────────────────────────────────┬───────────────────┬───────────┐\n",
       "│ GenericServicePartsPageID       ┆ ServicePartsPageID             ┆ GeneralAssemblyID ┆ Number    │\n",
       "│ ---                             ┆ ---                            ┆ ---               ┆ ---       │\n",
       "│ str                             ┆ str                            ┆ str               ┆ str       │\n",
       "╞═════════════════════════════════╪════════════════════════════════╪═══════════════════╪═══════════╡\n",
       "│ 7EB3D47F-B075-4AE8-888B-DCD1EB… ┆ ABB91AA0-5987-4856-A4AC-000006 ┆ NULL              ┆ B3-6-3    │\n",
       "│                                 ┆ …                              ┆                   ┆           │\n",
       "│ 68BA7916-D81C-4E44-BAB2-9AFC56… ┆ A2BA80C3-6350-493C-8C21-000020 ┆ NULL              ┆ C360-90-1 │\n",
       "│                                 ┆ …                              ┆                   ┆           │\n",
       "│ 1D94B2E8-58EF-4928-8B81-5932B7… ┆ F3513433-E8C1-49A6-934A-00004D ┆ NULL              ┆ E190-9-1  │\n",
       "│                                 ┆ …                              ┆                   ┆           │\n",
       "│ A97A88EF-2A3D-4A12-AF1F-23D7D6… ┆ 425624E8-194A-48E4-8E79-0000AC ┆ NULL              ┆ G1-12-1   │\n",
       "│                                 ┆ …                              ┆                   ┆           │\n",
       "│ 9659292A-BA12-4DDD-A151-DCB8DD… ┆ 73938B63-DBB1-4F21-8FFD-00019A ┆ NULL              ┆ E190-19-1 │\n",
       "│                                 ┆ …                              ┆                   ┆           │\n",
       "│ …                               ┆ …                              ┆ …                 ┆ …         │\n",
       "│ D0DAA602-B22A-46FE-B28E-D466EA… ┆ 4B134E08-499A-4B99-860D-FFFF28 ┆ NULL              ┆ F3-20-1   │\n",
       "│                                 ┆ …                              ┆                   ┆           │\n",
       "│ E0CF80E1-B173-48A4-A078-6CB72E… ┆ 1FCD507B-4114-4C3A-8A8E-FFFF8E ┆ NULL              ┆ G1-17-1   │\n",
       "│                                 ┆ …                              ┆                   ┆           │\n",
       "│ EA526A7F-8622-432A-A74B-84B4B9… ┆ E15974B3-41B9-4C83-AA3A-FFFFAE ┆ NULL              ┆ B190-11-5 │\n",
       "│                                 ┆ …                              ┆                   ┆           │\n",
       "│ CE77C85D-A31F-4A3B-83CD-010C5D… ┆ 4FCF68FF-426D-42B5-B0F0-FFFFFC ┆ NULL              ┆ B2-20-1   │\n",
       "│                                 ┆ …                              ┆                   ┆           │\n",
       "│ null                            ┆ null                           ┆ null              ┆ null      │\n",
       "└─────────────────────────────────┴────────────────────────────────┴───────────────────┴───────────┘"
      ]
     },
     "execution_count": 68,
     "metadata": {},
     "output_type": "execute_result"
    }
   ],
   "source": [
    "spp"
   ]
  },
  {
   "cell_type": "code",
   "execution_count": 65,
   "id": "a9f4d398",
   "metadata": {},
   "outputs": [],
   "source": [
    "gspp = pl.read_csv(\"C:/Users/user/Desktop/GSPPJCB.csv\", truncate_ragged_lines=True)"
   ]
  },
  {
   "cell_type": "code",
   "execution_count": 66,
   "id": "dfb57bde",
   "metadata": {},
   "outputs": [
    {
     "data": {
      "text/html": [
       "<div><style>\n",
       ".dataframe > thead > tr,\n",
       ".dataframe > tbody > tr {\n",
       "  text-align: right;\n",
       "  white-space: pre-wrap;\n",
       "}\n",
       "</style>\n",
       "<small>shape: (209_174, 6)</small><table border=\"1\" class=\"dataframe\"><thead><tr><th>GenericServicePartsPageID</th><th>DrawingName</th><th>Number</th><th>BaseNumber</th><th>DrawingID</th><th>PINumberID</th></tr><tr><td>str</td><td>str</td><td>str</td><td>str</td><td>str</td><td>str</td></tr></thead><tbody><tr><td>&quot;33149EE3-4E5A-4962-812C-000059…</td><td>&quot;076913&quot;</td><td>&quot;A1-2-5&quot;</td><td>&quot;A1-2-5&quot;</td><td>&quot;E5AF2F9A-90D7-448B-8AFB-B3BC59…</td><td>&quot;NULL&quot;</td></tr><tr><td>&quot;40BA0D8F-8AFC-4CB6-8EF2-000078…</td><td>&quot;334-F4574-1&quot;</td><td>&quot;334/F4574 1&quot;</td><td>&quot;334/F4574 &quot;</td><td>&quot;A663092D-4FE1-477E-8510-057578…</td><td>&quot;88AA14D4-B7E0-4C65-8079-63C70A…</td></tr><tr><td>&quot;9ABD1C55-C83B-486F-A331-000090…</td><td>&quot;332-P6246-14&quot;</td><td>&quot;332/P6246 15&quot;</td><td>&quot;332/P6246 &quot;</td><td>&quot;NULL&quot;</td><td>&quot;AE228057-2123-4A3B-AB4C-E0802A…</td></tr><tr><td>&quot;8B32B25B-4268-450D-BD4F-0000CE…</td><td>&quot;334-S2137-1&quot;</td><td>&quot;334/S2137 1&quot;</td><td>&quot;334/S2137 &quot;</td><td>&quot;1EA3D0C1-6CA3-4F85-94FB-05EDD1…</td><td>&quot;A6741965-787B-4E4C-BA96-341E79…</td></tr><tr><td>&quot;EC5C68BE-5550-4852-86C2-0000EB…</td><td>&quot;307430&quot;</td><td>&quot;P6-6-2&quot;</td><td>&quot;P6-6-2&quot;</td><td>&quot;727BECFB-58D2-4D64-B463-ACFD22…</td><td>&quot;NULL&quot;</td></tr><tr><td>&hellip;</td><td>&hellip;</td><td>&hellip;</td><td>&hellip;</td><td>&hellip;</td><td>&hellip;</td></tr><tr><td>&quot;D66CF6D5-3019-407C-8E19-FFFDC4…</td><td>&quot;376741&quot;</td><td>&quot;B2-32-1&quot;</td><td>&quot;B2-32-1&quot;</td><td>&quot;D42D9181-D91A-478C-BC8D-FB9E2B…</td><td>&quot;NULL&quot;</td></tr><tr><td>&quot;F04130ED-E26B-4FA3-B17B-FFFE22…</td><td>&quot;332-G8061-4&quot;</td><td>&quot;332/G8061 4&quot;</td><td>&quot;332/G8061 &quot;</td><td>&quot;B7EB68A1-1ADF-405A-A399-A88C40…</td><td>&quot;FC6AC26F-B07B-4EEC-8AAF-CCABD3…</td></tr><tr><td>&quot;73892816-A6A0-4B8C-A058-FFFE47…</td><td>&quot;093140&quot;</td><td>&quot;E1-6-2&quot;</td><td>&quot;E1-6-2&quot;</td><td>&quot;9843B757-733C-4191-9BCD-92D160…</td><td>&quot;NULL&quot;</td></tr><tr><td>&quot;74C722AD-B524-48B0-90EC-FFFE48…</td><td>&quot;313140&quot;</td><td>&quot;H1-2-2&quot;</td><td>&quot;H1-2-2&quot;</td><td>&quot;04DCE656-D92F-4E2D-B2BD-8DBC6B…</td><td>&quot;NULL&quot;</td></tr><tr><td>&quot;529C6EDD-2A79-48C2-BC6F-FFFE4C…</td><td>&quot;290891&quot;</td><td>&quot;F6-5-31&quot;</td><td>&quot;F6-5-31&quot;</td><td>&quot;03B32D8B-F15B-4355-B99D-51531B…</td><td>&quot;NULL&quot;</td></tr></tbody></table></div>"
      ],
      "text/plain": [
       "shape: (209_174, 6)\n",
       "┌──────────────────┬──────────────┬──────────────┬────────────┬──────────────────┬─────────────────┐\n",
       "│ GenericServicePa ┆ DrawingName  ┆ Number       ┆ BaseNumber ┆ DrawingID        ┆ PINumberID      │\n",
       "│ rtsPageID        ┆ ---          ┆ ---          ┆ ---        ┆ ---              ┆ ---             │\n",
       "│ ---              ┆ str          ┆ str          ┆ str        ┆ str              ┆ str             │\n",
       "│ str              ┆              ┆              ┆            ┆                  ┆                 │\n",
       "╞══════════════════╪══════════════╪══════════════╪════════════╪══════════════════╪═════════════════╡\n",
       "│ 33149EE3-4E5A-49 ┆ 076913       ┆ A1-2-5       ┆ A1-2-5     ┆ E5AF2F9A-90D7-44 ┆ NULL            │\n",
       "│ 62-812C-000059…  ┆              ┆              ┆            ┆ 8B-8AFB-B3BC59…  ┆                 │\n",
       "│ 40BA0D8F-8AFC-4C ┆ 334-F4574-1  ┆ 334/F4574 1  ┆ 334/F4574  ┆ A663092D-4FE1-47 ┆ 88AA14D4-B7E0-4 │\n",
       "│ B6-8EF2-000078…  ┆              ┆              ┆            ┆ 7E-8510-057578…  ┆ C65-8079-63C70A │\n",
       "│                  ┆              ┆              ┆            ┆                  ┆ …               │\n",
       "│ 9ABD1C55-C83B-48 ┆ 332-P6246-14 ┆ 332/P6246 15 ┆ 332/P6246  ┆ NULL             ┆ AE228057-2123-4 │\n",
       "│ 6F-A331-000090…  ┆              ┆              ┆            ┆                  ┆ A3B-AB4C-E0802A │\n",
       "│                  ┆              ┆              ┆            ┆                  ┆ …               │\n",
       "│ 8B32B25B-4268-45 ┆ 334-S2137-1  ┆ 334/S2137 1  ┆ 334/S2137  ┆ 1EA3D0C1-6CA3-4F ┆ A6741965-787B-4 │\n",
       "│ 0D-BD4F-0000CE…  ┆              ┆              ┆            ┆ 85-94FB-05EDD1…  ┆ E4C-BA96-341E79 │\n",
       "│                  ┆              ┆              ┆            ┆                  ┆ …               │\n",
       "│ EC5C68BE-5550-48 ┆ 307430       ┆ P6-6-2       ┆ P6-6-2     ┆ 727BECFB-58D2-4D ┆ NULL            │\n",
       "│ 52-86C2-0000EB…  ┆              ┆              ┆            ┆ 64-B463-ACFD22…  ┆                 │\n",
       "│ …                ┆ …            ┆ …            ┆ …          ┆ …                ┆ …               │\n",
       "│ D66CF6D5-3019-40 ┆ 376741       ┆ B2-32-1      ┆ B2-32-1    ┆ D42D9181-D91A-47 ┆ NULL            │\n",
       "│ 7C-8E19-FFFDC4…  ┆              ┆              ┆            ┆ 8C-BC8D-FB9E2B…  ┆                 │\n",
       "│ F04130ED-E26B-4F ┆ 332-G8061-4  ┆ 332/G8061 4  ┆ 332/G8061  ┆ B7EB68A1-1ADF-40 ┆ FC6AC26F-B07B-4 │\n",
       "│ A3-B17B-FFFE22…  ┆              ┆              ┆            ┆ 5A-A399-A88C40…  ┆ EEC-8AAF-CCABD3 │\n",
       "│                  ┆              ┆              ┆            ┆                  ┆ …               │\n",
       "│ 73892816-A6A0-4B ┆ 093140       ┆ E1-6-2       ┆ E1-6-2     ┆ 9843B757-733C-41 ┆ NULL            │\n",
       "│ 8C-A058-FFFE47…  ┆              ┆              ┆            ┆ 91-9BCD-92D160…  ┆                 │\n",
       "│ 74C722AD-B524-48 ┆ 313140       ┆ H1-2-2       ┆ H1-2-2     ┆ 04DCE656-D92F-4E ┆ NULL            │\n",
       "│ B0-90EC-FFFE48…  ┆              ┆              ┆            ┆ 2D-B2BD-8DBC6B…  ┆                 │\n",
       "│ 529C6EDD-2A79-48 ┆ 290891       ┆ F6-5-31      ┆ F6-5-31    ┆ 03B32D8B-F15B-43 ┆ NULL            │\n",
       "│ C2-BC6F-FFFE4C…  ┆              ┆              ┆            ┆ 55-B99D-51531B…  ┆                 │\n",
       "└──────────────────┴──────────────┴──────────────┴────────────┴──────────────────┴─────────────────┘"
      ]
     },
     "execution_count": 66,
     "metadata": {},
     "output_type": "execute_result"
    }
   ],
   "source": [
    "gspp"
   ]
  },
  {
   "cell_type": "code",
   "execution_count": 69,
   "id": "a2bc1d35",
   "metadata": {},
   "outputs": [
    {
     "data": {
      "text/html": [
       "<div><style>\n",
       ".dataframe > thead > tr,\n",
       ".dataframe > tbody > tr {\n",
       "  text-align: right;\n",
       "  white-space: pre-wrap;\n",
       "}\n",
       "</style>\n",
       "<small>shape: (6, 2)</small><table border=\"1\" class=\"dataframe\"><thead><tr><th>column</th><th>n_unique</th></tr><tr><td>str</td><td>i64</td></tr></thead><tbody><tr><td>&quot;GenericServicePartsPageID&quot;</td><td>209174</td></tr><tr><td>&quot;DrawingName&quot;</td><td>84487</td></tr><tr><td>&quot;Number&quot;</td><td>87285</td></tr><tr><td>&quot;BaseNumber&quot;</td><td>73926</td></tr><tr><td>&quot;DrawingID&quot;</td><td>66689</td></tr><tr><td>&quot;PINumberID&quot;</td><td>20685</td></tr></tbody></table></div>"
      ],
      "text/plain": [
       "shape: (6, 2)\n",
       "┌───────────────────────────┬──────────┐\n",
       "│ column                    ┆ n_unique │\n",
       "│ ---                       ┆ ---      │\n",
       "│ str                       ┆ i64      │\n",
       "╞═══════════════════════════╪══════════╡\n",
       "│ GenericServicePartsPageID ┆ 209174   │\n",
       "│ DrawingName               ┆ 84487    │\n",
       "│ Number                    ┆ 87285    │\n",
       "│ BaseNumber                ┆ 73926    │\n",
       "│ DrawingID                 ┆ 66689    │\n",
       "│ PINumberID                ┆ 20685    │\n",
       "└───────────────────────────┴──────────┘"
      ]
     },
     "execution_count": 69,
     "metadata": {},
     "output_type": "execute_result"
    }
   ],
   "source": [
    "pl.DataFrame({\n",
    "    \"column\": gspp.columns,\n",
    "    \"n_unique\": [gspp[col].n_unique() for col in gspp.columns]\n",
    "})"
   ]
  },
  {
   "cell_type": "code",
   "execution_count": 70,
   "id": "d0c7b7e3",
   "metadata": {},
   "outputs": [
    {
     "data": {
      "text/html": [
       "<div><style>\n",
       ".dataframe > thead > tr,\n",
       ".dataframe > tbody > tr {\n",
       "  text-align: right;\n",
       "  white-space: pre-wrap;\n",
       "}\n",
       "</style>\n",
       "<small>shape: (4, 2)</small><table border=\"1\" class=\"dataframe\"><thead><tr><th>column</th><th>n_unique</th></tr><tr><td>str</td><td>i64</td></tr></thead><tbody><tr><td>&quot;GenericServicePartsPageID&quot;</td><td>209175</td></tr><tr><td>&quot;ServicePartsPageID&quot;</td><td>271287</td></tr><tr><td>&quot;GeneralAssemblyID&quot;</td><td>2</td></tr><tr><td>&quot;Number&quot;</td><td>44240</td></tr></tbody></table></div>"
      ],
      "text/plain": [
       "shape: (4, 2)\n",
       "┌───────────────────────────┬──────────┐\n",
       "│ column                    ┆ n_unique │\n",
       "│ ---                       ┆ ---      │\n",
       "│ str                       ┆ i64      │\n",
       "╞═══════════════════════════╪══════════╡\n",
       "│ GenericServicePartsPageID ┆ 209175   │\n",
       "│ ServicePartsPageID        ┆ 271287   │\n",
       "│ GeneralAssemblyID         ┆ 2        │\n",
       "│ Number                    ┆ 44240    │\n",
       "└───────────────────────────┴──────────┘"
      ]
     },
     "execution_count": 70,
     "metadata": {},
     "output_type": "execute_result"
    }
   ],
   "source": [
    "pl.DataFrame({\n",
    "    \"column\": spp.columns,\n",
    "    \"n_unique\": [spp[col].n_unique() for col in spp.columns]\n",
    "})"
   ]
  },
  {
   "cell_type": "code",
   "execution_count": 71,
   "id": "4a287587",
   "metadata": {},
   "outputs": [],
   "source": [
    "gsppspp = gspp.join(spp, on=\"GenericServicePartsPageID\")"
   ]
  },
  {
   "cell_type": "code",
   "execution_count": 77,
   "id": "1e63b297",
   "metadata": {},
   "outputs": [],
   "source": [
    "gsppspp = gsppspp.with_columns(\n",
    "    pl.col(\"Number_right\").str.strip_chars().alias(\"Number_right\")\n",
    ")"
   ]
  },
  {
   "cell_type": "code",
   "execution_count": 80,
   "id": "c70100b1",
   "metadata": {},
   "outputs": [],
   "source": [
    "gsppspp = gsppspp.drop([\"GenericServicePartsPageID\",\"DrawingID\",\"PINumberID\",\"GeneralAssemblyID\"])"
   ]
  },
  {
   "cell_type": "code",
   "execution_count": 81,
   "id": "dcf708de",
   "metadata": {},
   "outputs": [
    {
     "data": {
      "text/html": [
       "<div><style>\n",
       ".dataframe > thead > tr,\n",
       ".dataframe > tbody > tr {\n",
       "  text-align: right;\n",
       "  white-space: pre-wrap;\n",
       "}\n",
       "</style>\n",
       "<small>shape: (271_286, 5)</small><table border=\"1\" class=\"dataframe\"><thead><tr><th>DrawingName</th><th>Number</th><th>BaseNumber</th><th>ServicePartsPageID</th><th>Number_right</th></tr><tr><td>str</td><td>str</td><td>str</td><td>str</td><td>str</td></tr></thead><tbody><tr><td>&quot;132221&quot;</td><td>&quot;B3-6-3&quot;</td><td>&quot;B3-6-3&quot;</td><td>&quot;ABB91AA0-5987-4856-A4AC-000006…</td><td>&quot;B3-6-3&quot;</td></tr><tr><td>&quot;333-E5264-2&quot;</td><td>&quot;333/E5264 2&quot;</td><td>&quot;333/E5264&quot;</td><td>&quot;A2BA80C3-6350-493C-8C21-000020…</td><td>&quot;C360-90-1&quot;</td></tr><tr><td>&quot;333-R3291-1&quot;</td><td>&quot;333/R3291 1&quot;</td><td>&quot;333/R3291&quot;</td><td>&quot;F3513433-E8C1-49A6-934A-00004D…</td><td>&quot;E190-9-1&quot;</td></tr><tr><td>&quot;158302&quot;</td><td>&quot;G1-12-1&quot;</td><td>&quot;G1-12-1&quot;</td><td>&quot;425624E8-194A-48E4-8E79-0000AC…</td><td>&quot;G1-12-1&quot;</td></tr><tr><td>&quot;333-S2378-1&quot;</td><td>&quot;333/S2378 1&quot;</td><td>&quot;333/S2378&quot;</td><td>&quot;73938B63-DBB1-4F21-8FFD-00019A…</td><td>&quot;E190-19-1&quot;</td></tr><tr><td>&hellip;</td><td>&hellip;</td><td>&hellip;</td><td>&hellip;</td><td>&hellip;</td></tr><tr><td>&quot;946460&quot;</td><td>&quot;C1-6-1&quot;</td><td>&quot;C1-6-1&quot;</td><td>&quot;034639E0-C94F-4ADE-89A5-FFFF24…</td><td>&quot;C1-6-1&quot;</td></tr><tr><td>&quot;097580&quot;</td><td>&quot;F3-20-1&quot;</td><td>&quot;F3-20-1&quot;</td><td>&quot;4B134E08-499A-4B99-860D-FFFF28…</td><td>&quot;F3-20-1&quot;</td></tr><tr><td>&quot;325760&quot;</td><td>&quot;G1-17-1&quot;</td><td>&quot;G1-17-1&quot;</td><td>&quot;1FCD507B-4114-4C3A-8A8E-FFFF8E…</td><td>&quot;G1-17-1&quot;</td></tr><tr><td>&quot;332-X6846-2&quot;</td><td>&quot;332/X6846 2&quot;</td><td>&quot;332/X6846&quot;</td><td>&quot;E15974B3-41B9-4C83-AA3A-FFFFAE…</td><td>&quot;B190-11-5&quot;</td></tr><tr><td>&quot;791101&quot;</td><td>&quot;269/40773-6&quot;</td><td>&quot;269/40773-6&quot;</td><td>&quot;4FCF68FF-426D-42B5-B0F0-FFFFFC…</td><td>&quot;B2-20-1&quot;</td></tr></tbody></table></div>"
      ],
      "text/plain": [
       "shape: (271_286, 5)\n",
       "┌─────────────┬─────────────┬─────────────┬─────────────────────────────────┬──────────────┐\n",
       "│ DrawingName ┆ Number      ┆ BaseNumber  ┆ ServicePartsPageID              ┆ Number_right │\n",
       "│ ---         ┆ ---         ┆ ---         ┆ ---                             ┆ ---          │\n",
       "│ str         ┆ str         ┆ str         ┆ str                             ┆ str          │\n",
       "╞═════════════╪═════════════╪═════════════╪═════════════════════════════════╪══════════════╡\n",
       "│ 132221      ┆ B3-6-3      ┆ B3-6-3      ┆ ABB91AA0-5987-4856-A4AC-000006… ┆ B3-6-3       │\n",
       "│ 333-E5264-2 ┆ 333/E5264 2 ┆ 333/E5264   ┆ A2BA80C3-6350-493C-8C21-000020… ┆ C360-90-1    │\n",
       "│ 333-R3291-1 ┆ 333/R3291 1 ┆ 333/R3291   ┆ F3513433-E8C1-49A6-934A-00004D… ┆ E190-9-1     │\n",
       "│ 158302      ┆ G1-12-1     ┆ G1-12-1     ┆ 425624E8-194A-48E4-8E79-0000AC… ┆ G1-12-1      │\n",
       "│ 333-S2378-1 ┆ 333/S2378 1 ┆ 333/S2378   ┆ 73938B63-DBB1-4F21-8FFD-00019A… ┆ E190-19-1    │\n",
       "│ …           ┆ …           ┆ …           ┆ …                               ┆ …            │\n",
       "│ 946460      ┆ C1-6-1      ┆ C1-6-1      ┆ 034639E0-C94F-4ADE-89A5-FFFF24… ┆ C1-6-1       │\n",
       "│ 097580      ┆ F3-20-1     ┆ F3-20-1     ┆ 4B134E08-499A-4B99-860D-FFFF28… ┆ F3-20-1      │\n",
       "│ 325760      ┆ G1-17-1     ┆ G1-17-1     ┆ 1FCD507B-4114-4C3A-8A8E-FFFF8E… ┆ G1-17-1      │\n",
       "│ 332-X6846-2 ┆ 332/X6846 2 ┆ 332/X6846   ┆ E15974B3-41B9-4C83-AA3A-FFFFAE… ┆ B190-11-5    │\n",
       "│ 791101      ┆ 269/40773-6 ┆ 269/40773-6 ┆ 4FCF68FF-426D-42B5-B0F0-FFFFFC… ┆ B2-20-1      │\n",
       "└─────────────┴─────────────┴─────────────┴─────────────────────────────────┴──────────────┘"
      ]
     },
     "execution_count": 81,
     "metadata": {},
     "output_type": "execute_result"
    }
   ],
   "source": [
    "gsppspp"
   ]
  },
  {
   "cell_type": "code",
   "execution_count": 86,
   "id": "1110b116",
   "metadata": {},
   "outputs": [
    {
     "data": {
      "text/html": [
       "<div><style>\n",
       ".dataframe > thead > tr,\n",
       ".dataframe > tbody > tr {\n",
       "  text-align: right;\n",
       "  white-space: pre-wrap;\n",
       "}\n",
       "</style>\n",
       "<small>shape: (65_206, 2)</small><table border=\"1\" class=\"dataframe\"><thead><tr><th>BaseObjectID</th><th>SerialNumber</th></tr><tr><td>str</td><td>i64</td></tr></thead><tbody><tr><td>&quot;15756873-1E22-4C3C-80EB-08AE52…</td><td>2272878</td></tr><tr><td>&quot;991DFEF9-AD9E-4EEA-BED6-FE7E8F…</td><td>1776728</td></tr><tr><td>&quot;EE4566BC-AD77-44BB-9B7A-112655…</td><td>2366268</td></tr><tr><td>&quot;7E46EB95-E066-4EDB-8BCA-C339D4…</td><td>2354503</td></tr><tr><td>&quot;7E46EB95-E066-4EDB-8BCA-C339D4…</td><td>2343582</td></tr><tr><td>&hellip;</td><td>&hellip;</td></tr><tr><td>&quot;39F5534E-40C7-4B00-9452-552441…</td><td>1419559</td></tr><tr><td>&quot;39F5534E-40C7-4B00-9452-552441…</td><td>1419495</td></tr><tr><td>&quot;493D6D8A-0373-48B8-A649-D11191…</td><td>1402924</td></tr><tr><td>&quot;493D6D8A-0373-48B8-A649-D11191…</td><td>1403045</td></tr><tr><td>&quot;4113D4C8-0BD4-4581-A211-4B007C…</td><td>2349656</td></tr></tbody></table></div>"
      ],
      "text/plain": [
       "shape: (65_206, 2)\n",
       "┌─────────────────────────────────┬──────────────┐\n",
       "│ BaseObjectID                    ┆ SerialNumber │\n",
       "│ ---                             ┆ ---          │\n",
       "│ str                             ┆ i64          │\n",
       "╞═════════════════════════════════╪══════════════╡\n",
       "│ 15756873-1E22-4C3C-80EB-08AE52… ┆ 2272878      │\n",
       "│ 991DFEF9-AD9E-4EEA-BED6-FE7E8F… ┆ 1776728      │\n",
       "│ EE4566BC-AD77-44BB-9B7A-112655… ┆ 2366268      │\n",
       "│ 7E46EB95-E066-4EDB-8BCA-C339D4… ┆ 2354503      │\n",
       "│ 7E46EB95-E066-4EDB-8BCA-C339D4… ┆ 2343582      │\n",
       "│ …                               ┆ …            │\n",
       "│ 39F5534E-40C7-4B00-9452-552441… ┆ 1419559      │\n",
       "│ 39F5534E-40C7-4B00-9452-552441… ┆ 1419495      │\n",
       "│ 493D6D8A-0373-48B8-A649-D11191… ┆ 1402924      │\n",
       "│ 493D6D8A-0373-48B8-A649-D11191… ┆ 1403045      │\n",
       "│ 4113D4C8-0BD4-4581-A211-4B007C… ┆ 2349656      │\n",
       "└─────────────────────────────────┴──────────────┘"
      ]
     },
     "execution_count": 86,
     "metadata": {},
     "output_type": "execute_result"
    }
   ],
   "source": [
    "cv"
   ]
  },
  {
   "cell_type": "code",
   "execution_count": 85,
   "id": "86720b77",
   "metadata": {},
   "outputs": [],
   "source": [
    "cv = cv.drop([\"ServicePartsPageID\",\"Name\"])"
   ]
  },
  {
   "cell_type": "code",
   "execution_count": 88,
   "id": "d512bc21",
   "metadata": {},
   "outputs": [],
   "source": [
    "gsppsppcv = gsppspp.join(cv, left_on=\"ServicePartsPageID\", right_on=\"BaseObjectID\")"
   ]
  },
  {
   "cell_type": "code",
   "execution_count": 89,
   "id": "36e191f7",
   "metadata": {},
   "outputs": [
    {
     "data": {
      "text/html": [
       "<div><style>\n",
       ".dataframe > thead > tr,\n",
       ".dataframe > tbody > tr {\n",
       "  text-align: right;\n",
       "  white-space: pre-wrap;\n",
       "}\n",
       "</style>\n",
       "<small>shape: (56_329, 6)</small><table border=\"1\" class=\"dataframe\"><thead><tr><th>DrawingName</th><th>Number</th><th>BaseNumber</th><th>ServicePartsPageID</th><th>Number_right</th><th>SerialNumber</th></tr><tr><td>str</td><td>str</td><td>str</td><td>str</td><td>str</td><td>i64</td></tr></thead><tbody><tr><td>&quot;333-R3291-1&quot;</td><td>&quot;333/R3291 1&quot;</td><td>&quot;333/R3291&quot;</td><td>&quot;F3513433-E8C1-49A6-934A-00004D…</td><td>&quot;E190-9-1&quot;</td><td>2063074</td></tr><tr><td>&quot;333-R3291-1&quot;</td><td>&quot;333/R3291 1&quot;</td><td>&quot;333/R3291&quot;</td><td>&quot;F3513433-E8C1-49A6-934A-00004D…</td><td>&quot;E190-9-1&quot;</td><td>2312338</td></tr><tr><td>&quot;333-R3291-1&quot;</td><td>&quot;333/R3291 1&quot;</td><td>&quot;333/R3291&quot;</td><td>&quot;F3513433-E8C1-49A6-934A-00004D…</td><td>&quot;E190-9-1&quot;</td><td>2312320</td></tr><tr><td>&quot;333-R3291-1&quot;</td><td>&quot;333/R3291 1&quot;</td><td>&quot;333/R3291&quot;</td><td>&quot;F3513433-E8C1-49A6-934A-00004D…</td><td>&quot;E190-9-1&quot;</td><td>2312301</td></tr><tr><td>&quot;11-10980&quot;</td><td>&quot;FBPG0001-90&quot;</td><td>&quot;FBPG0001-90&quot;</td><td>&quot;2EA0A1F0-74BA-406D-84A0-00037D…</td><td>&quot;V410-1-1&quot;</td><td>1743984</td></tr><tr><td>&hellip;</td><td>&hellip;</td><td>&hellip;</td><td>&hellip;</td><td>&hellip;</td><td>&hellip;</td></tr><tr><td>&quot;128-G3885-1&quot;</td><td>&quot;128/G3885 1&quot;</td><td>&quot;128/G3885&quot;</td><td>&quot;A248CBA0-C1E7-45D4-8C0D-FFE701…</td><td>&quot;D110-101-1&quot;</td><td>2015430</td></tr><tr><td>&quot;128-G3885-1&quot;</td><td>&quot;128/G3885 1&quot;</td><td>&quot;128/G3885&quot;</td><td>&quot;A248CBA0-C1E7-45D4-8C0D-FFE701…</td><td>&quot;D110-101-1&quot;</td><td>2000232</td></tr><tr><td>&quot;128-G3885-1&quot;</td><td>&quot;128/G3885 1&quot;</td><td>&quot;128/G3885&quot;</td><td>&quot;A248CBA0-C1E7-45D4-8C0D-FFE701…</td><td>&quot;D110-101-1&quot;</td><td>2000320</td></tr><tr><td>&quot;128-G3885-1&quot;</td><td>&quot;128/G3885 1&quot;</td><td>&quot;128/G3885&quot;</td><td>&quot;A248CBA0-C1E7-45D4-8C0D-FFE701…</td><td>&quot;D110-101-1&quot;</td><td>2018879</td></tr><tr><td>&quot;333-L1002-2&quot;</td><td>&quot;333/D4581 2&quot;</td><td>&quot;333/D4581&quot;</td><td>&quot;2419CE29-C1E2-4637-BE11-FFFEE6…</td><td>&quot;D300-70-1&quot;</td><td>1449991</td></tr></tbody></table></div>"
      ],
      "text/plain": [
       "shape: (56_329, 6)\n",
       "┌─────────────┬─────────────┬─────────────┬──────────────────────────┬──────────────┬──────────────┐\n",
       "│ DrawingName ┆ Number      ┆ BaseNumber  ┆ ServicePartsPageID       ┆ Number_right ┆ SerialNumber │\n",
       "│ ---         ┆ ---         ┆ ---         ┆ ---                      ┆ ---          ┆ ---          │\n",
       "│ str         ┆ str         ┆ str         ┆ str                      ┆ str          ┆ i64          │\n",
       "╞═════════════╪═════════════╪═════════════╪══════════════════════════╪══════════════╪══════════════╡\n",
       "│ 333-R3291-1 ┆ 333/R3291 1 ┆ 333/R3291   ┆ F3513433-E8C1-49A6-934A- ┆ E190-9-1     ┆ 2063074      │\n",
       "│             ┆             ┆             ┆ 00004D…                  ┆              ┆              │\n",
       "│ 333-R3291-1 ┆ 333/R3291 1 ┆ 333/R3291   ┆ F3513433-E8C1-49A6-934A- ┆ E190-9-1     ┆ 2312338      │\n",
       "│             ┆             ┆             ┆ 00004D…                  ┆              ┆              │\n",
       "│ 333-R3291-1 ┆ 333/R3291 1 ┆ 333/R3291   ┆ F3513433-E8C1-49A6-934A- ┆ E190-9-1     ┆ 2312320      │\n",
       "│             ┆             ┆             ┆ 00004D…                  ┆              ┆              │\n",
       "│ 333-R3291-1 ┆ 333/R3291 1 ┆ 333/R3291   ┆ F3513433-E8C1-49A6-934A- ┆ E190-9-1     ┆ 2312301      │\n",
       "│             ┆             ┆             ┆ 00004D…                  ┆              ┆              │\n",
       "│ 11-10980    ┆ FBPG0001-90 ┆ FBPG0001-90 ┆ 2EA0A1F0-74BA-406D-84A0- ┆ V410-1-1     ┆ 1743984      │\n",
       "│             ┆             ┆             ┆ 00037D…                  ┆              ┆              │\n",
       "│ …           ┆ …           ┆ …           ┆ …                        ┆ …            ┆ …            │\n",
       "│ 128-G3885-1 ┆ 128/G3885 1 ┆ 128/G3885   ┆ A248CBA0-C1E7-45D4-8C0D- ┆ D110-101-1   ┆ 2015430      │\n",
       "│             ┆             ┆             ┆ FFE701…                  ┆              ┆              │\n",
       "│ 128-G3885-1 ┆ 128/G3885 1 ┆ 128/G3885   ┆ A248CBA0-C1E7-45D4-8C0D- ┆ D110-101-1   ┆ 2000232      │\n",
       "│             ┆             ┆             ┆ FFE701…                  ┆              ┆              │\n",
       "│ 128-G3885-1 ┆ 128/G3885 1 ┆ 128/G3885   ┆ A248CBA0-C1E7-45D4-8C0D- ┆ D110-101-1   ┆ 2000320      │\n",
       "│             ┆             ┆             ┆ FFE701…                  ┆              ┆              │\n",
       "│ 128-G3885-1 ┆ 128/G3885 1 ┆ 128/G3885   ┆ A248CBA0-C1E7-45D4-8C0D- ┆ D110-101-1   ┆ 2018879      │\n",
       "│             ┆             ┆             ┆ FFE701…                  ┆              ┆              │\n",
       "│ 333-L1002-2 ┆ 333/D4581 2 ┆ 333/D4581   ┆ 2419CE29-C1E2-4637-BE11- ┆ D300-70-1    ┆ 1449991      │\n",
       "│             ┆             ┆             ┆ FFFEE6…                  ┆              ┆              │\n",
       "└─────────────┴─────────────┴─────────────┴──────────────────────────┴──────────────┴──────────────┘"
      ]
     },
     "execution_count": 89,
     "metadata": {},
     "output_type": "execute_result"
    }
   ],
   "source": [
    "gsppsppcv"
   ]
  },
  {
   "cell_type": "code",
   "execution_count": 91,
   "id": "e99b305d",
   "metadata": {},
   "outputs": [],
   "source": [
    "gsppsppcvpm = gsppsppcv.join(pm, on=\"SerialNumber\")"
   ]
  },
  {
   "cell_type": "code",
   "execution_count": 93,
   "id": "ce3aad44",
   "metadata": {},
   "outputs": [],
   "source": [
    "gsppsppcvpm = gsppsppcvpm.drop(\"ModelID\")"
   ]
  },
  {
   "cell_type": "code",
   "execution_count": 102,
   "id": "e63685d2",
   "metadata": {},
   "outputs": [],
   "source": [
    "gsppsppcvpm.write_csv(\"C:/Users/user/Desktop/partswithserialsmodels.csv\")"
   ]
  },
  {
   "cell_type": "code",
   "execution_count": 96,
   "id": "98efb178",
   "metadata": {},
   "outputs": [],
   "source": [
    "ddgsppsppcvpm = gsppsppcvpm.join(dd,right_on=[\"sub_part\",\"drawing_name\"], left_on=[\"BaseNumber\",\"DrawingName\"],how=\"inner\")"
   ]
  },
  {
   "cell_type": "code",
   "execution_count": 99,
   "id": "2fb60657",
   "metadata": {},
   "outputs": [],
   "source": [
    "ddgsppsppcvpm = ddgsppsppcvpm.drop(\"ServicePartsPageID\")"
   ]
  },
  {
   "cell_type": "code",
   "execution_count": 100,
   "id": "f71a989c",
   "metadata": {},
   "outputs": [],
   "source": [
    "ddgsppsppcvpm.write_csv(\"datawithser\")"
   ]
  },
  {
   "cell_type": "code",
   "execution_count": 101,
   "id": "9ad05539",
   "metadata": {},
   "outputs": [],
   "source": [
    "gsppsppcvpm = gsppsppcvpm.drop(\"ServicePartsPageID\")"
   ]
  },
  {
   "cell_type": "code",
   "execution_count": 103,
   "id": "6b9b983f",
   "metadata": {},
   "outputs": [],
   "source": [
    "w = pl.read_csv(\"C:/Users/user/Desktop/withserials.csv\")"
   ]
  },
  {
   "cell_type": "code",
   "execution_count": 105,
   "id": "daf5a89e",
   "metadata": {},
   "outputs": [
    {
     "data": {
      "text/html": [
       "<div><style>\n",
       ".dataframe > thead > tr,\n",
       ".dataframe > tbody > tr {\n",
       "  text-align: right;\n",
       "  white-space: pre-wrap;\n",
       "}\n",
       "</style>\n",
       "<small>shape: (5, 2)</small><table border=\"1\" class=\"dataframe\"><thead><tr><th>column</th><th>n_unique</th></tr><tr><td>str</td><td>i64</td></tr></thead><tbody><tr><td>&quot;SerialNumber&quot;</td><td>177</td></tr><tr><td>&quot;DrawingName&quot;</td><td>10828</td></tr><tr><td>&quot;Number&quot;</td><td>12685</td></tr><tr><td>&quot;BaseNumber&quot;</td><td>11353</td></tr><tr><td>&quot;Number_right&quot;</td><td>8100</td></tr></tbody></table></div>"
      ],
      "text/plain": [
       "shape: (5, 2)\n",
       "┌──────────────┬──────────┐\n",
       "│ column       ┆ n_unique │\n",
       "│ ---          ┆ ---      │\n",
       "│ str          ┆ i64      │\n",
       "╞══════════════╪══════════╡\n",
       "│ SerialNumber ┆ 177      │\n",
       "│ DrawingName  ┆ 10828    │\n",
       "│ Number       ┆ 12685    │\n",
       "│ BaseNumber   ┆ 11353    │\n",
       "│ Number_right ┆ 8100     │\n",
       "└──────────────┴──────────┘"
      ]
     },
     "execution_count": 105,
     "metadata": {},
     "output_type": "execute_result"
    }
   ],
   "source": [
    "pl.DataFrame({\n",
    "    \"column\": w.columns,\n",
    "    \"n_unique\": [w[col].n_unique() for col in w.columns]\n",
    "})"
   ]
  },
  {
   "cell_type": "code",
   "execution_count": 104,
   "id": "c6bae719",
   "metadata": {},
   "outputs": [
    {
     "data": {
      "text/html": [
       "<div><style>\n",
       ".dataframe > thead > tr,\n",
       ".dataframe > tbody > tr {\n",
       "  text-align: right;\n",
       "  white-space: pre-wrap;\n",
       "}\n",
       "</style>\n",
       "<small>shape: (7, 2)</small><table border=\"1\" class=\"dataframe\"><thead><tr><th>column</th><th>n_unique</th></tr><tr><td>str</td><td>i64</td></tr></thead><tbody><tr><td>&quot;DrawingName&quot;</td><td>10759</td></tr><tr><td>&quot;Number&quot;</td><td>12603</td></tr><tr><td>&quot;BaseNumber&quot;</td><td>11280</td></tr><tr><td>&quot;Number_right&quot;</td><td>8046</td></tr><tr><td>&quot;SerialNumber&quot;</td><td>176</td></tr><tr><td>&quot;EngineNumber&quot;</td><td>176</td></tr><tr><td>&quot;SalesModel&quot;</td><td>104</td></tr></tbody></table></div>"
      ],
      "text/plain": [
       "shape: (7, 2)\n",
       "┌──────────────┬──────────┐\n",
       "│ column       ┆ n_unique │\n",
       "│ ---          ┆ ---      │\n",
       "│ str          ┆ i64      │\n",
       "╞══════════════╪══════════╡\n",
       "│ DrawingName  ┆ 10759    │\n",
       "│ Number       ┆ 12603    │\n",
       "│ BaseNumber   ┆ 11280    │\n",
       "│ Number_right ┆ 8046     │\n",
       "│ SerialNumber ┆ 176      │\n",
       "│ EngineNumber ┆ 176      │\n",
       "│ SalesModel   ┆ 104      │\n",
       "└──────────────┴──────────┘"
      ]
     },
     "execution_count": 104,
     "metadata": {},
     "output_type": "execute_result"
    }
   ],
   "source": [
    "pl.DataFrame({\n",
    "    \"column\": gsppsppcvpm.columns,\n",
    "    \"n_unique\": [gsppsppcvpm[col].n_unique() for col in gsppsppcvpm.columns]\n",
    "})"
   ]
  }
 ],
 "metadata": {
  "kernelspec": {
   "display_name": "Python 3",
   "language": "python",
   "name": "python3"
  },
  "language_info": {
   "codemirror_mode": {
    "name": "ipython",
    "version": 3
   },
   "file_extension": ".py",
   "mimetype": "text/x-python",
   "name": "python",
   "nbconvert_exporter": "python",
   "pygments_lexer": "ipython3",
   "version": "3.13.2"
  }
 },
 "nbformat": 4,
 "nbformat_minor": 5
}
