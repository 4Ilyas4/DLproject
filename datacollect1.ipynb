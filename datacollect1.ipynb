{
 "cells": [
  {
   "cell_type": "code",
   "execution_count": 2,
   "id": "b8dccea9",
   "metadata": {},
   "outputs": [],
   "source": [
    "import pandas as pd\n",
    "import polars as pl\n",
    "\n"
   ]
  },
  {
   "cell_type": "code",
   "execution_count": 3,
   "id": "f6c22cc5",
   "metadata": {},
   "outputs": [],
   "source": [
    "p = pl.read_csv(\"C:/Users/user/Desktop/ProductionUnit.csv\", truncate_ragged_lines=True, ignore_errors=True)"
   ]
  },
  {
   "cell_type": "code",
   "execution_count": 4,
   "id": "1119490a",
   "metadata": {},
   "outputs": [],
   "source": [
    "SpecP = pl.read_csv(\"C:/Users/user/Desktop/Specification_ProductionUnit.csv\", truncate_ragged_lines=True, ignore_errors=True)"
   ]
  },
  {
   "cell_type": "code",
   "execution_count": 5,
   "id": "3e29397a",
   "metadata": {},
   "outputs": [],
   "source": [
    "ss = pl.read_csv(\"C:/Users/user/Desktop/SpecificationSpp.csv\", truncate_ragged_lines=True, ignore_errors=True)"
   ]
  },
  {
   "cell_type": "code",
   "execution_count": 6,
   "id": "d3dfe5a4",
   "metadata": {},
   "outputs": [],
   "source": [
    "SP = p.join(SpecP, on=\"ProductionUnitID\")\n"
   ]
  },
  {
   "cell_type": "code",
   "execution_count": 7,
   "id": "82540062",
   "metadata": {},
   "outputs": [
    {
     "data": {
      "text/html": [
       "<div><style>\n",
       ".dataframe > thead > tr,\n",
       ".dataframe > tbody > tr {\n",
       "  text-align: right;\n",
       "  white-space: pre-wrap;\n",
       "}\n",
       "</style>\n",
       "<small>shape: (924_458, 9)</small><table border=\"1\" class=\"dataframe\"><thead><tr><th>ProductionUnitID</th><th>ManufactureDate</th><th>EngineNumber</th><th>PrimaryBuildCode</th><th>RetailDealerAccount</th><th>SalesModel</th><th>SerialNumber</th><th>OwnershipGroupID</th><th>SpecificationID</th></tr><tr><td>str</td><td>str</td><td>str</td><td>i64</td><td>f64</td><td>str</td><td>i64</td><td>str</td><td>str</td></tr></thead><tbody><tr><td>&quot;3F4D21D2-F442-477A-B656-000012…</td><td>&quot;2000-12-22&quot;</td><td>&quot;KR50682U947026G&nbsp;&nbsp;&nbsp;&nbsp;&nbsp;&quot;</td><td>8902</td><td>null</td><td>&quot;JCB 1CX&quot;</td><td>807250</td><td>&quot;E93C6831-E861-4D20-93C0-37D88E…</td><td>&quot;FD44BF18-4EDF-44ED-AA1A-9E0311…</td></tr><tr><td>&quot;82516147-E3E0-4583-B594-00002E…</td><td>&quot;2005-11-22&quot;</td><td>&quot;SB40063U0875905&nbsp;&nbsp;&nbsp;&nbsp;&nbsp;&quot;</td><td>2199</td><td>null</td><td>&quot;4CX4WSSMPC&quot;</td><td>966370</td><td>&quot;E93C6831-E861-4D20-93C0-37D88E…</td><td>&quot;B1F028F1-6FC2-4FFF-A0DC-A67325…</td></tr><tr><td>&quot;47A27968-A025-417B-9795-000037…</td><td>&quot;2004-03-23&quot;</td><td>&quot;A4BG1-135853&nbsp;&nbsp;&nbsp;&nbsp;&nbsp;&nbsp;&nbsp;&nbsp;&quot;</td><td>9712</td><td>null</td><td>&quot;JS145W TAB&quot;</td><td>810230</td><td>&quot;E93C6831-E861-4D20-93C0-37D88E…</td><td>&quot;52081A60-B4A6-4F79-91EB-6FEDA9…</td></tr><tr><td>&quot;C9FCD6B3-7A73-4F0D-9388-000038…</td><td>&quot;1988-06-10&quot;</td><td>&quot;AB50279/503059S&nbsp;&nbsp;&nbsp;&nbsp;&nbsp;&quot;</td><td>null</td><td>2167.0</td><td>&quot;1700C-4&nbsp;&nbsp;&nbsp;&quot;</td><td>338637</td><td>&quot;E93C6831-E861-4D20-93C0-37D88E…</td><td>&quot;541A1795-2603-47BB-82C1-EEE5CD…</td></tr><tr><td>&quot;069AD196-4DBA-44AF-82B4-00003B…</td><td>&quot;1999-09-15&quot;</td><td>&quot;AK50628U046892F&nbsp;&nbsp;&nbsp;&nbsp;&nbsp;&quot;</td><td>2029</td><td>7766.0</td><td>&quot;3CX-4T&quot;</td><td>485420</td><td>&quot;E93C6831-E861-4D20-93C0-37D88E…</td><td>&quot;C43109D5-89A1-409D-908A-807700…</td></tr><tr><td>&hellip;</td><td>&hellip;</td><td>&hellip;</td><td>&hellip;</td><td>&hellip;</td><td>&hellip;</td><td>&hellip;</td><td>&hellip;</td><td>&hellip;</td></tr><tr><td>&quot;D21269CF-B07E-4E44-9FFE-FFFF8A…</td><td>&quot;2013-04-25&quot;</td><td>&quot;GS65778J631668X&nbsp;&nbsp;&nbsp;&nbsp;&nbsp;&quot;</td><td>8435</td><td>8135.0</td><td>&quot;8035 ZTS&quot;</td><td>2022492</td><td>&quot;E93C6831-E861-4D20-93C0-37D88E…</td><td>&quot;F4821BBC-1A3F-4178-83CC-CF1024…</td></tr><tr><td>&quot;A3A948F6-3DD6-4521-8ECA-FFFF8C…</td><td>&quot;1990-03-14&quot;</td><td>&quot;AA50261U539781T&nbsp;&nbsp;&nbsp;&nbsp;&nbsp;&quot;</td><td>null</td><td>1004.0</td><td>&quot;530-120&nbsp;&nbsp;&nbsp;&quot;</td><td>563618</td><td>&quot;E93C6831-E861-4D20-93C0-37D88E…</td><td>&quot;75796EC4-45E0-490D-8E42-017497…</td></tr><tr><td>&quot;B295D907-765B-4F43-ABA3-FFFFC3…</td><td>&quot;2003-06-16&quot;</td><td>&quot;6BG1T-156186&nbsp;&nbsp;&nbsp;&nbsp;&nbsp;&nbsp;&nbsp;&nbsp;&quot;</td><td>9626</td><td>1005.0</td><td>&quot;JS220LC&quot;</td><td>1018086</td><td>&quot;E93C6831-E861-4D20-93C0-37D88E…</td><td>&quot;E5187B8A-E93E-464F-8012-3CC007…</td></tr><tr><td>&quot;1CD831F5-7445-4CD9-9692-FFFFEE…</td><td>&quot;1994-01-17&quot;</td><td>&quot;AA50460U635493X&nbsp;&nbsp;&nbsp;&nbsp;&nbsp;&quot;</td><td>null</td><td>1012.0</td><td>&quot;520-55RS&nbsp;&nbsp;&quot;</td><td>277243</td><td>&quot;E93C6831-E861-4D20-93C0-37D88E…</td><td>&quot;32D9DF5D-B038-44FC-9FA6-43D4C0…</td></tr><tr><td>&quot;1CD831F5-7445-4CD9-9692-FFFFEE…</td><td>&quot;1994-01-17&quot;</td><td>&quot;AA50460U635493X&nbsp;&nbsp;&nbsp;&nbsp;&nbsp;&quot;</td><td>null</td><td>1012.0</td><td>&quot;520-55RS&nbsp;&nbsp;&quot;</td><td>277243</td><td>&quot;E93C6831-E861-4D20-93C0-37D88E…</td><td>&quot;597A123D-5DE1-4071-AB79-676610…</td></tr></tbody></table></div>"
      ],
      "text/plain": [
       "shape: (924_458, 9)\n",
       "┌───────────┬───────────┬───────────┬───────────┬───┬───────────┬───────────┬───────────┬──────────┐\n",
       "│ Productio ┆ Manufactu ┆ EngineNum ┆ PrimaryBu ┆ … ┆ SalesMode ┆ SerialNum ┆ Ownership ┆ Specific │\n",
       "│ nUnitID   ┆ reDate    ┆ ber       ┆ ildCode   ┆   ┆ l         ┆ ber       ┆ GroupID   ┆ ationID  │\n",
       "│ ---       ┆ ---       ┆ ---       ┆ ---       ┆   ┆ ---       ┆ ---       ┆ ---       ┆ ---      │\n",
       "│ str       ┆ str       ┆ str       ┆ i64       ┆   ┆ str       ┆ i64       ┆ str       ┆ str      │\n",
       "╞═══════════╪═══════════╪═══════════╪═══════════╪═══╪═══════════╪═══════════╪═══════════╪══════════╡\n",
       "│ 3F4D21D2- ┆ 2000-12-2 ┆ KR50682U9 ┆ 8902      ┆ … ┆ JCB 1CX   ┆ 807250    ┆ E93C6831- ┆ FD44BF18 │\n",
       "│ F442-477A ┆ 2         ┆ 47026G    ┆           ┆   ┆           ┆           ┆ E861-4D20 ┆ -4EDF-44 │\n",
       "│ -B656-000 ┆           ┆           ┆           ┆   ┆           ┆           ┆ -93C0-37D ┆ ED-AA1A- │\n",
       "│ 012…      ┆           ┆           ┆           ┆   ┆           ┆           ┆ 88E…      ┆ 9E0311…  │\n",
       "│ 82516147- ┆ 2005-11-2 ┆ SB40063U0 ┆ 2199      ┆ … ┆ 4CX4WSSMP ┆ 966370    ┆ E93C6831- ┆ B1F028F1 │\n",
       "│ E3E0-4583 ┆ 2         ┆ 875905    ┆           ┆   ┆ C         ┆           ┆ E861-4D20 ┆ -6FC2-4F │\n",
       "│ -B594-000 ┆           ┆           ┆           ┆   ┆           ┆           ┆ -93C0-37D ┆ FF-A0DC- │\n",
       "│ 02E…      ┆           ┆           ┆           ┆   ┆           ┆           ┆ 88E…      ┆ A67325…  │\n",
       "│ 47A27968- ┆ 2004-03-2 ┆ A4BG1-135 ┆ 9712      ┆ … ┆ JS145W    ┆ 810230    ┆ E93C6831- ┆ 52081A60 │\n",
       "│ A025-417B ┆ 3         ┆ 853       ┆           ┆   ┆ TAB       ┆           ┆ E861-4D20 ┆ -B4A6-4F │\n",
       "│ -9795-000 ┆           ┆           ┆           ┆   ┆           ┆           ┆ -93C0-37D ┆ 79-91EB- │\n",
       "│ 037…      ┆           ┆           ┆           ┆   ┆           ┆           ┆ 88E…      ┆ 6FEDA9…  │\n",
       "│ C9FCD6B3- ┆ 1988-06-1 ┆ AB50279/5 ┆ null      ┆ … ┆ 1700C-4   ┆ 338637    ┆ E93C6831- ┆ 541A1795 │\n",
       "│ 7A73-4F0D ┆ 0         ┆ 03059S    ┆           ┆   ┆           ┆           ┆ E861-4D20 ┆ -2603-47 │\n",
       "│ -9388-000 ┆           ┆           ┆           ┆   ┆           ┆           ┆ -93C0-37D ┆ BB-82C1- │\n",
       "│ 038…      ┆           ┆           ┆           ┆   ┆           ┆           ┆ 88E…      ┆ EEE5CD…  │\n",
       "│ 069AD196- ┆ 1999-09-1 ┆ AK50628U0 ┆ 2029      ┆ … ┆ 3CX-4T    ┆ 485420    ┆ E93C6831- ┆ C43109D5 │\n",
       "│ 4DBA-44AF ┆ 5         ┆ 46892F    ┆           ┆   ┆           ┆           ┆ E861-4D20 ┆ -89A1-40 │\n",
       "│ -82B4-000 ┆           ┆           ┆           ┆   ┆           ┆           ┆ -93C0-37D ┆ 9D-908A- │\n",
       "│ 03B…      ┆           ┆           ┆           ┆   ┆           ┆           ┆ 88E…      ┆ 807700…  │\n",
       "│ …         ┆ …         ┆ …         ┆ …         ┆ … ┆ …         ┆ …         ┆ …         ┆ …        │\n",
       "│ D21269CF- ┆ 2013-04-2 ┆ GS65778J6 ┆ 8435      ┆ … ┆ 8035 ZTS  ┆ 2022492   ┆ E93C6831- ┆ F4821BBC │\n",
       "│ B07E-4E44 ┆ 5         ┆ 31668X    ┆           ┆   ┆           ┆           ┆ E861-4D20 ┆ -1A3F-41 │\n",
       "│ -9FFE-FFF ┆           ┆           ┆           ┆   ┆           ┆           ┆ -93C0-37D ┆ 78-83CC- │\n",
       "│ F8A…      ┆           ┆           ┆           ┆   ┆           ┆           ┆ 88E…      ┆ CF1024…  │\n",
       "│ A3A948F6- ┆ 1990-03-1 ┆ AA50261U5 ┆ null      ┆ … ┆ 530-120   ┆ 563618    ┆ E93C6831- ┆ 75796EC4 │\n",
       "│ 3DD6-4521 ┆ 4         ┆ 39781T    ┆           ┆   ┆           ┆           ┆ E861-4D20 ┆ -45E0-49 │\n",
       "│ -8ECA-FFF ┆           ┆           ┆           ┆   ┆           ┆           ┆ -93C0-37D ┆ 0D-8E42- │\n",
       "│ F8C…      ┆           ┆           ┆           ┆   ┆           ┆           ┆ 88E…      ┆ 017497…  │\n",
       "│ B295D907- ┆ 2003-06-1 ┆ 6BG1T-156 ┆ 9626      ┆ … ┆ JS220LC   ┆ 1018086   ┆ E93C6831- ┆ E5187B8A │\n",
       "│ 765B-4F43 ┆ 6         ┆ 186       ┆           ┆   ┆           ┆           ┆ E861-4D20 ┆ -E93E-46 │\n",
       "│ -ABA3-FFF ┆           ┆           ┆           ┆   ┆           ┆           ┆ -93C0-37D ┆ 4F-8012- │\n",
       "│ FC3…      ┆           ┆           ┆           ┆   ┆           ┆           ┆ 88E…      ┆ 3CC007…  │\n",
       "│ 1CD831F5- ┆ 1994-01-1 ┆ AA50460U6 ┆ null      ┆ … ┆ 520-55RS  ┆ 277243    ┆ E93C6831- ┆ 32D9DF5D │\n",
       "│ 7445-4CD9 ┆ 7         ┆ 35493X    ┆           ┆   ┆           ┆           ┆ E861-4D20 ┆ -B038-44 │\n",
       "│ -9692-FFF ┆           ┆           ┆           ┆   ┆           ┆           ┆ -93C0-37D ┆ FC-9FA6- │\n",
       "│ FEE…      ┆           ┆           ┆           ┆   ┆           ┆           ┆ 88E…      ┆ 43D4C0…  │\n",
       "│ 1CD831F5- ┆ 1994-01-1 ┆ AA50460U6 ┆ null      ┆ … ┆ 520-55RS  ┆ 277243    ┆ E93C6831- ┆ 597A123D │\n",
       "│ 7445-4CD9 ┆ 7         ┆ 35493X    ┆           ┆   ┆           ┆           ┆ E861-4D20 ┆ -5DE1-40 │\n",
       "│ -9692-FFF ┆           ┆           ┆           ┆   ┆           ┆           ┆ -93C0-37D ┆ 71-AB79- │\n",
       "│ FEE…      ┆           ┆           ┆           ┆   ┆           ┆           ┆ 88E…      ┆ 676610…  │\n",
       "└───────────┴───────────┴───────────┴───────────┴───┴───────────┴───────────┴───────────┴──────────┘"
      ]
     },
     "execution_count": 7,
     "metadata": {},
     "output_type": "execute_result"
    }
   ],
   "source": [
    "SP"
   ]
  },
  {
   "cell_type": "code",
   "execution_count": 8,
   "id": "4a1c7a8c",
   "metadata": {},
   "outputs": [],
   "source": [
    "SP = SP.with_columns([\n",
    "    pl.col(\"ProductionUnitID\").str.strip_chars(),\n",
    "    pl.col(\"ManufactureDate\").str.strip_chars(),\n",
    "    pl.col(\"EngineNumber\").str.strip_chars(),\n",
    "    pl.col(\"PrimaryBuildCode\"),\n",
    "    pl.col(\"RetailDealerAccount\"),\n",
    "    pl.col(\"SalesModel\").str.strip_chars(),\n",
    "    pl.col(\"SerialNumber\"),\n",
    "    pl.col(\"OwnershipGroupID\").str.strip_chars(),\n",
    "    pl.col(\"SpecificationID\").str.strip_chars()\n",
    "])"
   ]
  },
  {
   "cell_type": "code",
   "execution_count": 9,
   "id": "949cd8e4",
   "metadata": {},
   "outputs": [],
   "source": [
    "SP = SP.drop(\"OwnershipGroupID\")"
   ]
  },
  {
   "cell_type": "code",
   "execution_count": 10,
   "id": "a79f9f35",
   "metadata": {},
   "outputs": [],
   "source": [
    "SP = SP.unique()"
   ]
  },
  {
   "cell_type": "code",
   "execution_count": 12,
   "id": "fb5422fe",
   "metadata": {},
   "outputs": [
    {
     "data": {
      "text/plain": [
       "1508"
      ]
     },
     "execution_count": 12,
     "metadata": {},
     "output_type": "execute_result"
    }
   ],
   "source": [
    "SP[\"SpecificationID\"].unique().count()"
   ]
  },
  {
   "cell_type": "code",
   "execution_count": 13,
   "id": "aef1520d",
   "metadata": {},
   "outputs": [
    {
     "data": {
      "text/plain": [
       "4396"
      ]
     },
     "execution_count": 13,
     "metadata": {},
     "output_type": "execute_result"
    }
   ],
   "source": [
    "ss[\"SpecificationID\"].unique().count()"
   ]
  },
  {
   "cell_type": "code",
   "execution_count": null,
   "id": "5c4e481c",
   "metadata": {},
   "outputs": [],
   "source": [
    "SPS"
   ]
  },
  {
   "cell_type": "code",
   "execution_count": 53,
   "id": "cbe5c2c3",
   "metadata": {},
   "outputs": [],
   "source": [
    "dfV = pl.read_csv(\"C:/Users/user/Desktop/VinLock.csv\")\n",
    "dfC = pl.read_csv(\"C:/Users/user/Desktop/CatalogTreeNode.csv\")\n",
    "dfS = pl.read_csv(\"C:/Users/user/Desktop/ServiceParts.csv\", truncate_ragged_lines=True)"
   ]
  },
  {
   "cell_type": "code",
   "execution_count": 102,
   "id": "0f13effb",
   "metadata": {},
   "outputs": [
    {
     "data": {
      "text/plain": [
       "34870"
      ]
     },
     "execution_count": 102,
     "metadata": {},
     "output_type": "execute_result"
    }
   ],
   "source": [
    "dfV[\"CatalogTreeNodeID\"].unique().count()"
   ]
  },
  {
   "cell_type": "code",
   "execution_count": 103,
   "id": "e2481665",
   "metadata": {},
   "outputs": [
    {
     "data": {
      "text/plain": [
       "1221033"
      ]
     },
     "execution_count": 103,
     "metadata": {},
     "output_type": "execute_result"
    }
   ],
   "source": [
    "dfC[\"CatalogTreeNodeID\"].unique().count()"
   ]
  },
  {
   "cell_type": "code",
   "execution_count": 97,
   "id": "5acfc0e1",
   "metadata": {},
   "outputs": [],
   "source": [
    "CV = dfV.join(dfC, on=\"CatalogTreeNodeID\")"
   ]
  },
  {
   "cell_type": "code",
   "execution_count": 101,
   "id": "daae4251",
   "metadata": {},
   "outputs": [
    {
     "data": {
      "text/plain": [
       "'15756873-1E22-4C3C-80EB-08AE5279B7D3'"
      ]
     },
     "execution_count": 101,
     "metadata": {},
     "output_type": "execute_result"
    }
   ],
   "source": [
    "CV[\"BaseObjectID\"][0]"
   ]
  },
  {
   "cell_type": "code",
   "execution_count": 99,
   "id": "5ef4cc2c",
   "metadata": {},
   "outputs": [],
   "source": [
    "CV=CV[[\"CatalogTreeNodeID\",\"ServicePartsPageID\",\"SerialNumber\",\"BaseObjectID\"]]"
   ]
  },
  {
   "cell_type": "code",
   "execution_count": 54,
   "id": "27bb789c",
   "metadata": {},
   "outputs": [],
   "source": [
    "CS = dfS.join(dfC, on=\"ServicePartsPageID\")"
   ]
  },
  {
   "cell_type": "code",
   "execution_count": 55,
   "id": "32e41b90",
   "metadata": {},
   "outputs": [
    {
     "data": {
      "text/html": [
       "<div><style>\n",
       ".dataframe > thead > tr,\n",
       ".dataframe > tbody > tr {\n",
       "  text-align: right;\n",
       "  white-space: pre-wrap;\n",
       "}\n",
       "</style>\n",
       "<small>shape: (1_096_549, 18)</small><table border=\"1\" class=\"dataframe\"><thead><tr><th>GenericServicePartsPageID</th><th>ServicePartsPageID</th><th>GeneralAssemblyID</th><th>Number</th><th>LineOfBusinessID</th><th>ModelGroupID</th><th>ModelRangeID</th><th>LocationID</th><th>SpecificationID</th><th>SectionID</th><th>DocumentID</th><th>IsRoot</th><th>IsVisible</th><th>BaseObjectID</th><th>NodeType</th><th>Name</th><th>CatalogTreeNodeID</th><th>CatalogFolderID</th></tr><tr><td>str</td><td>str</td><td>str</td><td>str</td><td>str</td><td>str</td><td>str</td><td>str</td><td>str</td><td>str</td><td>str</td><td>bool</td><td>bool</td><td>str</td><td>str</td><td>str</td><td>str</td><td>str</td></tr></thead><tbody><tr><td>&quot;1BEB9368-8925-49C6-AEAE-F6D11B…</td><td>&quot;15756873-1E22-4C3C-80EB-08AE52…</td><td>&quot;NULL&quot;</td><td>&quot;V140-95-1&quot;</td><td>null</td><td>null</td><td>null</td><td>null</td><td>null</td><td>null</td><td>null</td><td>false</td><td>false</td><td>&quot;15756873-1E22-4C3C-80EB-08AE52…</td><td>&quot;ServicePartsPage&quot;</td><td>null</td><td>&quot;AA978CBF-C008-45DB-A9F6-000000…</td><td>null</td></tr><tr><td>&quot;D42273F5-9B38-4B63-9C7C-0B1A8F…</td><td>&quot;991DFEF9-AD9E-4EEA-BED6-FE7E8F…</td><td>&quot;NULL&quot;</td><td>&quot;E110-7-2&quot;</td><td>null</td><td>null</td><td>null</td><td>null</td><td>null</td><td>null</td><td>null</td><td>false</td><td>false</td><td>&quot;991DFEF9-AD9E-4EEA-BED6-FE7E8F…</td><td>&quot;ServicePartsPage&quot;</td><td>null</td><td>&quot;365B0F05-C09C-456E-8F91-000015…</td><td>null</td></tr><tr><td>&quot;66D928EA-4E91-4F74-8BA4-CFDAC4…</td><td>&quot;01268579-E5F4-4D2A-9093-BE5F6A…</td><td>&quot;NULL&quot;</td><td>&quot;B1-6-40&quot;</td><td>null</td><td>null</td><td>null</td><td>null</td><td>null</td><td>null</td><td>null</td><td>false</td><td>true</td><td>&quot;01268579-E5F4-4D2A-9093-BE5F6A…</td><td>&quot;ServicePartsPage&quot;</td><td>null</td><td>&quot;21D05DA6-6B87-4203-BF95-000027…</td><td>null</td></tr><tr><td>&quot;ECBC2A7F-59F0-4AE9-830A-A374F5…</td><td>&quot;EE4566BC-AD77-44BB-9B7A-112655…</td><td>&quot;NULL&quot;</td><td>&quot;D300-5-1&quot;</td><td>null</td><td>null</td><td>null</td><td>null</td><td>null</td><td>null</td><td>null</td><td>false</td><td>false</td><td>&quot;EE4566BC-AD77-44BB-9B7A-112655…</td><td>&quot;ServicePartsPage&quot;</td><td>null</td><td>&quot;7C0F9BD9-ED34-4A8E-BA57-00002A…</td><td>null</td></tr><tr><td>&quot;F5F6AA84-0055-42A2-83B9-821247…</td><td>&quot;6E2AC011-BFFE-45B1-80B7-D5E70A…</td><td>&quot;NULL&quot;</td><td>&quot;L100-900-1&quot;</td><td>null</td><td>null</td><td>null</td><td>null</td><td>null</td><td>null</td><td>null</td><td>false</td><td>false</td><td>&quot;6E2AC011-BFFE-45B1-80B7-D5E70A…</td><td>&quot;ServicePartsPage&quot;</td><td>null</td><td>&quot;E6A3A2A8-B62C-42C2-91DE-00002E…</td><td>null</td></tr><tr><td>&hellip;</td><td>&hellip;</td><td>&hellip;</td><td>&hellip;</td><td>&hellip;</td><td>&hellip;</td><td>&hellip;</td><td>&hellip;</td><td>&hellip;</td><td>&hellip;</td><td>&hellip;</td><td>&hellip;</td><td>&hellip;</td><td>&hellip;</td><td>&hellip;</td><td>&hellip;</td><td>&hellip;</td><td>&hellip;</td></tr><tr><td>&quot;8FBB0CCC-CFC3-4422-81F7-1B29C7…</td><td>&quot;7CFFD6EA-C649-4ED1-8265-5110BE…</td><td>&quot;NULL&quot;</td><td>&quot;E3-2-2&quot;</td><td>null</td><td>null</td><td>null</td><td>null</td><td>null</td><td>null</td><td>null</td><td>false</td><td>true</td><td>&quot;7CFFD6EA-C649-4ED1-8265-5110BE…</td><td>&quot;ServicePartsPage&quot;</td><td>null</td><td>&quot;5ECDDD51-3B40-4E31-95A9-FFFF9C…</td><td>null</td></tr><tr><td>&quot;A10E64A5-C105-40CC-A7AF-8F3E18…</td><td>&quot;29CFEF3A-9594-4426-B6E6-02C9AF…</td><td>&quot;NULL&quot;</td><td>&quot;B1-5-50&quot;</td><td>null</td><td>null</td><td>null</td><td>null</td><td>null</td><td>null</td><td>null</td><td>false</td><td>false</td><td>&quot;29CFEF3A-9594-4426-B6E6-02C9AF…</td><td>&quot;ServicePartsPage&quot;</td><td>null</td><td>&quot;3BDA42E9-BCB3-4B29-AE9C-FFFFB0…</td><td>null</td></tr><tr><td>&quot;EFBB7C98-4640-4984-8654-83DCAF…</td><td>&quot;2EB60CDE-B607-4C16-8E28-D41CB3…</td><td>&quot;NULL&quot;</td><td>&quot;E4-3-1&quot;</td><td>null</td><td>null</td><td>null</td><td>null</td><td>null</td><td>null</td><td>null</td><td>false</td><td>true</td><td>&quot;2EB60CDE-B607-4C16-8E28-D41CB3…</td><td>&quot;ServicePartsPage&quot;</td><td>null</td><td>&quot;93CC4405-77D0-4654-8EC8-FFFFBB…</td><td>null</td></tr><tr><td>&quot;4DBA2F0E-0213-43B9-8429-2074E4…</td><td>&quot;028637BE-C610-42FF-884B-734417…</td><td>&quot;NULL&quot;</td><td>&quot;F5-2-62&quot;</td><td>null</td><td>null</td><td>null</td><td>null</td><td>null</td><td>null</td><td>null</td><td>false</td><td>true</td><td>&quot;028637BE-C610-42FF-884B-734417…</td><td>&quot;ServicePartsPage&quot;</td><td>null</td><td>&quot;E13C0321-9F50-4993-904F-FFFFC5…</td><td>null</td></tr><tr><td>&quot;C5EE1ED5-DF70-4E2E-B537-F9DDBB…</td><td>&quot;D2B2C13C-6006-4C2E-A956-2ECC09…</td><td>&quot;NULL&quot;</td><td>&quot;F1-19-1&quot;</td><td>null</td><td>null</td><td>null</td><td>null</td><td>null</td><td>null</td><td>null</td><td>false</td><td>true</td><td>&quot;D2B2C13C-6006-4C2E-A956-2ECC09…</td><td>&quot;ServicePartsPage&quot;</td><td>null</td><td>&quot;E88DA21B-B242-4EB6-8308-FFFFDC…</td><td>null</td></tr></tbody></table></div>"
      ],
      "text/plain": [
       "shape: (1_096_549, 18)\n",
       "┌────────────┬────────────┬────────────┬────────────┬───┬───────────┬──────┬───────────┬───────────┐\n",
       "│ GenericSer ┆ ServicePar ┆ GeneralAss ┆ Number     ┆ … ┆ NodeType  ┆ Name ┆ CatalogTr ┆ CatalogFo │\n",
       "│ vicePartsP ┆ tsPageID   ┆ emblyID    ┆ ---        ┆   ┆ ---       ┆ ---  ┆ eeNodeID  ┆ lderID    │\n",
       "│ ageID      ┆ ---        ┆ ---        ┆ str        ┆   ┆ str       ┆ str  ┆ ---       ┆ ---       │\n",
       "│ ---        ┆ str        ┆ str        ┆            ┆   ┆           ┆      ┆ str       ┆ str       │\n",
       "│ str        ┆            ┆            ┆            ┆   ┆           ┆      ┆           ┆           │\n",
       "╞════════════╪════════════╪════════════╪════════════╪═══╪═══════════╪══════╪═══════════╪═══════════╡\n",
       "│ 1BEB9368-8 ┆ 15756873-1 ┆ NULL       ┆ V140-95-1  ┆ … ┆ ServicePa ┆ null ┆ AA978CBF- ┆ null      │\n",
       "│ 925-49C6-A ┆ E22-4C3C-8 ┆            ┆            ┆   ┆ rtsPage   ┆      ┆ C008-45DB ┆           │\n",
       "│ EAE-F6D11B ┆ 0EB-08AE52 ┆            ┆            ┆   ┆           ┆      ┆ -A9F6-000 ┆           │\n",
       "│ …          ┆ …          ┆            ┆            ┆   ┆           ┆      ┆ 000…      ┆           │\n",
       "│ D42273F5-9 ┆ 991DFEF9-A ┆ NULL       ┆ E110-7-2   ┆ … ┆ ServicePa ┆ null ┆ 365B0F05- ┆ null      │\n",
       "│ B38-4B63-9 ┆ D9E-4EEA-B ┆            ┆            ┆   ┆ rtsPage   ┆      ┆ C09C-456E ┆           │\n",
       "│ C7C-0B1A8F ┆ ED6-FE7E8F ┆            ┆            ┆   ┆           ┆      ┆ -8F91-000 ┆           │\n",
       "│ …          ┆ …          ┆            ┆            ┆   ┆           ┆      ┆ 015…      ┆           │\n",
       "│ 66D928EA-4 ┆ 01268579-E ┆ NULL       ┆ B1-6-40    ┆ … ┆ ServicePa ┆ null ┆ 21D05DA6- ┆ null      │\n",
       "│ E91-4F74-8 ┆ 5F4-4D2A-9 ┆            ┆            ┆   ┆ rtsPage   ┆      ┆ 6B87-4203 ┆           │\n",
       "│ BA4-CFDAC4 ┆ 093-BE5F6A ┆            ┆            ┆   ┆           ┆      ┆ -BF95-000 ┆           │\n",
       "│ …          ┆ …          ┆            ┆            ┆   ┆           ┆      ┆ 027…      ┆           │\n",
       "│ ECBC2A7F-5 ┆ EE4566BC-A ┆ NULL       ┆ D300-5-1   ┆ … ┆ ServicePa ┆ null ┆ 7C0F9BD9- ┆ null      │\n",
       "│ 9F0-4AE9-8 ┆ D77-44BB-9 ┆            ┆            ┆   ┆ rtsPage   ┆      ┆ ED34-4A8E ┆           │\n",
       "│ 30A-A374F5 ┆ B7A-112655 ┆            ┆            ┆   ┆           ┆      ┆ -BA57-000 ┆           │\n",
       "│ …          ┆ …          ┆            ┆            ┆   ┆           ┆      ┆ 02A…      ┆           │\n",
       "│ F5F6AA84-0 ┆ 6E2AC011-B ┆ NULL       ┆ L100-900-1 ┆ … ┆ ServicePa ┆ null ┆ E6A3A2A8- ┆ null      │\n",
       "│ 055-42A2-8 ┆ FFE-45B1-8 ┆            ┆            ┆   ┆ rtsPage   ┆      ┆ B62C-42C2 ┆           │\n",
       "│ 3B9-821247 ┆ 0B7-D5E70A ┆            ┆            ┆   ┆           ┆      ┆ -91DE-000 ┆           │\n",
       "│ …          ┆ …          ┆            ┆            ┆   ┆           ┆      ┆ 02E…      ┆           │\n",
       "│ …          ┆ …          ┆ …          ┆ …          ┆ … ┆ …         ┆ …    ┆ …         ┆ …         │\n",
       "│ 8FBB0CCC-C ┆ 7CFFD6EA-C ┆ NULL       ┆ E3-2-2     ┆ … ┆ ServicePa ┆ null ┆ 5ECDDD51- ┆ null      │\n",
       "│ FC3-4422-8 ┆ 649-4ED1-8 ┆            ┆            ┆   ┆ rtsPage   ┆      ┆ 3B40-4E31 ┆           │\n",
       "│ 1F7-1B29C7 ┆ 265-5110BE ┆            ┆            ┆   ┆           ┆      ┆ -95A9-FFF ┆           │\n",
       "│ …          ┆ …          ┆            ┆            ┆   ┆           ┆      ┆ F9C…      ┆           │\n",
       "│ A10E64A5-C ┆ 29CFEF3A-9 ┆ NULL       ┆ B1-5-50    ┆ … ┆ ServicePa ┆ null ┆ 3BDA42E9- ┆ null      │\n",
       "│ 105-40CC-A ┆ 594-4426-B ┆            ┆            ┆   ┆ rtsPage   ┆      ┆ BCB3-4B29 ┆           │\n",
       "│ 7AF-8F3E18 ┆ 6E6-02C9AF ┆            ┆            ┆   ┆           ┆      ┆ -AE9C-FFF ┆           │\n",
       "│ …          ┆ …          ┆            ┆            ┆   ┆           ┆      ┆ FB0…      ┆           │\n",
       "│ EFBB7C98-4 ┆ 2EB60CDE-B ┆ NULL       ┆ E4-3-1     ┆ … ┆ ServicePa ┆ null ┆ 93CC4405- ┆ null      │\n",
       "│ 640-4984-8 ┆ 607-4C16-8 ┆            ┆            ┆   ┆ rtsPage   ┆      ┆ 77D0-4654 ┆           │\n",
       "│ 654-83DCAF ┆ E28-D41CB3 ┆            ┆            ┆   ┆           ┆      ┆ -8EC8-FFF ┆           │\n",
       "│ …          ┆ …          ┆            ┆            ┆   ┆           ┆      ┆ FBB…      ┆           │\n",
       "│ 4DBA2F0E-0 ┆ 028637BE-C ┆ NULL       ┆ F5-2-62    ┆ … ┆ ServicePa ┆ null ┆ E13C0321- ┆ null      │\n",
       "│ 213-43B9-8 ┆ 610-42FF-8 ┆            ┆            ┆   ┆ rtsPage   ┆      ┆ 9F50-4993 ┆           │\n",
       "│ 429-2074E4 ┆ 84B-734417 ┆            ┆            ┆   ┆           ┆      ┆ -904F-FFF ┆           │\n",
       "│ …          ┆ …          ┆            ┆            ┆   ┆           ┆      ┆ FC5…      ┆           │\n",
       "│ C5EE1ED5-D ┆ D2B2C13C-6 ┆ NULL       ┆ F1-19-1    ┆ … ┆ ServicePa ┆ null ┆ E88DA21B- ┆ null      │\n",
       "│ F70-4E2E-B ┆ 006-4C2E-A ┆            ┆            ┆   ┆ rtsPage   ┆      ┆ B242-4EB6 ┆           │\n",
       "│ 537-F9DDBB ┆ 956-2ECC09 ┆            ┆            ┆   ┆           ┆      ┆ -8308-FFF ┆           │\n",
       "│ …          ┆ …          ┆            ┆            ┆   ┆           ┆      ┆ FDC…      ┆           │\n",
       "└────────────┴────────────┴────────────┴────────────┴───┴───────────┴──────┴───────────┴───────────┘"
      ]
     },
     "execution_count": 55,
     "metadata": {},
     "output_type": "execute_result"
    }
   ],
   "source": [
    "CS"
   ]
  },
  {
   "cell_type": "code",
   "execution_count": 56,
   "id": "cbc29ddd",
   "metadata": {},
   "outputs": [
    {
     "data": {
      "text/html": [
       "<div><style>\n",
       ".dataframe > thead > tr,\n",
       ".dataframe > tbody > tr {\n",
       "  text-align: right;\n",
       "  white-space: pre-wrap;\n",
       "}\n",
       "</style>\n",
       "<small>shape: (66_052, 5)</small><table border=\"1\" class=\"dataframe\"><thead><tr><th>VinLockCacheID</th><th>IsExternal</th><th>CreationDate</th><th>CatalogTreeNodeID</th><th>SerialNumber</th></tr><tr><td>str</td><td>i64</td><td>str</td><td>str</td><td>i64</td></tr></thead><tbody><tr><td>&quot;5F6C005C-CF84-450A-8E64-00055F…</td><td>0</td><td>&quot;2016-03-03 09:50:40.890&quot;</td><td>&quot;D85EB856-C8D1-492C-9E4D-A93BC6…</td><td>2134974</td></tr><tr><td>&quot;C24A5E52-19AC-4493-8FBD-0005D1…</td><td>0</td><td>&quot;2016-03-02 02:53:49.557&quot;</td><td>&quot;173D3648-9B01-4F65-B413-FC1F24…</td><td>2073513</td></tr><tr><td>&quot;8AB187E5-B365-427D-99D0-000850…</td><td>0</td><td>&quot;2016-02-29 18:19:55.480&quot;</td><td>&quot;E86296B9-8D4D-4E44-A136-3C8883…</td><td>1756268</td></tr><tr><td>&quot;3ABA9037-6178-4097-8CEB-000853…</td><td>0</td><td>&quot;2016-03-01 12:29:20.223&quot;</td><td>&quot;029CE0FA-D89C-4AEA-90D5-56A03B…</td><td>2184081</td></tr><tr><td>&quot;6A90EEED-4272-42E8-A951-000BDD…</td><td>0</td><td>&quot;2016-02-26 14:03:37.580&quot;</td><td>&quot;FD347C33-5773-4A92-B213-6B023F…</td><td>2182633</td></tr><tr><td>&hellip;</td><td>&hellip;</td><td>&hellip;</td><td>&hellip;</td><td>&hellip;</td></tr><tr><td>&quot;E1470A6E-8A68-425D-9161-FFFD8E…</td><td>1</td><td>&quot;2016-03-01 11:51:29.070&quot;</td><td>&quot;C0172550-D935-4429-9F79-0090B3…</td><td>2268411</td></tr><tr><td>&quot;9B7D17C1-4957-4901-ADEF-FFFD96…</td><td>0</td><td>&quot;2016-03-04 19:59:10.650&quot;</td><td>&quot;4C1BF73E-5730-4380-9671-BF64C1…</td><td>2197596</td></tr><tr><td>&quot;F3839D73-E587-49D6-A4D0-FFFE71…</td><td>0</td><td>&quot;2016-02-26 11:51:29.530&quot;</td><td>&quot;F9B51F8C-6E7D-4C21-892F-18A610…</td><td>2354909</td></tr><tr><td>&quot;F4693BD8-EEC0-4B3C-86B2-FFFF00…</td><td>0</td><td>&quot;2016-03-01 12:34:48.060&quot;</td><td>&quot;4E9241DA-4D98-4C0A-9908-FC486F…</td><td>1781721</td></tr><tr><td>&quot;D2810F34-6623-422F-B9D7-FFFF33…</td><td>0</td><td>&quot;2016-03-02 14:23:03.637&quot;</td><td>&quot;46B055D6-9B96-48B7-B11B-88E226…</td><td>2353012</td></tr></tbody></table></div>"
      ],
      "text/plain": [
       "shape: (66_052, 5)\n",
       "┌───────────────────────────┬────────────┬──────────────┬───────────────────────────┬──────────────┐\n",
       "│ VinLockCacheID            ┆ IsExternal ┆ CreationDate ┆ CatalogTreeNodeID         ┆ SerialNumber │\n",
       "│ ---                       ┆ ---        ┆ ---          ┆ ---                       ┆ ---          │\n",
       "│ str                       ┆ i64        ┆ str          ┆ str                       ┆ i64          │\n",
       "╞═══════════════════════════╪════════════╪══════════════╪═══════════════════════════╪══════════════╡\n",
       "│ 5F6C005C-CF84-450A-8E64-0 ┆ 0          ┆ 2016-03-03   ┆ D85EB856-C8D1-492C-9E4D-A ┆ 2134974      │\n",
       "│ 0055F…                    ┆            ┆ 09:50:40.890 ┆ 93BC6…                    ┆              │\n",
       "│ C24A5E52-19AC-4493-8FBD-0 ┆ 0          ┆ 2016-03-02   ┆ 173D3648-9B01-4F65-B413-F ┆ 2073513      │\n",
       "│ 005D1…                    ┆            ┆ 02:53:49.557 ┆ C1F24…                    ┆              │\n",
       "│ 8AB187E5-B365-427D-99D0-0 ┆ 0          ┆ 2016-02-29   ┆ E86296B9-8D4D-4E44-A136-3 ┆ 1756268      │\n",
       "│ 00850…                    ┆            ┆ 18:19:55.480 ┆ C8883…                    ┆              │\n",
       "│ 3ABA9037-6178-4097-8CEB-0 ┆ 0          ┆ 2016-03-01   ┆ 029CE0FA-D89C-4AEA-90D5-5 ┆ 2184081      │\n",
       "│ 00853…                    ┆            ┆ 12:29:20.223 ┆ 6A03B…                    ┆              │\n",
       "│ 6A90EEED-4272-42E8-A951-0 ┆ 0          ┆ 2016-02-26   ┆ FD347C33-5773-4A92-B213-6 ┆ 2182633      │\n",
       "│ 00BDD…                    ┆            ┆ 14:03:37.580 ┆ B023F…                    ┆              │\n",
       "│ …                         ┆ …          ┆ …            ┆ …                         ┆ …            │\n",
       "│ E1470A6E-8A68-425D-9161-F ┆ 1          ┆ 2016-03-01   ┆ C0172550-D935-4429-9F79-0 ┆ 2268411      │\n",
       "│ FFD8E…                    ┆            ┆ 11:51:29.070 ┆ 090B3…                    ┆              │\n",
       "│ 9B7D17C1-4957-4901-ADEF-F ┆ 0          ┆ 2016-03-04   ┆ 4C1BF73E-5730-4380-9671-B ┆ 2197596      │\n",
       "│ FFD96…                    ┆            ┆ 19:59:10.650 ┆ F64C1…                    ┆              │\n",
       "│ F3839D73-E587-49D6-A4D0-F ┆ 0          ┆ 2016-02-26   ┆ F9B51F8C-6E7D-4C21-892F-1 ┆ 2354909      │\n",
       "│ FFE71…                    ┆            ┆ 11:51:29.530 ┆ 8A610…                    ┆              │\n",
       "│ F4693BD8-EEC0-4B3C-86B2-F ┆ 0          ┆ 2016-03-01   ┆ 4E9241DA-4D98-4C0A-9908-F ┆ 1781721      │\n",
       "│ FFF00…                    ┆            ┆ 12:34:48.060 ┆ C486F…                    ┆              │\n",
       "│ D2810F34-6623-422F-B9D7-F ┆ 0          ┆ 2016-03-02   ┆ 46B055D6-9B96-48B7-B11B-8 ┆ 2353012      │\n",
       "│ FFF33…                    ┆            ┆ 14:23:03.637 ┆ 8E226…                    ┆              │\n",
       "└───────────────────────────┴────────────┴──────────────┴───────────────────────────┴──────────────┘"
      ]
     },
     "execution_count": 56,
     "metadata": {},
     "output_type": "execute_result"
    }
   ],
   "source": [
    "dfV"
   ]
  },
  {
   "cell_type": "code",
   "execution_count": 86,
   "id": "1501828f",
   "metadata": {},
   "outputs": [],
   "source": [
    "CSV = CS.join(dfV, on=\"CatalogTreeNodeID\")\n"
   ]
  },
  {
   "cell_type": "code",
   "execution_count": 87,
   "id": "2f12bf53",
   "metadata": {},
   "outputs": [],
   "source": [
    "CSV = CSV[[\"Number\", \"SerialNumber\", \"ServicePartsPageID\", \"GenericServicePartsPageID\"]]\n"
   ]
  },
  {
   "cell_type": "code",
   "execution_count": 88,
   "id": "3ccd630f",
   "metadata": {},
   "outputs": [],
   "source": [
    "CSV = CSV.unique().drop_nans().drop_nulls()"
   ]
  },
  {
   "cell_type": "code",
   "execution_count": 89,
   "id": "0c15ccab",
   "metadata": {},
   "outputs": [
    {
     "data": {
      "text/html": [
       "<div><style>\n",
       ".dataframe > thead > tr,\n",
       ".dataframe > tbody > tr {\n",
       "  text-align: right;\n",
       "  white-space: pre-wrap;\n",
       "}\n",
       "</style>\n",
       "<small>shape: (56_329, 4)</small><table border=\"1\" class=\"dataframe\"><thead><tr><th>Number</th><th>SerialNumber</th><th>ServicePartsPageID</th><th>GenericServicePartsPageID</th></tr><tr><td>str</td><td>i64</td><td>str</td><td>str</td></tr></thead><tbody><tr><td>&quot;L720-10-1&quot;</td><td>1757292</td><td>&quot;76063748-CB22-4DC5-8E41-3E477C…</td><td>&quot;C86B4C66-E958-415C-BEF4-46D34A…</td></tr><tr><td>&quot;B580-40-1&quot;</td><td>1449991</td><td>&quot;769A4EC3-A869-4F5A-82B5-3AC180…</td><td>&quot;B3083251-996E-42E8-AC14-960231…</td></tr><tr><td>&quot;C100-45-1&quot;</td><td>2366268</td><td>&quot;FA278691-78E8-4849-A86B-D6938D…</td><td>&quot;AD27F928-E511-4E1C-87EC-A85EF1…</td></tr><tr><td>&quot;L640-100-1&quot;</td><td>2201012</td><td>&quot;3E194E36-675B-405A-9039-679D0A…</td><td>&quot;B3969038-6353-4750-936C-A5D492…</td></tr><tr><td>&quot;L710-30-1&quot;</td><td>2136462</td><td>&quot;5F8D5C20-9BB6-4929-B396-670FB2…</td><td>&quot;2872FDA1-F33E-4ED2-80B0-A0051D…</td></tr><tr><td>&hellip;</td><td>&hellip;</td><td>&hellip;</td><td>&hellip;</td></tr><tr><td>&quot;B570-1-1&quot;</td><td>2196453</td><td>&quot;67B18D3A-7DA6-4850-AFCC-0A99F1…</td><td>&quot;15DD725A-94F1-4F35-B890-076181…</td></tr><tr><td>&quot;E390-1-1&quot;</td><td>2184081</td><td>&quot;934730FA-B542-48F7-B171-BA0732…</td><td>&quot;B800CD42-7BDA-41C8-BE9F-62263F…</td></tr><tr><td>&quot;V180-1-1&quot;</td><td>2184075</td><td>&quot;9777A86A-EBCA-4E27-BD89-3A9549…</td><td>&quot;35C4AE68-7671-4ECB-A7DF-0A04F3…</td></tr><tr><td>&quot;C340-80-1&quot;</td><td>2313986</td><td>&quot;B9B43440-702B-4077-BDA2-233C64…</td><td>&quot;BA92D014-FED6-40E2-A5B1-CB2F9C…</td></tr><tr><td>&quot;E190-1-1&quot;</td><td>2184081</td><td>&quot;522B39DC-4027-4750-9DC0-BA1BB8…</td><td>&quot;988B31D1-6464-42AD-BF37-28B7D7…</td></tr></tbody></table></div>"
      ],
      "text/plain": [
       "shape: (56_329, 4)\n",
       "┌────────────┬──────────────┬─────────────────────────────────┬─────────────────────────────────┐\n",
       "│ Number     ┆ SerialNumber ┆ ServicePartsPageID              ┆ GenericServicePartsPageID       │\n",
       "│ ---        ┆ ---          ┆ ---                             ┆ ---                             │\n",
       "│ str        ┆ i64          ┆ str                             ┆ str                             │\n",
       "╞════════════╪══════════════╪═════════════════════════════════╪═════════════════════════════════╡\n",
       "│ L720-10-1  ┆ 1757292      ┆ 76063748-CB22-4DC5-8E41-3E477C… ┆ C86B4C66-E958-415C-BEF4-46D34A… │\n",
       "│ B580-40-1  ┆ 1449991      ┆ 769A4EC3-A869-4F5A-82B5-3AC180… ┆ B3083251-996E-42E8-AC14-960231… │\n",
       "│ C100-45-1  ┆ 2366268      ┆ FA278691-78E8-4849-A86B-D6938D… ┆ AD27F928-E511-4E1C-87EC-A85EF1… │\n",
       "│ L640-100-1 ┆ 2201012      ┆ 3E194E36-675B-405A-9039-679D0A… ┆ B3969038-6353-4750-936C-A5D492… │\n",
       "│ L710-30-1  ┆ 2136462      ┆ 5F8D5C20-9BB6-4929-B396-670FB2… ┆ 2872FDA1-F33E-4ED2-80B0-A0051D… │\n",
       "│ …          ┆ …            ┆ …                               ┆ …                               │\n",
       "│ B570-1-1   ┆ 2196453      ┆ 67B18D3A-7DA6-4850-AFCC-0A99F1… ┆ 15DD725A-94F1-4F35-B890-076181… │\n",
       "│ E390-1-1   ┆ 2184081      ┆ 934730FA-B542-48F7-B171-BA0732… ┆ B800CD42-7BDA-41C8-BE9F-62263F… │\n",
       "│ V180-1-1   ┆ 2184075      ┆ 9777A86A-EBCA-4E27-BD89-3A9549… ┆ 35C4AE68-7671-4ECB-A7DF-0A04F3… │\n",
       "│ C340-80-1  ┆ 2313986      ┆ B9B43440-702B-4077-BDA2-233C64… ┆ BA92D014-FED6-40E2-A5B1-CB2F9C… │\n",
       "│ E190-1-1   ┆ 2184081      ┆ 522B39DC-4027-4750-9DC0-BA1BB8… ┆ 988B31D1-6464-42AD-BF37-28B7D7… │\n",
       "└────────────┴──────────────┴─────────────────────────────────┴─────────────────────────────────┘"
      ]
     },
     "execution_count": 89,
     "metadata": {},
     "output_type": "execute_result"
    }
   ],
   "source": [
    "CSV"
   ]
  },
  {
   "cell_type": "code",
   "execution_count": 69,
   "id": "c79d7ca3",
   "metadata": {},
   "outputs": [
    {
     "data": {
      "text/html": [
       "<div><style>\n",
       ".dataframe > thead > tr,\n",
       ".dataframe > tbody > tr {\n",
       "  text-align: right;\n",
       "  white-space: pre-wrap;\n",
       "}\n",
       "</style>\n",
       "<small>shape: (1, 4)</small><table border=\"1\" class=\"dataframe\"><thead><tr><th>Number</th><th>SerialNumber</th><th>ServicePartsPageID</th><th>GenericServicePartsPageID</th></tr><tr><td>u32</td><td>u32</td><td>u32</td><td>u32</td></tr></thead><tbody><tr><td>8100</td><td>177</td><td>16981</td><td>12685</td></tr></tbody></table></div>"
      ],
      "text/plain": [
       "shape: (1, 4)\n",
       "┌────────┬──────────────┬────────────────────┬───────────────────────────┐\n",
       "│ Number ┆ SerialNumber ┆ ServicePartsPageID ┆ GenericServicePartsPageID │\n",
       "│ ---    ┆ ---          ┆ ---                ┆ ---                       │\n",
       "│ u32    ┆ u32          ┆ u32                ┆ u32                       │\n",
       "╞════════╪══════════════╪════════════════════╪═══════════════════════════╡\n",
       "│ 8100   ┆ 177          ┆ 16981              ┆ 12685                     │\n",
       "└────────┴──────────────┴────────────────────┴───────────────────────────┘"
      ]
     },
     "execution_count": 69,
     "metadata": {},
     "output_type": "execute_result"
    }
   ],
   "source": [
    "CSV.select([\n",
    "    pl.col(col).n_unique().alias(col) for col in CSV.columns\n",
    "])"
   ]
  },
  {
   "cell_type": "code",
   "execution_count": 82,
   "id": "39a04d37",
   "metadata": {},
   "outputs": [],
   "source": [
    "df = pl.read_csv(\"C:/Users/user/Desktop/data9225.csv\")"
   ]
  },
  {
   "cell_type": "code",
   "execution_count": 83,
   "id": "5ec0341a",
   "metadata": {},
   "outputs": [],
   "source": [
    "g = pl.read_csv(\"C:/Users/user/Desktop/GSPPall.csv\")"
   ]
  },
  {
   "cell_type": "code",
   "execution_count": 84,
   "id": "70907b23",
   "metadata": {},
   "outputs": [],
   "source": [
    "data = g.join(\n",
    "    CSV,\n",
    "    on=[\"GenericServicePartsPageID\", \"Number\"],\n",
    "    how=\"inner\"  # или \"left\", \"outer\", \"semi\" — в зависимости от нужного результата\n",
    ")"
   ]
  },
  {
   "cell_type": "code",
   "execution_count": 85,
   "id": "c319e66f",
   "metadata": {},
   "outputs": [
    {
     "data": {
      "text/html": [
       "<div><style>\n",
       ".dataframe > thead > tr,\n",
       ".dataframe > tbody > tr {\n",
       "  text-align: right;\n",
       "  white-space: pre-wrap;\n",
       "}\n",
       "</style>\n",
       "<small>shape: (56_319, 6)</small><table border=\"1\" class=\"dataframe\"><thead><tr><th>Number</th><th>GenericServicePartsPageID</th><th>DrawingName</th><th>Number1</th><th>SerialNumber</th><th>ServicePartsPageID</th></tr><tr><td>str</td><td>str</td><td>str</td><td>str</td><td>i64</td><td>str</td></tr></thead><tbody><tr><td>&quot;E3-30-1&quot;</td><td>&quot;ADD4A288-552B-4AEE-8CD2-5F9E84…</td><td>&quot;000000&quot;</td><td>&quot;E3-30-1&quot;</td><td>1545144</td><td>&quot;7D6DEDC3-B72E-406B-B5DC-2749C5…</td></tr><tr><td>&quot;C3-8-1&quot;</td><td>&quot;6F7F350E-6BB8-4014-A560-63EE10…</td><td>&quot;796341&quot;</td><td>&quot;C3-8-1&quot;</td><td>1545144</td><td>&quot;0FC46EF6-B962-46FC-908F-52547E…</td></tr><tr><td>&quot;E190-9-1&quot;</td><td>&quot;1D94B2E8-58EF-4928-8B81-5932B7…</td><td>&quot;333-R3291-1&quot;</td><td>&quot;333/R3291 1&quot;</td><td>2063074</td><td>&quot;F3513433-E8C1-49A6-934A-00004D…</td></tr><tr><td>&quot;E190-9-1&quot;</td><td>&quot;1D94B2E8-58EF-4928-8B81-5932B7…</td><td>&quot;333-R3291-1&quot;</td><td>&quot;333/R3291 1&quot;</td><td>2313108</td><td>&quot;2E1D9274-F552-4CCC-B71F-ECBC79…</td></tr><tr><td>&quot;E190-9-1&quot;</td><td>&quot;1D94B2E8-58EF-4928-8B81-5932B7…</td><td>&quot;333-R3291-1&quot;</td><td>&quot;333/R3291 1&quot;</td><td>2312971</td><td>&quot;2E1D9274-F552-4CCC-B71F-ECBC79…</td></tr><tr><td>&hellip;</td><td>&hellip;</td><td>&hellip;</td><td>&hellip;</td><td>&hellip;</td><td>&hellip;</td></tr><tr><td>&quot;B150-7-1&quot;</td><td>&quot;42FDA7DB-916D-4227-BC6B-6D6CAA…</td><td>&quot;332-D3288-2&quot;</td><td>&quot;332/D3288 2&quot;</td><td>2434570</td><td>&quot;2B42887D-1F28-402E-ABE5-FFE4C5…</td></tr><tr><td>&quot;B150-7-1&quot;</td><td>&quot;42FDA7DB-916D-4227-BC6B-6D6CAA…</td><td>&quot;332-D3288-2&quot;</td><td>&quot;332/D3288 2&quot;</td><td>2437957</td><td>&quot;2B42887D-1F28-402E-ABE5-FFE4C5…</td></tr><tr><td>&quot;B150-7-1&quot;</td><td>&quot;42FDA7DB-916D-4227-BC6B-6D6CAA…</td><td>&quot;332-D3288-2&quot;</td><td>&quot;332/D3288 2&quot;</td><td>2433987</td><td>&quot;2B42887D-1F28-402E-ABE5-FFE4C5…</td></tr><tr><td>&quot;B150-7-1&quot;</td><td>&quot;42FDA7DB-916D-4227-BC6B-6D6CAA…</td><td>&quot;332-D3288-2&quot;</td><td>&quot;332/D3288 2&quot;</td><td>2437774</td><td>&quot;2B42887D-1F28-402E-ABE5-FFE4C5…</td></tr><tr><td>&quot;D300-70-1&quot;</td><td>&quot;A5BFB0CD-A2F5-48A2-9BEC-77C526…</td><td>&quot;333-L1002-2&quot;</td><td>&quot;333/D4581 2&quot;</td><td>1449991</td><td>&quot;2419CE29-C1E2-4637-BE11-FFFEE6…</td></tr></tbody></table></div>"
      ],
      "text/plain": [
       "shape: (56_319, 6)\n",
       "┌───────────┬─────────────────────┬─────────────┬─────────────┬──────────────┬─────────────────────┐\n",
       "│ Number    ┆ GenericServiceParts ┆ DrawingName ┆ Number1     ┆ SerialNumber ┆ ServicePartsPageID  │\n",
       "│ ---       ┆ PageID              ┆ ---         ┆ ---         ┆ ---          ┆ ---                 │\n",
       "│ str       ┆ ---                 ┆ str         ┆ str         ┆ i64          ┆ str                 │\n",
       "│           ┆ str                 ┆             ┆             ┆              ┆                     │\n",
       "╞═══════════╪═════════════════════╪═════════════╪═════════════╪══════════════╪═════════════════════╡\n",
       "│ E3-30-1   ┆ ADD4A288-552B-4AEE- ┆ 000000      ┆ E3-30-1     ┆ 1545144      ┆ 7D6DEDC3-B72E-406B- │\n",
       "│           ┆ 8CD2-5F9E84…        ┆             ┆             ┆              ┆ B5DC-2749C5…        │\n",
       "│ C3-8-1    ┆ 6F7F350E-6BB8-4014- ┆ 796341      ┆ C3-8-1      ┆ 1545144      ┆ 0FC46EF6-B962-46FC- │\n",
       "│           ┆ A560-63EE10…        ┆             ┆             ┆              ┆ 908F-52547E…        │\n",
       "│ E190-9-1  ┆ 1D94B2E8-58EF-4928- ┆ 333-R3291-1 ┆ 333/R3291 1 ┆ 2063074      ┆ F3513433-E8C1-49A6- │\n",
       "│           ┆ 8B81-5932B7…        ┆             ┆             ┆              ┆ 934A-00004D…        │\n",
       "│ E190-9-1  ┆ 1D94B2E8-58EF-4928- ┆ 333-R3291-1 ┆ 333/R3291 1 ┆ 2313108      ┆ 2E1D9274-F552-4CCC- │\n",
       "│           ┆ 8B81-5932B7…        ┆             ┆             ┆              ┆ B71F-ECBC79…        │\n",
       "│ E190-9-1  ┆ 1D94B2E8-58EF-4928- ┆ 333-R3291-1 ┆ 333/R3291 1 ┆ 2312971      ┆ 2E1D9274-F552-4CCC- │\n",
       "│           ┆ 8B81-5932B7…        ┆             ┆             ┆              ┆ B71F-ECBC79…        │\n",
       "│ …         ┆ …                   ┆ …           ┆ …           ┆ …            ┆ …                   │\n",
       "│ B150-7-1  ┆ 42FDA7DB-916D-4227- ┆ 332-D3288-2 ┆ 332/D3288 2 ┆ 2434570      ┆ 2B42887D-1F28-402E- │\n",
       "│           ┆ BC6B-6D6CAA…        ┆             ┆             ┆              ┆ ABE5-FFE4C5…        │\n",
       "│ B150-7-1  ┆ 42FDA7DB-916D-4227- ┆ 332-D3288-2 ┆ 332/D3288 2 ┆ 2437957      ┆ 2B42887D-1F28-402E- │\n",
       "│           ┆ BC6B-6D6CAA…        ┆             ┆             ┆              ┆ ABE5-FFE4C5…        │\n",
       "│ B150-7-1  ┆ 42FDA7DB-916D-4227- ┆ 332-D3288-2 ┆ 332/D3288 2 ┆ 2433987      ┆ 2B42887D-1F28-402E- │\n",
       "│           ┆ BC6B-6D6CAA…        ┆             ┆             ┆              ┆ ABE5-FFE4C5…        │\n",
       "│ B150-7-1  ┆ 42FDA7DB-916D-4227- ┆ 332-D3288-2 ┆ 332/D3288 2 ┆ 2437774      ┆ 2B42887D-1F28-402E- │\n",
       "│           ┆ BC6B-6D6CAA…        ┆             ┆             ┆              ┆ ABE5-FFE4C5…        │\n",
       "│ D300-70-1 ┆ A5BFB0CD-A2F5-48A2- ┆ 333-L1002-2 ┆ 333/D4581 2 ┆ 1449991      ┆ 2419CE29-C1E2-4637- │\n",
       "│           ┆ 9BEC-77C526…        ┆             ┆             ┆              ┆ BE11-FFFEE6…        │\n",
       "└───────────┴─────────────────────┴─────────────┴─────────────┴──────────────┴─────────────────────┘"
      ]
     },
     "execution_count": 85,
     "metadata": {},
     "output_type": "execute_result"
    }
   ],
   "source": [
    "data"
   ]
  },
  {
   "cell_type": "code",
   "execution_count": 90,
   "id": "c4866565",
   "metadata": {},
   "outputs": [],
   "source": [
    "data = data.with_columns([\n",
    "    pl.col(\"Number\").str.strip_chars(),\n",
    "    pl.col(\"DrawingName\").str.strip_chars()\n",
    "])\n",
    "\n",
    "df = df.with_columns([\n",
    "    pl.col(\"sub_part\").str.strip_chars(),\n",
    "    pl.col(\"drawing_name\").str.strip_chars()\n",
    "])\n"
   ]
  },
  {
   "cell_type": "code",
   "execution_count": null,
   "id": "dbeb5919",
   "metadata": {},
   "outputs": [],
   "source": [
    "\n",
    "dfa = data.join(\n",
    "    df,\n",
    "    right_on=[\"part\", ],\n",
    "    left_on=[\"Number\"],\n",
    "    how=\"inner\"  # или \"left\", \"outer\", \"semi\" — в зависимости от нужного результата\n",
    ")"
   ]
  },
  {
   "cell_type": "code",
   "execution_count": 96,
   "id": "12e23494",
   "metadata": {},
   "outputs": [
    {
     "data": {
      "text/html": [
       "<div><style>\n",
       ".dataframe > thead > tr,\n",
       ".dataframe > tbody > tr {\n",
       "  text-align: right;\n",
       "  white-space: pre-wrap;\n",
       "}\n",
       "</style>\n",
       "<small>shape: (0, 22)</small><table border=\"1\" class=\"dataframe\"><thead><tr><th>Number</th><th>GenericServicePartsPageID</th><th>DrawingName</th><th>Number1</th><th>SerialNumber</th><th>ServicePartsPageID</th><th>Unnamed: 0</th><th>model</th><th>part</th><th>title</th><th>description</th><th>description_right</th><th>drawing_name</th><th>item_number</th><th>image_url</th><th>url</th><th>description_cleaned</th><th>title_cleaned</th><th>description_cleaned_cleaned</th><th>title_cleaned_cleaned</th><th>cat_title_cleaned_cleaned_y</th><th>combined_name</th></tr><tr><td>str</td><td>str</td><td>str</td><td>str</td><td>i64</td><td>str</td><td>i64</td><td>str</td><td>str</td><td>str</td><td>str</td><td>str</td><td>str</td><td>str</td><td>str</td><td>str</td><td>str</td><td>str</td><td>str</td><td>str</td><td>str</td><td>str</td></tr></thead><tbody></tbody></table></div>"
      ],
      "text/plain": [
       "shape: (0, 22)\n",
       "┌────────┬────────────┬────────────┬─────────┬───┬────────────┬────────────┬───────────┬───────────┐\n",
       "│ Number ┆ GenericSer ┆ DrawingNam ┆ Number1 ┆ … ┆ descriptio ┆ title_clea ┆ cat_title ┆ combined_ │\n",
       "│ ---    ┆ vicePartsP ┆ e          ┆ ---     ┆   ┆ n_cleaned_ ┆ ned_cleane ┆ _cleaned_ ┆ name      │\n",
       "│ str    ┆ ageID      ┆ ---        ┆ str     ┆   ┆ cleaned    ┆ d          ┆ cleaned_y ┆ ---       │\n",
       "│        ┆ ---        ┆ str        ┆         ┆   ┆ ---        ┆ ---        ┆ ---       ┆ str       │\n",
       "│        ┆ str        ┆            ┆         ┆   ┆ str        ┆ str        ┆ str       ┆           │\n",
       "╞════════╪════════════╪════════════╪═════════╪═══╪════════════╪════════════╪═══════════╪═══════════╡\n",
       "└────────┴────────────┴────────────┴─────────┴───┴────────────┴────────────┴───────────┴───────────┘"
      ]
     },
     "execution_count": 96,
     "metadata": {},
     "output_type": "execute_result"
    }
   ],
   "source": [
    "dfa"
   ]
  }
 ],
 "metadata": {
  "kernelspec": {
   "display_name": "Python 3",
   "language": "python",
   "name": "python3"
  },
  "language_info": {
   "codemirror_mode": {
    "name": "ipython",
    "version": 3
   },
   "file_extension": ".py",
   "mimetype": "text/x-python",
   "name": "python",
   "nbconvert_exporter": "python",
   "pygments_lexer": "ipython3",
   "version": "3.13.2"
  }
 },
 "nbformat": 4,
 "nbformat_minor": 5
}
